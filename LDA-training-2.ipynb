{
 "cells": [
  {
   "cell_type": "code",
   "execution_count": 1,
   "id": "9ee2b354-5d27-4268-a2d5-2564898267c8",
   "metadata": {},
   "outputs": [],
   "source": [
    "import pickle, time\n",
    "import numpy as np\n",
    "import pandas as pd\n",
    "from sklearn.discriminant_analysis import LinearDiscriminantAnalysis\n",
    "from sklearn.model_selection import train_test_split\n",
    "from sklearn.metrics import accuracy_score\n",
    "from sklearn.preprocessing import StandardScaler\n",
    "from tqdm import tqdm"
   ]
  },
  {
   "cell_type": "markdown",
   "id": "4eba7e46-0b09-4fe5-85b1-04bc0acdad66",
   "metadata": {},
   "source": [
    "## Load Dataset"
   ]
  },
  {
   "cell_type": "code",
   "execution_count": 2,
   "id": "75c2c348-07ce-4b5f-a346-3ed00273793d",
   "metadata": {},
   "outputs": [],
   "source": [
    "file = open('df_hudgin_250_125.pkl', 'rb')\n",
    "df = pickle.load(file)\n",
    "file.close()"
   ]
  },
  {
   "cell_type": "code",
   "execution_count": 3,
   "id": "7dc057e7-e4b9-4db1-9256-1c24d73b369b",
   "metadata": {},
   "outputs": [
    {
     "data": {
      "text/html": [
       "<div>\n",
       "<style scoped>\n",
       "    .dataframe tbody tr th:only-of-type {\n",
       "        vertical-align: middle;\n",
       "    }\n",
       "\n",
       "    .dataframe tbody tr th {\n",
       "        vertical-align: top;\n",
       "    }\n",
       "\n",
       "    .dataframe thead th {\n",
       "        text-align: right;\n",
       "    }\n",
       "</style>\n",
       "<table border=\"1\" class=\"dataframe\">\n",
       "  <thead>\n",
       "    <tr style=\"text-align: right;\">\n",
       "      <th></th>\n",
       "      <th>subject</th>\n",
       "      <th>day</th>\n",
       "      <th>session</th>\n",
       "      <th>motion</th>\n",
       "      <th>repetition</th>\n",
       "      <th>window_emg</th>\n",
       "      <th>mav</th>\n",
       "      <th>wl</th>\n",
       "      <th>ssc</th>\n",
       "      <th>zc</th>\n",
       "    </tr>\n",
       "  </thead>\n",
       "  <tbody>\n",
       "    <tr>\n",
       "      <th>0</th>\n",
       "      <td>sub03</td>\n",
       "      <td>D3</td>\n",
       "      <td>S1</td>\n",
       "      <td>OH</td>\n",
       "      <td>1</td>\n",
       "      <td>[[0.4140625, 0.6015625, -0.203125, -0.2109375,...</td>\n",
       "      <td>[0.26875, 0.1434375, 0.17390625, 0.03375, 0.03...</td>\n",
       "      <td>[18.875, 10.3515625, 14.3125, 2.296875, 2.1562...</td>\n",
       "      <td>[29, 27, 40, 29, 26, 29, 34, 42]</td>\n",
       "      <td>[24, 20, 30, 27, 18, 25, 35, 30]</td>\n",
       "    </tr>\n",
       "    <tr>\n",
       "      <th>1</th>\n",
       "      <td>sub03</td>\n",
       "      <td>D3</td>\n",
       "      <td>S1</td>\n",
       "      <td>OH</td>\n",
       "      <td>1</td>\n",
       "      <td>[[0.2421875, -0.0546875, -0.0078125, 0.015625,...</td>\n",
       "      <td>[0.2403125, 0.09796875, 0.135, 0.0196875, 0.02...</td>\n",
       "      <td>[18.3125, 6.9453125, 12.1015625, 1.4375, 2.218...</td>\n",
       "      <td>[33, 31, 41, 29, 33, 28, 37, 34]</td>\n",
       "      <td>[28, 19, 35, 21, 26, 25, 36, 28]</td>\n",
       "    </tr>\n",
       "    <tr>\n",
       "      <th>2</th>\n",
       "      <td>sub03</td>\n",
       "      <td>D3</td>\n",
       "      <td>S1</td>\n",
       "      <td>OH</td>\n",
       "      <td>1</td>\n",
       "      <td>[[-0.5546875, -0.125, -0.0625, -0.0234375, -0....</td>\n",
       "      <td>[0.153125, 0.1021875, 0.130625, 0.01890625, 0....</td>\n",
       "      <td>[11.6640625, 7.6328125, 12.078125, 1.3125, 1.9...</td>\n",
       "      <td>[31, 31, 40, 29, 29, 25, 37, 25]</td>\n",
       "      <td>[29, 26, 37, 18, 25, 22, 29, 24]</td>\n",
       "    </tr>\n",
       "  </tbody>\n",
       "</table>\n",
       "</div>"
      ],
      "text/plain": [
       "  subject day session motion  repetition  \\\n",
       "0   sub03  D3      S1     OH           1   \n",
       "1   sub03  D3      S1     OH           1   \n",
       "2   sub03  D3      S1     OH           1   \n",
       "\n",
       "                                          window_emg  \\\n",
       "0  [[0.4140625, 0.6015625, -0.203125, -0.2109375,...   \n",
       "1  [[0.2421875, -0.0546875, -0.0078125, 0.015625,...   \n",
       "2  [[-0.5546875, -0.125, -0.0625, -0.0234375, -0....   \n",
       "\n",
       "                                                 mav  \\\n",
       "0  [0.26875, 0.1434375, 0.17390625, 0.03375, 0.03...   \n",
       "1  [0.2403125, 0.09796875, 0.135, 0.0196875, 0.02...   \n",
       "2  [0.153125, 0.1021875, 0.130625, 0.01890625, 0....   \n",
       "\n",
       "                                                  wl  \\\n",
       "0  [18.875, 10.3515625, 14.3125, 2.296875, 2.1562...   \n",
       "1  [18.3125, 6.9453125, 12.1015625, 1.4375, 2.218...   \n",
       "2  [11.6640625, 7.6328125, 12.078125, 1.3125, 1.9...   \n",
       "\n",
       "                                ssc                                zc  \n",
       "0  [29, 27, 40, 29, 26, 29, 34, 42]  [24, 20, 30, 27, 18, 25, 35, 30]  \n",
       "1  [33, 31, 41, 29, 33, 28, 37, 34]  [28, 19, 35, 21, 26, 25, 36, 28]  \n",
       "2  [31, 31, 40, 29, 29, 25, 37, 25]  [29, 26, 37, 18, 25, 22, 29, 24]  "
      ]
     },
     "execution_count": 3,
     "metadata": {},
     "output_type": "execute_result"
    }
   ],
   "source": [
    "df.head(3)"
   ]
  },
  {
   "cell_type": "code",
   "execution_count": 4,
   "id": "76d8049e-f7e2-4ae8-ac7e-42351ef93e24",
   "metadata": {},
   "outputs": [
    {
     "data": {
      "text/plain": [
       "(585900, 10)"
      ]
     },
     "execution_count": 4,
     "metadata": {},
     "output_type": "execute_result"
    }
   ],
   "source": [
    "df.shape"
   ]
  },
  {
   "cell_type": "markdown",
   "id": "3f213c76-63a0-49fe-89d5-c9a08185235b",
   "metadata": {},
   "source": [
    "## Preprocessing"
   ]
  },
  {
   "cell_type": "markdown",
   "id": "5f0377a1-8d2c-4deb-91e8-e925b5b3ff2f",
   "metadata": {},
   "source": [
    "### Convert Labels to Numerics"
   ]
  },
  {
   "cell_type": "code",
   "execution_count": 5,
   "id": "567f355c-f36c-49ca-93c1-75d745d978bc",
   "metadata": {},
   "outputs": [
    {
     "name": "stderr",
     "output_type": "stream",
     "text": [
      "/var/folders/fg/wwsz02rn0qn31sz3qslnnjm80000gn/T/ipykernel_94038/4281264563.py:1: FutureWarning: Downcasting behavior in `replace` is deprecated and will be removed in a future version. To retain the old behavior, explicitly call `result.infer_objects(copy=False)`. To opt-in to the future behavior, set `pd.set_option('future.no_silent_downcasting', True)`\n",
      "  df['label'] = df.motion.replace(\n"
     ]
    }
   ],
   "source": [
    "df['label'] = df.motion.replace(\n",
    "    df.motion.drop_duplicates().tolist(),\n",
    "    [i for i in range(9)]\n",
    ")"
   ]
  },
  {
   "cell_type": "code",
   "execution_count": 9,
   "id": "c620ea7c-aed6-42f8-9f4f-b509f28fc93b",
   "metadata": {},
   "outputs": [
    {
     "data": {
      "text/plain": [
       "label\n",
       "0    65100\n",
       "1    65100\n",
       "2    65100\n",
       "3    65100\n",
       "4    65100\n",
       "5    65100\n",
       "6    65100\n",
       "7    65100\n",
       "8    65100\n",
       "Name: count, dtype: int64"
      ]
     },
     "execution_count": 9,
     "metadata": {},
     "output_type": "execute_result"
    }
   ],
   "source": [
    "df.label.value_counts()"
   ]
  },
  {
   "cell_type": "markdown",
   "id": "c839e511-90a7-48b3-bbc7-2f30e797c649",
   "metadata": {},
   "source": [
    "### Only Account 7 Motions"
   ]
  },
  {
   "cell_type": "code",
   "execution_count": 15,
   "id": "1053e2a9-c6da-48ad-8d8f-b0183a57f8a1",
   "metadata": {},
   "outputs": [],
   "source": [
    "df_7 = df[~df.motion.isin(['IN', 'GR'])]"
   ]
  },
  {
   "cell_type": "code",
   "execution_count": 17,
   "id": "896323a0-f0ee-4ddb-84f2-fa1b9502e3b7",
   "metadata": {},
   "outputs": [
    {
     "data": {
      "text/plain": [
       "motion\n",
       "OH    65100\n",
       "CH    65100\n",
       "EX    65100\n",
       "FL    65100\n",
       "SU    65100\n",
       "PR    65100\n",
       "RT    65100\n",
       "Name: count, dtype: int64"
      ]
     },
     "execution_count": 17,
     "metadata": {},
     "output_type": "execute_result"
    }
   ],
   "source": [
    "df_7.motion.value_counts()"
   ]
  },
  {
   "cell_type": "markdown",
   "id": "f7d1de9d-72bb-474d-a843-e3c185272d7b",
   "metadata": {},
   "source": [
    "### Concat All Features"
   ]
  },
  {
   "cell_type": "code",
   "execution_count": 16,
   "id": "d81aacfc-b9ee-4096-b52b-df37addeabdd",
   "metadata": {},
   "outputs": [],
   "source": [
    "def featurize(data):\n",
    "    \"\"\"\n",
    "    Concatenate MAV, WL, SSC, and ZC features into a long list of features\n",
    "    \"\"\"\n",
    "    features = None\n",
    "\n",
    "    # Concatenate all relevant features\n",
    "    for f in ['mav', 'wl', 'ssc', 'zc']:\n",
    "        if type(features) != type(None):\n",
    "            features = np.concatenate([features, np.vstack(data[f])], axis=1)\n",
    "        else:\n",
    "            features = np.vstack(data[f])\n",
    "\n",
    "    return features"
   ]
  },
  {
   "cell_type": "markdown",
   "id": "293340d7-f330-4483-a7b2-56d5a7960ed1",
   "metadata": {},
   "source": [
    "## Model Training Overall"
   ]
  },
  {
   "cell_type": "code",
   "execution_count": 18,
   "id": "a35de61e-76ff-48ea-bd89-bbf438082f68",
   "metadata": {},
   "outputs": [],
   "source": [
    "subjects = ['sub0' + str(i) for i in range(1, 8)]\n",
    "days = ['D' + str(i) for i in range(1, 16)]\n",
    "sessions = ['S1', 'S2']"
   ]
  },
  {
   "cell_type": "markdown",
   "id": "879d01eb-a718-4047-8c80-1ce392422068",
   "metadata": {},
   "source": [
    "### Within-Session Analysis"
   ]
  },
  {
   "cell_type": "code",
   "execution_count": 151,
   "id": "17c48b1f-9ea6-43ca-8ea4-6767ca0cc86b",
   "metadata": {},
   "outputs": [
    {
     "name": "stderr",
     "output_type": "stream",
     "text": [
      "100%|█████████████████████████████████████████████████████████████████████████████████████████████████████████████████████████████████████████████████████████████████████████████████████████████████████████████████████████████████████████████████████████████████| 7/7 [00:29<00:00,  4.22s/it]\n"
     ]
    }
   ],
   "source": [
    "ws_df = pd.DataFrame(columns=['subject', 'day', 'session', 'performance_cv', 'train_time', 'inference_time'])\n",
    "\n",
    "# Analyse for each subject\n",
    "for sub in tqdm(subjects):\n",
    "    sub_df = df_7[df_7.subject == sub]\n",
    "    \n",
    "    # Analyse each session in each day\n",
    "    for day in days:\n",
    "        day_df = sub_df[sub_df.day == day]\n",
    "\n",
    "        for sess in sessions:\n",
    "            sess_df = day_df[day_df.session == sess]\n",
    "            accuracies = list()\n",
    "            train_times = list()\n",
    "            inf_times = list()\n",
    "            \n",
    "            # Cross-validate 10 folds for each session\n",
    "            for i in range(1, 11):\n",
    "                # Devide test and train dataset\n",
    "                train_df = sess_df[sess_df.repetition != i]\n",
    "                test_df = sess_df[sess_df.repetition == i]\n",
    "\n",
    "                # Set up features\n",
    "                X_train = featurize(train_df)\n",
    "                X_test = featurize(test_df)\n",
    "                y_train = train_df.label.tolist()\n",
    "                y_test = test_df.label.tolist()\n",
    "\n",
    "                # Train Classifier\n",
    "                lda = LinearDiscriminantAnalysis()\n",
    "                start = time.time()\n",
    "                lda.fit(X_train, y_train)\n",
    "                train_time = (time.time() - start) * 1e6 # in microsecond\n",
    "                train_times.append(train_time)\n",
    "\n",
    "                # Get Accuracy\n",
    "                start = time.time()\n",
    "                y_pred = lda.predict(X_test)\n",
    "                inf_time = (time.time() - start) * 1e6 # in microsecond\n",
    "                inf_times.append(inf_time)\n",
    "                accuracy = accuracy_score(y_test, y_pred)\n",
    "\n",
    "                # Save Accuracy\n",
    "                accuracies.append(accuracy)\n",
    "\n",
    "            ws_df.loc[len(ws_df)] = [sub, day, sess, accuracies, train_times, inf_times]"
   ]
  },
  {
   "cell_type": "code",
   "execution_count": 152,
   "id": "76eea790-e0d9-4849-bd08-12a6e92b2044",
   "metadata": {},
   "outputs": [],
   "source": [
    "# Average accross session\n",
    "ws_df['session_mean'] = ws_df.performance_cv.apply(lambda x: np.mean(x))"
   ]
  },
  {
   "cell_type": "code",
   "execution_count": 153,
   "id": "a99803bb-17cd-43fa-98ae-98f7aa5f7c7b",
   "metadata": {},
   "outputs": [],
   "source": [
    "ws_df['train_time_mean'] = ws_df.train_time.apply(lambda x: np.mean(x))"
   ]
  },
  {
   "cell_type": "code",
   "execution_count": 154,
   "id": "c9856c4c-718d-4489-a897-1437ee8d49a9",
   "metadata": {},
   "outputs": [],
   "source": [
    "ws_df['inference_time_mean'] = ws_df.inference_time.apply(lambda x: np.mean(x))"
   ]
  },
  {
   "cell_type": "code",
   "execution_count": 155,
   "id": "5ecb5dc9-4ded-4185-8b5f-80cf705ee810",
   "metadata": {},
   "outputs": [
    {
     "data": {
      "text/html": [
       "<div>\n",
       "<style scoped>\n",
       "    .dataframe tbody tr th:only-of-type {\n",
       "        vertical-align: middle;\n",
       "    }\n",
       "\n",
       "    .dataframe tbody tr th {\n",
       "        vertical-align: top;\n",
       "    }\n",
       "\n",
       "    .dataframe thead th {\n",
       "        text-align: right;\n",
       "    }\n",
       "</style>\n",
       "<table border=\"1\" class=\"dataframe\">\n",
       "  <thead>\n",
       "    <tr style=\"text-align: right;\">\n",
       "      <th></th>\n",
       "      <th>subject</th>\n",
       "      <th>day</th>\n",
       "      <th>session</th>\n",
       "      <th>performance_cv</th>\n",
       "      <th>train_time</th>\n",
       "      <th>inference_time</th>\n",
       "      <th>session_mean</th>\n",
       "      <th>train_time_mean</th>\n",
       "      <th>inference_time_mean</th>\n",
       "    </tr>\n",
       "  </thead>\n",
       "  <tbody>\n",
       "    <tr>\n",
       "      <th>0</th>\n",
       "      <td>sub01</td>\n",
       "      <td>D1</td>\n",
       "      <td>S1</td>\n",
       "      <td>[0.9861751152073732, 0.9769585253456221, 0.986...</td>\n",
       "      <td>[11936.90299987793, 10972.976684570312, 19439....</td>\n",
       "      <td>[112.05673217773438, 184.05914306640625, 87.02...</td>\n",
       "      <td>0.986175</td>\n",
       "      <td>11868.119240</td>\n",
       "      <td>92.935562</td>\n",
       "    </tr>\n",
       "    <tr>\n",
       "      <th>1</th>\n",
       "      <td>sub01</td>\n",
       "      <td>D1</td>\n",
       "      <td>S2</td>\n",
       "      <td>[0.9308755760368663, 1.0, 1.0, 0.9907834101382...</td>\n",
       "      <td>[10228.157043457031, 9017.9443359375, 8841.037...</td>\n",
       "      <td>[78.2012939453125, 186.68174743652344, 71.0487...</td>\n",
       "      <td>0.980184</td>\n",
       "      <td>9368.276596</td>\n",
       "      <td>93.173981</td>\n",
       "    </tr>\n",
       "    <tr>\n",
       "      <th>2</th>\n",
       "      <td>sub01</td>\n",
       "      <td>D2</td>\n",
       "      <td>S1</td>\n",
       "      <td>[0.9723502304147466, 0.9815668202764977, 0.953...</td>\n",
       "      <td>[9402.036666870117, 8732.795715332031, 8440.01...</td>\n",
       "      <td>[66.99562072753906, 131.13021850585938, 81.062...</td>\n",
       "      <td>0.981567</td>\n",
       "      <td>9303.045273</td>\n",
       "      <td>117.182732</td>\n",
       "    </tr>\n",
       "    <tr>\n",
       "      <th>3</th>\n",
       "      <td>sub01</td>\n",
       "      <td>D2</td>\n",
       "      <td>S2</td>\n",
       "      <td>[0.8894009216589862, 0.9815668202764977, 0.949...</td>\n",
       "      <td>[11327.028274536133, 10749.101638793945, 8302....</td>\n",
       "      <td>[69.85664367675781, 49.82948303222656, 160.694...</td>\n",
       "      <td>0.972811</td>\n",
       "      <td>9831.666946</td>\n",
       "      <td>116.276741</td>\n",
       "    </tr>\n",
       "    <tr>\n",
       "      <th>4</th>\n",
       "      <td>sub01</td>\n",
       "      <td>D3</td>\n",
       "      <td>S1</td>\n",
       "      <td>[0.8894009216589862, 0.9447004608294931, 0.995...</td>\n",
       "      <td>[8533.000946044922, 8562.088012695312, 10122.0...</td>\n",
       "      <td>[71.04873657226562, 50.78315734863281, 49.8294...</td>\n",
       "      <td>0.972811</td>\n",
       "      <td>8670.687675</td>\n",
       "      <td>79.751015</td>\n",
       "    </tr>\n",
       "  </tbody>\n",
       "</table>\n",
       "</div>"
      ],
      "text/plain": [
       "  subject day session                                     performance_cv  \\\n",
       "0   sub01  D1      S1  [0.9861751152073732, 0.9769585253456221, 0.986...   \n",
       "1   sub01  D1      S2  [0.9308755760368663, 1.0, 1.0, 0.9907834101382...   \n",
       "2   sub01  D2      S1  [0.9723502304147466, 0.9815668202764977, 0.953...   \n",
       "3   sub01  D2      S2  [0.8894009216589862, 0.9815668202764977, 0.949...   \n",
       "4   sub01  D3      S1  [0.8894009216589862, 0.9447004608294931, 0.995...   \n",
       "\n",
       "                                          train_time  \\\n",
       "0  [11936.90299987793, 10972.976684570312, 19439....   \n",
       "1  [10228.157043457031, 9017.9443359375, 8841.037...   \n",
       "2  [9402.036666870117, 8732.795715332031, 8440.01...   \n",
       "3  [11327.028274536133, 10749.101638793945, 8302....   \n",
       "4  [8533.000946044922, 8562.088012695312, 10122.0...   \n",
       "\n",
       "                                      inference_time  session_mean  \\\n",
       "0  [112.05673217773438, 184.05914306640625, 87.02...      0.986175   \n",
       "1  [78.2012939453125, 186.68174743652344, 71.0487...      0.980184   \n",
       "2  [66.99562072753906, 131.13021850585938, 81.062...      0.981567   \n",
       "3  [69.85664367675781, 49.82948303222656, 160.694...      0.972811   \n",
       "4  [71.04873657226562, 50.78315734863281, 49.8294...      0.972811   \n",
       "\n",
       "   train_time_mean  inference_time_mean  \n",
       "0     11868.119240            92.935562  \n",
       "1      9368.276596            93.173981  \n",
       "2      9303.045273           117.182732  \n",
       "3      9831.666946           116.276741  \n",
       "4      8670.687675            79.751015  "
      ]
     },
     "execution_count": 155,
     "metadata": {},
     "output_type": "execute_result"
    }
   ],
   "source": [
    "ws_df.head()"
   ]
  },
  {
   "cell_type": "code",
   "execution_count": 156,
   "id": "a5548a36-997b-4b1d-b2f0-e668228d4d35",
   "metadata": {},
   "outputs": [
    {
     "data": {
      "text/plain": [
       "(210, 9)"
      ]
     },
     "execution_count": 156,
     "metadata": {},
     "output_type": "execute_result"
    }
   ],
   "source": [
    "ws_df.shape"
   ]
  },
  {
   "cell_type": "code",
   "execution_count": 157,
   "id": "3626d4d9-acbc-48d8-9222-d3ca560110dd",
   "metadata": {},
   "outputs": [
    {
     "data": {
      "text/plain": [
       "0.9472767171384683"
      ]
     },
     "execution_count": 157,
     "metadata": {},
     "output_type": "execute_result"
    }
   ],
   "source": [
    "ws_df.session_mean.mean()"
   ]
  },
  {
   "cell_type": "code",
   "execution_count": 158,
   "id": "edc95fe1-9552-40b5-b4f3-c6e0581ce005",
   "metadata": {},
   "outputs": [
    {
     "name": "stdout",
     "output_type": "stream",
     "text": [
      "9441.832020169213 107.35296067737397\n"
     ]
    }
   ],
   "source": [
    "print(ws_df.train_time_mean.mean(), ws_df.inference_time_mean.mean())"
   ]
  },
  {
   "cell_type": "code",
   "execution_count": 159,
   "id": "31079645-7413-43a1-9be0-6a46a83bf975",
   "metadata": {},
   "outputs": [],
   "source": [
    "# Save dataframe\n",
    "file = open('./analysis/lda-2/within-session-lda.pkl', 'wb')\n",
    "pickle.dump(ws_df, file)\n",
    "file.close()"
   ]
  },
  {
   "cell_type": "markdown",
   "id": "b42adf3b-4eef-4d37-9816-d23cde595cac",
   "metadata": {},
   "source": [
    "### Between-Sessions Analysis"
   ]
  },
  {
   "cell_type": "code",
   "execution_count": 161,
   "id": "8b9d5657-1bab-4080-bef5-ef07b253c764",
   "metadata": {},
   "outputs": [
    {
     "name": "stderr",
     "output_type": "stream",
     "text": [
      "100%|█████████████████████████████████████████████████████████████████████████████████████████████████████████████████████████████████████████████████████████████████████████████████████████████████████████████████████████████████████████████████████████████████| 7/7 [00:29<00:00,  4.28s/it]\n"
     ]
    }
   ],
   "source": [
    "bs_df = pd.DataFrame(columns=['subject', 'day', 'performance_cv', 'train_time', 'inference_time'])\n",
    "\n",
    "# Analyse for each subject\n",
    "for sub in tqdm(subjects):\n",
    "    sub_df = df_7[df_7.subject == sub]\n",
    "    \n",
    "    # Analyse between sessions in a day\n",
    "    for day in days:\n",
    "        day_df = sub_df[sub_df.day == day]\n",
    "        accuracies = list()\n",
    "        train_times = list()\n",
    "        inf_times = list()\n",
    "        sess1_df = day_df[day_df.session == 'S1']\n",
    "        sess2_df = day_df[day_df.session == 'S2']\n",
    "\n",
    "        # Cross-validate 10 folds for each repetition in the other session\n",
    "        for i in range(1, 11):\n",
    "            # Devide test and train dataset\n",
    "            train1_df = sess1_df[sess1_df.repetition != i]\n",
    "            test1_df = sess2_df[sess2_df.repetition == i]\n",
    "            train2_df = sess2_df[sess2_df.repetition != i]\n",
    "            test2_df = sess1_df[sess1_df.repetition == i]\n",
    "\n",
    "            # Set up features\n",
    "            X1_train = featurize(train1_df)\n",
    "            X1_test = featurize(test1_df)\n",
    "            X2_train = featurize(train2_df)\n",
    "            X2_test = featurize(test2_df)\n",
    "            y1_train = train1_df.label.tolist()\n",
    "            y1_test = test1_df.label.tolist()\n",
    "            y2_train = train2_df.label.tolist()\n",
    "            y2_test = test2_df.label.tolist()\n",
    "\n",
    "            # Train Classifier\n",
    "            lda1 = LinearDiscriminantAnalysis()\n",
    "            lda2 = LinearDiscriminantAnalysis()\n",
    "\n",
    "            start1 = time.time() # First model\n",
    "            lda1.fit(X1_train, y1_train)\n",
    "            ttime1 = (time.time() - start1) * 1e6 # in microsecond\n",
    "            train_times.append(ttime1)\n",
    "            \n",
    "            start2 = time.time() # Second model\n",
    "            lda2.fit(X2_train, y2_train)\n",
    "            ttime2 = (time.time() - start2) * 1e6 # in microsecond\n",
    "            train_times.append(ttime2)\n",
    "\n",
    "            # Get Accuracy\n",
    "            start1 = time.time() # First inference\n",
    "            y1_pred = lda1.predict(X1_test)\n",
    "            itime1 = (time.time() - start1) * 1e6 # in microsecond\n",
    "            inf_times.append(itime1)\n",
    "\n",
    "            start2 = time.time() # Second inference\n",
    "            y2_pred = lda2.predict(X2_test)\n",
    "            itime2 = (time.time() - start2) * 1e6 # in microsecond\n",
    "            inf_times.append(itime2)\n",
    "            \n",
    "            acc1 = accuracy_score(y1_test, y1_pred)\n",
    "            acc2 = accuracy_score(y2_test, y2_pred)\n",
    "\n",
    "            # Save Accuracy\n",
    "            accuracies.append(acc1)\n",
    "            accuracies.append(acc2)\n",
    "\n",
    "        bs_df.loc[len(bs_df)] = [sub, day, accuracies, train_times, inf_times]"
   ]
  },
  {
   "cell_type": "code",
   "execution_count": 162,
   "id": "56220ff3-e7e4-4af2-a764-213cf60161f9",
   "metadata": {},
   "outputs": [],
   "source": [
    "bs_df['bs_mean'] = bs_df.performance_cv.apply(lambda x: np.mean(x))\n",
    "bs_df['train_time_mean'] = bs_df.train_time.apply(lambda x: np.mean(x))\n",
    "bs_df['inference_time_mean'] = bs_df.inference_time.apply(lambda x: np.mean(x))"
   ]
  },
  {
   "cell_type": "code",
   "execution_count": 163,
   "id": "75c87136-dd33-4a22-b42c-6d0704298368",
   "metadata": {},
   "outputs": [
    {
     "data": {
      "text/plain": [
       "0.9246785165679174"
      ]
     },
     "execution_count": 163,
     "metadata": {},
     "output_type": "execute_result"
    }
   ],
   "source": [
    "bs_df.bs_mean.mean()"
   ]
  },
  {
   "cell_type": "code",
   "execution_count": 167,
   "id": "5015f372-d2ca-404c-9c18-903a35099cbf",
   "metadata": {},
   "outputs": [
    {
     "name": "stdout",
     "output_type": "stream",
     "text": [
      "9711.67348680042 87.88562956310454\n"
     ]
    }
   ],
   "source": [
    "print(bs_df.train_time_mean.mean(), bs_df.inference_time_mean.mean())"
   ]
  },
  {
   "cell_type": "code",
   "execution_count": 164,
   "id": "11d0f49f-acb8-4358-9999-4f6ee2cf6277",
   "metadata": {},
   "outputs": [
    {
     "data": {
      "text/html": [
       "<div>\n",
       "<style scoped>\n",
       "    .dataframe tbody tr th:only-of-type {\n",
       "        vertical-align: middle;\n",
       "    }\n",
       "\n",
       "    .dataframe tbody tr th {\n",
       "        vertical-align: top;\n",
       "    }\n",
       "\n",
       "    .dataframe thead th {\n",
       "        text-align: right;\n",
       "    }\n",
       "</style>\n",
       "<table border=\"1\" class=\"dataframe\">\n",
       "  <thead>\n",
       "    <tr style=\"text-align: right;\">\n",
       "      <th></th>\n",
       "      <th>subject</th>\n",
       "      <th>day</th>\n",
       "      <th>performance_cv</th>\n",
       "      <th>train_time</th>\n",
       "      <th>inference_time</th>\n",
       "      <th>bs_mean</th>\n",
       "      <th>train_time_mean</th>\n",
       "      <th>inference_time_mean</th>\n",
       "    </tr>\n",
       "  </thead>\n",
       "  <tbody>\n",
       "    <tr>\n",
       "      <th>0</th>\n",
       "      <td>sub01</td>\n",
       "      <td>D1</td>\n",
       "      <td>[0.8940092165898618, 1.0, 0.9769585253456221, ...</td>\n",
       "      <td>[10978.937149047852, 9562.73078918457, 9647.13...</td>\n",
       "      <td>[113.96408081054688, 58.88938903808594, 76.055...</td>\n",
       "      <td>0.979724</td>\n",
       "      <td>9145.641327</td>\n",
       "      <td>107.061863</td>\n",
       "    </tr>\n",
       "    <tr>\n",
       "      <th>1</th>\n",
       "      <td>sub01</td>\n",
       "      <td>D2</td>\n",
       "      <td>[0.8387096774193549, 0.9769585253456221, 0.976...</td>\n",
       "      <td>[8899.927139282227, 8541.107177734375, 10882.8...</td>\n",
       "      <td>[83.92333984375, 41.961669921875, 84.877014160...</td>\n",
       "      <td>0.964977</td>\n",
       "      <td>10798.597336</td>\n",
       "      <td>77.843666</td>\n",
       "    </tr>\n",
       "    <tr>\n",
       "      <th>2</th>\n",
       "      <td>sub01</td>\n",
       "      <td>D3</td>\n",
       "      <td>[0.8571428571428571, 0.9400921658986175, 0.972...</td>\n",
       "      <td>[8511.066436767578, 9396.076202392578, 8450.98...</td>\n",
       "      <td>[331.878662109375, 47.206878662109375, 67.2340...</td>\n",
       "      <td>0.965668</td>\n",
       "      <td>9127.104282</td>\n",
       "      <td>87.225437</td>\n",
       "    </tr>\n",
       "    <tr>\n",
       "      <th>3</th>\n",
       "      <td>sub01</td>\n",
       "      <td>D4</td>\n",
       "      <td>[0.8709677419354839, 0.8525345622119815, 0.949...</td>\n",
       "      <td>[9103.29818725586, 8451.93862915039, 9019.1364...</td>\n",
       "      <td>[54.836273193359375, 54.12101745605469, 86.069...</td>\n",
       "      <td>0.956452</td>\n",
       "      <td>9856.438637</td>\n",
       "      <td>108.385086</td>\n",
       "    </tr>\n",
       "    <tr>\n",
       "      <th>4</th>\n",
       "      <td>sub01</td>\n",
       "      <td>D5</td>\n",
       "      <td>[0.8940092165898618, 0.9815668202764977, 0.972...</td>\n",
       "      <td>[8459.091186523438, 9654.045104980469, 10845.8...</td>\n",
       "      <td>[55.07469177246094, 42.91534423828125, 52.9289...</td>\n",
       "      <td>0.974885</td>\n",
       "      <td>9883.594513</td>\n",
       "      <td>88.417530</td>\n",
       "    </tr>\n",
       "  </tbody>\n",
       "</table>\n",
       "</div>"
      ],
      "text/plain": [
       "  subject day                                     performance_cv  \\\n",
       "0   sub01  D1  [0.8940092165898618, 1.0, 0.9769585253456221, ...   \n",
       "1   sub01  D2  [0.8387096774193549, 0.9769585253456221, 0.976...   \n",
       "2   sub01  D3  [0.8571428571428571, 0.9400921658986175, 0.972...   \n",
       "3   sub01  D4  [0.8709677419354839, 0.8525345622119815, 0.949...   \n",
       "4   sub01  D5  [0.8940092165898618, 0.9815668202764977, 0.972...   \n",
       "\n",
       "                                          train_time  \\\n",
       "0  [10978.937149047852, 9562.73078918457, 9647.13...   \n",
       "1  [8899.927139282227, 8541.107177734375, 10882.8...   \n",
       "2  [8511.066436767578, 9396.076202392578, 8450.98...   \n",
       "3  [9103.29818725586, 8451.93862915039, 9019.1364...   \n",
       "4  [8459.091186523438, 9654.045104980469, 10845.8...   \n",
       "\n",
       "                                      inference_time   bs_mean  \\\n",
       "0  [113.96408081054688, 58.88938903808594, 76.055...  0.979724   \n",
       "1  [83.92333984375, 41.961669921875, 84.877014160...  0.964977   \n",
       "2  [331.878662109375, 47.206878662109375, 67.2340...  0.965668   \n",
       "3  [54.836273193359375, 54.12101745605469, 86.069...  0.956452   \n",
       "4  [55.07469177246094, 42.91534423828125, 52.9289...  0.974885   \n",
       "\n",
       "   train_time_mean  inference_time_mean  \n",
       "0      9145.641327           107.061863  \n",
       "1     10798.597336            77.843666  \n",
       "2      9127.104282            87.225437  \n",
       "3      9856.438637           108.385086  \n",
       "4      9883.594513            88.417530  "
      ]
     },
     "execution_count": 164,
     "metadata": {},
     "output_type": "execute_result"
    }
   ],
   "source": [
    "bs_df.head()"
   ]
  },
  {
   "cell_type": "code",
   "execution_count": 165,
   "id": "6a6b1566-a547-40bd-900f-72a247bca5ef",
   "metadata": {},
   "outputs": [
    {
     "data": {
      "text/plain": [
       "(105, 8)"
      ]
     },
     "execution_count": 165,
     "metadata": {},
     "output_type": "execute_result"
    }
   ],
   "source": [
    "bs_df.shape"
   ]
  },
  {
   "cell_type": "code",
   "execution_count": 166,
   "id": "d9e81938-76ca-459c-942e-c32e9bacaf3a",
   "metadata": {},
   "outputs": [],
   "source": [
    "# Save dataframe\n",
    "file = open('./analysis/lda-2/between-sessions-lda.pkl', 'wb')\n",
    "pickle.dump(bs_df, file)\n",
    "file.close()"
   ]
  },
  {
   "cell_type": "markdown",
   "id": "090dff4f-0a47-4ca1-a284-99b0918500a2",
   "metadata": {},
   "source": [
    "### Between-Pair-of-Days Analysis"
   ]
  },
  {
   "cell_type": "code",
   "execution_count": 168,
   "id": "4916a9e7-38f2-4bce-8a42-22e51ac2913b",
   "metadata": {},
   "outputs": [
    {
     "name": "stderr",
     "output_type": "stream",
     "text": [
      "100%|█████████████████████████████████████████████████████████████████████████████████████████████████████████████████████████████████████████████████████████████████████████████████████████████████████████████████████████████████████████████████████████████████| 7/7 [06:36<00:00, 56.65s/it]\n"
     ]
    }
   ],
   "source": [
    "bpd_df = pd.DataFrame(columns=['subject', 'day_train', 'day_test', 'performance_cv', 'train_time', 'inference_time'])\n",
    "\n",
    "# Analyse for each subject\n",
    "for sub in tqdm(subjects):\n",
    "    sub_df = df[df.subject == sub]\n",
    "\n",
    "    # Analyse performance between pairs of days\n",
    "    for day_train in days:\n",
    "        for day_test in days:\n",
    "            if day_train != day_test:\n",
    "                dtrain_df = sub_df[sub_df.day == day_train]\n",
    "                dtest_df = sub_df[sub_df.day == day_test]\n",
    "                accuracies = list()\n",
    "                train_times = list()\n",
    "                inf_times = list()\n",
    "                \n",
    "                # Cross-validate 10 folds for each repetition in the other day\n",
    "                for i in range(1, 11):\n",
    "                    # Devide test and train dataset\n",
    "                    train_df = dtrain_df[dtrain_df.repetition != i]\n",
    "                    test_df = dtest_df[dtest_df.repetition == i]\n",
    "        \n",
    "                    # Set up features\n",
    "                    X_train = featurize(train_df)\n",
    "                    X_test = featurize(test_df)\n",
    "                    y_train = train_df.label.tolist()\n",
    "                    y_test = test_df.label.tolist()\n",
    "        \n",
    "                    # Train Classifier\n",
    "                    lda = LinearDiscriminantAnalysis()\n",
    "                    start = time.time()\n",
    "                    lda.fit(X_train, y_train)\n",
    "                    ttime = (time.time() - start) * 1e6 # in microsecond\n",
    "                    train_times.append(ttime)\n",
    "        \n",
    "                    # Get Accuracy\n",
    "                    start = time.time()\n",
    "                    y_pred = lda.predict(X_test)\n",
    "                    itime = (time.time() - start) * 1e6 # in microsecond\n",
    "                    inf_times.append(itime)\n",
    "                    \n",
    "                    accuracy = accuracy_score(y_test, y_pred)\n",
    "                    accuracies.append(accuracy)\n",
    "        \n",
    "                # Save Accuracy\n",
    "                bpd_df.loc[len(bpd_df)] = [sub, day_train, day_test, accuracies, train_times, inf_times]"
   ]
  },
  {
   "cell_type": "code",
   "execution_count": 169,
   "id": "4455fd49-fddb-4fa4-8d74-5a89b816c3fc",
   "metadata": {},
   "outputs": [],
   "source": [
    "bpd_df['bpd_mean'] = bpd_df.performance_cv.apply(lambda x: np.mean(x))\n",
    "bpd_df['train_time_mean'] = bpd_df.train_time.apply(lambda x: np.mean(x))\n",
    "bpd_df['inference_time_mean'] = bpd_df.inference_time.apply(lambda x: np.mean(x))"
   ]
  },
  {
   "cell_type": "code",
   "execution_count": 170,
   "id": "e5f8727c-da93-4f59-8446-e269f7a9d224",
   "metadata": {},
   "outputs": [
    {
     "data": {
      "text/plain": [
       "0.8262760588106209"
      ]
     },
     "execution_count": 170,
     "metadata": {},
     "output_type": "execute_result"
    }
   ],
   "source": [
    "bpd_df.bpd_mean.mean()"
   ]
  },
  {
   "cell_type": "code",
   "execution_count": 171,
   "id": "f94a386a-d564-4f0a-91cb-97bc8470d694",
   "metadata": {},
   "outputs": [
    {
     "name": "stdout",
     "output_type": "stream",
     "text": [
      "15734.47965440296 148.00092800944842\n"
     ]
    }
   ],
   "source": [
    "print(bpd_df.train_time_mean.mean(), bpd_df.inference_time_mean.mean())"
   ]
  },
  {
   "cell_type": "code",
   "execution_count": 172,
   "id": "5b8d737b-ac28-40df-a935-d2459783b122",
   "metadata": {},
   "outputs": [
    {
     "data": {
      "text/html": [
       "<div>\n",
       "<style scoped>\n",
       "    .dataframe tbody tr th:only-of-type {\n",
       "        vertical-align: middle;\n",
       "    }\n",
       "\n",
       "    .dataframe tbody tr th {\n",
       "        vertical-align: top;\n",
       "    }\n",
       "\n",
       "    .dataframe thead th {\n",
       "        text-align: right;\n",
       "    }\n",
       "</style>\n",
       "<table border=\"1\" class=\"dataframe\">\n",
       "  <thead>\n",
       "    <tr style=\"text-align: right;\">\n",
       "      <th></th>\n",
       "      <th>subject</th>\n",
       "      <th>day_train</th>\n",
       "      <th>day_test</th>\n",
       "      <th>performance_cv</th>\n",
       "      <th>train_time</th>\n",
       "      <th>inference_time</th>\n",
       "      <th>bpd_mean</th>\n",
       "      <th>train_time_mean</th>\n",
       "      <th>inference_time_mean</th>\n",
       "    </tr>\n",
       "  </thead>\n",
       "  <tbody>\n",
       "    <tr>\n",
       "      <th>0</th>\n",
       "      <td>sub01</td>\n",
       "      <td>D1</td>\n",
       "      <td>D2</td>\n",
       "      <td>[0.8405017921146953, 0.9121863799283154, 0.930...</td>\n",
       "      <td>[26171.207427978516, 25715.82794189453, 25542....</td>\n",
       "      <td>[170.9461212158203, 111.81831359863281, 88.930...</td>\n",
       "      <td>0.927419</td>\n",
       "      <td>19634.771347</td>\n",
       "      <td>129.580498</td>\n",
       "    </tr>\n",
       "    <tr>\n",
       "      <th>1</th>\n",
       "      <td>sub01</td>\n",
       "      <td>D1</td>\n",
       "      <td>D3</td>\n",
       "      <td>[0.9247311827956989, 0.8745519713261649, 0.926...</td>\n",
       "      <td>[13991.117477416992, 15336.036682128906, 14504...</td>\n",
       "      <td>[82.96966552734375, 70.33348083496094, 158.071...</td>\n",
       "      <td>0.918817</td>\n",
       "      <td>14803.123474</td>\n",
       "      <td>94.604492</td>\n",
       "    </tr>\n",
       "    <tr>\n",
       "      <th>2</th>\n",
       "      <td>sub01</td>\n",
       "      <td>D1</td>\n",
       "      <td>D4</td>\n",
       "      <td>[0.7634408602150538, 0.8602150537634409, 0.937...</td>\n",
       "      <td>[14326.095581054688, 15532.970428466797, 14161...</td>\n",
       "      <td>[161.17095947265625, 74.86343383789062, 338.07...</td>\n",
       "      <td>0.901613</td>\n",
       "      <td>14823.722839</td>\n",
       "      <td>154.232979</td>\n",
       "    </tr>\n",
       "    <tr>\n",
       "      <th>3</th>\n",
       "      <td>sub01</td>\n",
       "      <td>D1</td>\n",
       "      <td>D5</td>\n",
       "      <td>[0.8494623655913979, 0.9480286738351255, 0.908...</td>\n",
       "      <td>[14913.082122802734, 14956.951141357422, 14958...</td>\n",
       "      <td>[224.11346435546875, 268.9361572265625, 72.240...</td>\n",
       "      <td>0.908961</td>\n",
       "      <td>15521.454811</td>\n",
       "      <td>149.440765</td>\n",
       "    </tr>\n",
       "    <tr>\n",
       "      <th>4</th>\n",
       "      <td>sub01</td>\n",
       "      <td>D1</td>\n",
       "      <td>D6</td>\n",
       "      <td>[0.8924731182795699, 0.9121863799283154, 0.890...</td>\n",
       "      <td>[15619.993209838867, 15011.072158813477, 15323...</td>\n",
       "      <td>[118.01719665527344, 97.99003601074219, 154.01...</td>\n",
       "      <td>0.898029</td>\n",
       "      <td>14798.712730</td>\n",
       "      <td>172.352791</td>\n",
       "    </tr>\n",
       "  </tbody>\n",
       "</table>\n",
       "</div>"
      ],
      "text/plain": [
       "  subject day_train day_test  \\\n",
       "0   sub01        D1       D2   \n",
       "1   sub01        D1       D3   \n",
       "2   sub01        D1       D4   \n",
       "3   sub01        D1       D5   \n",
       "4   sub01        D1       D6   \n",
       "\n",
       "                                      performance_cv  \\\n",
       "0  [0.8405017921146953, 0.9121863799283154, 0.930...   \n",
       "1  [0.9247311827956989, 0.8745519713261649, 0.926...   \n",
       "2  [0.7634408602150538, 0.8602150537634409, 0.937...   \n",
       "3  [0.8494623655913979, 0.9480286738351255, 0.908...   \n",
       "4  [0.8924731182795699, 0.9121863799283154, 0.890...   \n",
       "\n",
       "                                          train_time  \\\n",
       "0  [26171.207427978516, 25715.82794189453, 25542....   \n",
       "1  [13991.117477416992, 15336.036682128906, 14504...   \n",
       "2  [14326.095581054688, 15532.970428466797, 14161...   \n",
       "3  [14913.082122802734, 14956.951141357422, 14958...   \n",
       "4  [15619.993209838867, 15011.072158813477, 15323...   \n",
       "\n",
       "                                      inference_time  bpd_mean  \\\n",
       "0  [170.9461212158203, 111.81831359863281, 88.930...  0.927419   \n",
       "1  [82.96966552734375, 70.33348083496094, 158.071...  0.918817   \n",
       "2  [161.17095947265625, 74.86343383789062, 338.07...  0.901613   \n",
       "3  [224.11346435546875, 268.9361572265625, 72.240...  0.908961   \n",
       "4  [118.01719665527344, 97.99003601074219, 154.01...  0.898029   \n",
       "\n",
       "   train_time_mean  inference_time_mean  \n",
       "0     19634.771347           129.580498  \n",
       "1     14803.123474            94.604492  \n",
       "2     14823.722839           154.232979  \n",
       "3     15521.454811           149.440765  \n",
       "4     14798.712730           172.352791  "
      ]
     },
     "execution_count": 172,
     "metadata": {},
     "output_type": "execute_result"
    }
   ],
   "source": [
    "bpd_df.head()"
   ]
  },
  {
   "cell_type": "code",
   "execution_count": 173,
   "id": "13348fd5-db1d-4ec1-84d5-b9269beb48d5",
   "metadata": {},
   "outputs": [
    {
     "data": {
      "text/plain": [
       "(1470, 9)"
      ]
     },
     "execution_count": 173,
     "metadata": {},
     "output_type": "execute_result"
    }
   ],
   "source": [
    "bpd_df.shape"
   ]
  },
  {
   "cell_type": "code",
   "execution_count": 174,
   "id": "a5e91270-478e-4a06-b4c0-e7dba838bc08",
   "metadata": {},
   "outputs": [],
   "source": [
    "# Save dataframe\n",
    "file = open('./analysis/lda-2/between-pairwise-days-lda.pkl', 'wb')\n",
    "pickle.dump(bpd_df, file)\n",
    "file.close()"
   ]
  },
  {
   "cell_type": "code",
   "execution_count": 175,
   "id": "0af6497d-d9e0-409c-b450-0d7a5e79f067",
   "metadata": {},
   "outputs": [],
   "source": [
    "bpd_avg = bpd_df.groupby(by=['day_train', 'day_test']).mean('bpd_mean').reset_index()"
   ]
  },
  {
   "cell_type": "code",
   "execution_count": 176,
   "id": "c2c021b8-c614-42b7-a24c-ee99dd4799de",
   "metadata": {},
   "outputs": [],
   "source": [
    "bpd_avg_index_sorted = bpd_avg.pivot(index='day_train', columns='day_test', values='bpd_mean').sort_index(key=lambda x: x.map(lambda y: int(y[1:])))"
   ]
  },
  {
   "cell_type": "code",
   "execution_count": 177,
   "id": "d921ea18-2480-4188-bcb3-b916e25f6a20",
   "metadata": {},
   "outputs": [],
   "source": [
    "bpd_avg_index_sorted = bpd_avg_index_sorted.reindex(columns=sorted(bpd_avg_index_sorted.columns, key=lambda x: int(x[1:])))"
   ]
  },
  {
   "cell_type": "code",
   "execution_count": 4,
   "id": "baa64e75-71b1-4620-a2b0-1ca19f69b8a0",
   "metadata": {},
   "outputs": [
    {
     "data": {
      "text/html": [
       "<div>\n",
       "<style scoped>\n",
       "    .dataframe tbody tr th:only-of-type {\n",
       "        vertical-align: middle;\n",
       "    }\n",
       "\n",
       "    .dataframe tbody tr th {\n",
       "        vertical-align: top;\n",
       "    }\n",
       "\n",
       "    .dataframe thead th {\n",
       "        text-align: right;\n",
       "    }\n",
       "</style>\n",
       "<table border=\"1\" class=\"dataframe\">\n",
       "  <thead>\n",
       "    <tr style=\"text-align: right;\">\n",
       "      <th>day_test</th>\n",
       "      <th>D1</th>\n",
       "      <th>D2</th>\n",
       "      <th>D3</th>\n",
       "      <th>D4</th>\n",
       "      <th>D5</th>\n",
       "      <th>D6</th>\n",
       "      <th>D7</th>\n",
       "      <th>D8</th>\n",
       "      <th>D9</th>\n",
       "      <th>D10</th>\n",
       "      <th>D11</th>\n",
       "      <th>D12</th>\n",
       "      <th>D13</th>\n",
       "      <th>D14</th>\n",
       "      <th>D15</th>\n",
       "    </tr>\n",
       "    <tr>\n",
       "      <th>day_train</th>\n",
       "      <th></th>\n",
       "      <th></th>\n",
       "      <th></th>\n",
       "      <th></th>\n",
       "      <th></th>\n",
       "      <th></th>\n",
       "      <th></th>\n",
       "      <th></th>\n",
       "      <th></th>\n",
       "      <th></th>\n",
       "      <th></th>\n",
       "      <th></th>\n",
       "      <th></th>\n",
       "      <th></th>\n",
       "      <th></th>\n",
       "    </tr>\n",
       "  </thead>\n",
       "  <tbody>\n",
       "    <tr>\n",
       "      <th>D1</th>\n",
       "      <td>NaN</td>\n",
       "      <td>88.801843</td>\n",
       "      <td>83.632873</td>\n",
       "      <td>77.903226</td>\n",
       "      <td>79.472606</td>\n",
       "      <td>78.520225</td>\n",
       "      <td>79.221710</td>\n",
       "      <td>79.549411</td>\n",
       "      <td>76.154634</td>\n",
       "      <td>77.685612</td>\n",
       "      <td>77.296467</td>\n",
       "      <td>77.616487</td>\n",
       "      <td>74.805428</td>\n",
       "      <td>77.867384</td>\n",
       "      <td>75.089606</td>\n",
       "    </tr>\n",
       "    <tr>\n",
       "      <th>D2</th>\n",
       "      <td>87.117256</td>\n",
       "      <td>NaN</td>\n",
       "      <td>87.119816</td>\n",
       "      <td>82.025090</td>\n",
       "      <td>83.952893</td>\n",
       "      <td>82.857143</td>\n",
       "      <td>82.800819</td>\n",
       "      <td>83.753200</td>\n",
       "      <td>81.400410</td>\n",
       "      <td>80.125448</td>\n",
       "      <td>80.921659</td>\n",
       "      <td>80.481311</td>\n",
       "      <td>78.323093</td>\n",
       "      <td>79.690220</td>\n",
       "      <td>77.534562</td>\n",
       "    </tr>\n",
       "    <tr>\n",
       "      <th>D3</th>\n",
       "      <td>81.915003</td>\n",
       "      <td>86.003584</td>\n",
       "      <td>NaN</td>\n",
       "      <td>82.186380</td>\n",
       "      <td>85.811572</td>\n",
       "      <td>82.813620</td>\n",
       "      <td>85.135689</td>\n",
       "      <td>85.276498</td>\n",
       "      <td>82.188940</td>\n",
       "      <td>81.641065</td>\n",
       "      <td>82.895545</td>\n",
       "      <td>81.986687</td>\n",
       "      <td>79.173067</td>\n",
       "      <td>79.605735</td>\n",
       "      <td>76.479775</td>\n",
       "    </tr>\n",
       "    <tr>\n",
       "      <th>D4</th>\n",
       "      <td>77.583205</td>\n",
       "      <td>82.004608</td>\n",
       "      <td>81.484895</td>\n",
       "      <td>NaN</td>\n",
       "      <td>85.791091</td>\n",
       "      <td>83.105479</td>\n",
       "      <td>83.927291</td>\n",
       "      <td>85.307220</td>\n",
       "      <td>85.386585</td>\n",
       "      <td>81.262161</td>\n",
       "      <td>83.417819</td>\n",
       "      <td>80.995904</td>\n",
       "      <td>81.362007</td>\n",
       "      <td>81.490015</td>\n",
       "      <td>79.557092</td>\n",
       "    </tr>\n",
       "    <tr>\n",
       "      <th>D5</th>\n",
       "      <td>79.098822</td>\n",
       "      <td>81.492576</td>\n",
       "      <td>84.703021</td>\n",
       "      <td>85.322581</td>\n",
       "      <td>NaN</td>\n",
       "      <td>86.658986</td>\n",
       "      <td>86.981567</td>\n",
       "      <td>87.611367</td>\n",
       "      <td>85.412186</td>\n",
       "      <td>86.715310</td>\n",
       "      <td>85.240655</td>\n",
       "      <td>85.432668</td>\n",
       "      <td>80.670763</td>\n",
       "      <td>80.161290</td>\n",
       "      <td>77.990271</td>\n",
       "    </tr>\n",
       "    <tr>\n",
       "      <th>D6</th>\n",
       "      <td>81.331285</td>\n",
       "      <td>83.817204</td>\n",
       "      <td>85.491551</td>\n",
       "      <td>83.958013</td>\n",
       "      <td>88.502304</td>\n",
       "      <td>NaN</td>\n",
       "      <td>88.279570</td>\n",
       "      <td>87.171019</td>\n",
       "      <td>84.889913</td>\n",
       "      <td>86.559140</td>\n",
       "      <td>84.633897</td>\n",
       "      <td>83.942652</td>\n",
       "      <td>79.948797</td>\n",
       "      <td>81.845878</td>\n",
       "      <td>78.822325</td>\n",
       "    </tr>\n",
       "    <tr>\n",
       "      <th>D7</th>\n",
       "      <td>81.059908</td>\n",
       "      <td>84.170507</td>\n",
       "      <td>85.665643</td>\n",
       "      <td>85.483871</td>\n",
       "      <td>88.146441</td>\n",
       "      <td>87.772657</td>\n",
       "      <td>NaN</td>\n",
       "      <td>89.546851</td>\n",
       "      <td>86.052227</td>\n",
       "      <td>87.665131</td>\n",
       "      <td>86.820276</td>\n",
       "      <td>86.620584</td>\n",
       "      <td>82.647209</td>\n",
       "      <td>83.445981</td>\n",
       "      <td>80.816692</td>\n",
       "    </tr>\n",
       "    <tr>\n",
       "      <th>D8</th>\n",
       "      <td>78.287250</td>\n",
       "      <td>82.014849</td>\n",
       "      <td>84.285714</td>\n",
       "      <td>84.554531</td>\n",
       "      <td>87.688172</td>\n",
       "      <td>85.138249</td>\n",
       "      <td>88.878648</td>\n",
       "      <td>NaN</td>\n",
       "      <td>88.870968</td>\n",
       "      <td>88.719918</td>\n",
       "      <td>87.099334</td>\n",
       "      <td>87.265745</td>\n",
       "      <td>84.157706</td>\n",
       "      <td>82.050691</td>\n",
       "      <td>80.716846</td>\n",
       "    </tr>\n",
       "    <tr>\n",
       "      <th>D9</th>\n",
       "      <td>73.806964</td>\n",
       "      <td>78.998976</td>\n",
       "      <td>79.344598</td>\n",
       "      <td>82.465438</td>\n",
       "      <td>83.860727</td>\n",
       "      <td>82.322069</td>\n",
       "      <td>83.794163</td>\n",
       "      <td>87.721454</td>\n",
       "      <td>NaN</td>\n",
       "      <td>87.158218</td>\n",
       "      <td>86.303123</td>\n",
       "      <td>86.889401</td>\n",
       "      <td>84.759345</td>\n",
       "      <td>82.803379</td>\n",
       "      <td>83.082437</td>\n",
       "    </tr>\n",
       "    <tr>\n",
       "      <th>D10</th>\n",
       "      <td>74.065540</td>\n",
       "      <td>78.243728</td>\n",
       "      <td>78.904250</td>\n",
       "      <td>79.091142</td>\n",
       "      <td>84.482847</td>\n",
       "      <td>82.242704</td>\n",
       "      <td>84.608295</td>\n",
       "      <td>85.588838</td>\n",
       "      <td>86.569380</td>\n",
       "      <td>NaN</td>\n",
       "      <td>87.585765</td>\n",
       "      <td>88.586790</td>\n",
       "      <td>83.115719</td>\n",
       "      <td>81.001024</td>\n",
       "      <td>81.438812</td>\n",
       "    </tr>\n",
       "    <tr>\n",
       "      <th>D11</th>\n",
       "      <td>76.840758</td>\n",
       "      <td>79.418843</td>\n",
       "      <td>80.975422</td>\n",
       "      <td>81.848438</td>\n",
       "      <td>84.134665</td>\n",
       "      <td>81.615463</td>\n",
       "      <td>85.084485</td>\n",
       "      <td>87.270865</td>\n",
       "      <td>87.316948</td>\n",
       "      <td>88.748080</td>\n",
       "      <td>NaN</td>\n",
       "      <td>89.569892</td>\n",
       "      <td>86.817716</td>\n",
       "      <td>86.374808</td>\n",
       "      <td>84.838710</td>\n",
       "    </tr>\n",
       "    <tr>\n",
       "      <th>D12</th>\n",
       "      <td>74.221710</td>\n",
       "      <td>77.974910</td>\n",
       "      <td>78.146441</td>\n",
       "      <td>78.947773</td>\n",
       "      <td>84.403482</td>\n",
       "      <td>80.642601</td>\n",
       "      <td>83.771121</td>\n",
       "      <td>86.059908</td>\n",
       "      <td>87.393753</td>\n",
       "      <td>88.773682</td>\n",
       "      <td>88.087558</td>\n",
       "      <td>NaN</td>\n",
       "      <td>86.771633</td>\n",
       "      <td>84.380440</td>\n",
       "      <td>84.436764</td>\n",
       "    </tr>\n",
       "    <tr>\n",
       "      <th>D13</th>\n",
       "      <td>71.989247</td>\n",
       "      <td>76.479775</td>\n",
       "      <td>76.213518</td>\n",
       "      <td>80.908858</td>\n",
       "      <td>79.285714</td>\n",
       "      <td>76.584741</td>\n",
       "      <td>80.422427</td>\n",
       "      <td>84.278034</td>\n",
       "      <td>86.400410</td>\n",
       "      <td>85.161290</td>\n",
       "      <td>87.368152</td>\n",
       "      <td>87.800819</td>\n",
       "      <td>NaN</td>\n",
       "      <td>87.147977</td>\n",
       "      <td>86.556580</td>\n",
       "    </tr>\n",
       "    <tr>\n",
       "      <th>D14</th>\n",
       "      <td>73.189964</td>\n",
       "      <td>78.138761</td>\n",
       "      <td>77.956989</td>\n",
       "      <td>79.144905</td>\n",
       "      <td>79.006656</td>\n",
       "      <td>77.309268</td>\n",
       "      <td>80.250896</td>\n",
       "      <td>82.263185</td>\n",
       "      <td>83.113159</td>\n",
       "      <td>81.013825</td>\n",
       "      <td>84.989759</td>\n",
       "      <td>85.320020</td>\n",
       "      <td>85.757808</td>\n",
       "      <td>NaN</td>\n",
       "      <td>88.520225</td>\n",
       "    </tr>\n",
       "    <tr>\n",
       "      <th>D15</th>\n",
       "      <td>69.408602</td>\n",
       "      <td>74.400922</td>\n",
       "      <td>73.545827</td>\n",
       "      <td>76.144393</td>\n",
       "      <td>74.948797</td>\n",
       "      <td>73.942652</td>\n",
       "      <td>77.160778</td>\n",
       "      <td>80.458269</td>\n",
       "      <td>82.196621</td>\n",
       "      <td>81.889401</td>\n",
       "      <td>83.993856</td>\n",
       "      <td>86.177675</td>\n",
       "      <td>86.057348</td>\n",
       "      <td>89.359959</td>\n",
       "      <td>NaN</td>\n",
       "    </tr>\n",
       "  </tbody>\n",
       "</table>\n",
       "</div>"
      ],
      "text/plain": [
       "day_test          D1         D2         D3         D4         D5         D6  \\\n",
       "day_train                                                                     \n",
       "D1               NaN  88.801843  83.632873  77.903226  79.472606  78.520225   \n",
       "D2         87.117256        NaN  87.119816  82.025090  83.952893  82.857143   \n",
       "D3         81.915003  86.003584        NaN  82.186380  85.811572  82.813620   \n",
       "D4         77.583205  82.004608  81.484895        NaN  85.791091  83.105479   \n",
       "D5         79.098822  81.492576  84.703021  85.322581        NaN  86.658986   \n",
       "D6         81.331285  83.817204  85.491551  83.958013  88.502304        NaN   \n",
       "D7         81.059908  84.170507  85.665643  85.483871  88.146441  87.772657   \n",
       "D8         78.287250  82.014849  84.285714  84.554531  87.688172  85.138249   \n",
       "D9         73.806964  78.998976  79.344598  82.465438  83.860727  82.322069   \n",
       "D10        74.065540  78.243728  78.904250  79.091142  84.482847  82.242704   \n",
       "D11        76.840758  79.418843  80.975422  81.848438  84.134665  81.615463   \n",
       "D12        74.221710  77.974910  78.146441  78.947773  84.403482  80.642601   \n",
       "D13        71.989247  76.479775  76.213518  80.908858  79.285714  76.584741   \n",
       "D14        73.189964  78.138761  77.956989  79.144905  79.006656  77.309268   \n",
       "D15        69.408602  74.400922  73.545827  76.144393  74.948797  73.942652   \n",
       "\n",
       "day_test          D7         D8         D9        D10        D11        D12  \\\n",
       "day_train                                                                     \n",
       "D1         79.221710  79.549411  76.154634  77.685612  77.296467  77.616487   \n",
       "D2         82.800819  83.753200  81.400410  80.125448  80.921659  80.481311   \n",
       "D3         85.135689  85.276498  82.188940  81.641065  82.895545  81.986687   \n",
       "D4         83.927291  85.307220  85.386585  81.262161  83.417819  80.995904   \n",
       "D5         86.981567  87.611367  85.412186  86.715310  85.240655  85.432668   \n",
       "D6         88.279570  87.171019  84.889913  86.559140  84.633897  83.942652   \n",
       "D7               NaN  89.546851  86.052227  87.665131  86.820276  86.620584   \n",
       "D8         88.878648        NaN  88.870968  88.719918  87.099334  87.265745   \n",
       "D9         83.794163  87.721454        NaN  87.158218  86.303123  86.889401   \n",
       "D10        84.608295  85.588838  86.569380        NaN  87.585765  88.586790   \n",
       "D11        85.084485  87.270865  87.316948  88.748080        NaN  89.569892   \n",
       "D12        83.771121  86.059908  87.393753  88.773682  88.087558        NaN   \n",
       "D13        80.422427  84.278034  86.400410  85.161290  87.368152  87.800819   \n",
       "D14        80.250896  82.263185  83.113159  81.013825  84.989759  85.320020   \n",
       "D15        77.160778  80.458269  82.196621  81.889401  83.993856  86.177675   \n",
       "\n",
       "day_test         D13        D14        D15  \n",
       "day_train                                   \n",
       "D1         74.805428  77.867384  75.089606  \n",
       "D2         78.323093  79.690220  77.534562  \n",
       "D3         79.173067  79.605735  76.479775  \n",
       "D4         81.362007  81.490015  79.557092  \n",
       "D5         80.670763  80.161290  77.990271  \n",
       "D6         79.948797  81.845878  78.822325  \n",
       "D7         82.647209  83.445981  80.816692  \n",
       "D8         84.157706  82.050691  80.716846  \n",
       "D9         84.759345  82.803379  83.082437  \n",
       "D10        83.115719  81.001024  81.438812  \n",
       "D11        86.817716  86.374808  84.838710  \n",
       "D12        86.771633  84.380440  84.436764  \n",
       "D13              NaN  87.147977  86.556580  \n",
       "D14        85.757808        NaN  88.520225  \n",
       "D15        86.057348  89.359959        NaN  "
      ]
     },
     "execution_count": 4,
     "metadata": {},
     "output_type": "execute_result"
    }
   ],
   "source": [
    "bpd_avg_index_sorted * 100"
   ]
  },
  {
   "cell_type": "code",
   "execution_count": 179,
   "id": "e1368aa9-fb17-41c4-9dee-a40ba1383601",
   "metadata": {},
   "outputs": [],
   "source": [
    "# Save dataframe\n",
    "file = open('./analysis/lda-2/between-pairwise-days-avg-lda.pkl', 'wb')\n",
    "pickle.dump(bpd_avg_index_sorted, file)\n",
    "file.close()"
   ]
  },
  {
   "cell_type": "code",
   "execution_count": 2,
   "id": "71bb0893-267e-42bb-8945-69e064cd75e9",
   "metadata": {},
   "outputs": [],
   "source": [
    "# Save dataframe\n",
    "file = open('./analysis/lda-2/between-pairwise-days-avg-lda.pkl', 'rb')\n",
    "bpd_avg_index_sorted = pickle.load(file)\n",
    "file.close()"
   ]
  },
  {
   "cell_type": "markdown",
   "id": "19b9b5e3-4da7-48b0-a031-e9cd7b8c9323",
   "metadata": {},
   "source": [
    "### Between-Days-Leave-One-Out Analysis"
   ]
  },
  {
   "cell_type": "code",
   "execution_count": 180,
   "id": "9333f625-499b-496e-b7f0-d067df3ef1f5",
   "metadata": {},
   "outputs": [
    {
     "name": "stderr",
     "output_type": "stream",
     "text": [
      "100%|█████████████████████████████████████████████████████████████████████████████████████████████████████████████████████████████████████████████████████████████████████████████████████████████████████████████████████████████████████████████████████████████████| 7/7 [04:42<00:00, 40.40s/it]\n"
     ]
    }
   ],
   "source": [
    "bd_df = pd.DataFrame(columns=['subject', 'day_test', 'performance_cv', 'train_time', 'inference_time'])\n",
    "\n",
    "# Analyse for each subject\n",
    "for sub in tqdm(subjects):\n",
    "    sub_df = df[df.subject == sub]\n",
    "\n",
    "    # Analyse performance between days\n",
    "    for day_test in days:\n",
    "        dtrain_df = sub_df[sub_df.day != day_test]\n",
    "        dtest_df = sub_df[sub_df.day == day_test]\n",
    "        accuracies = list()\n",
    "        train_time = list()\n",
    "        inf_time = list()\n",
    "        \n",
    "        # Cross-validate 10 folds for each repetition in the test day\n",
    "        for i in range(1, 11):\n",
    "            # Devide test and train dataset\n",
    "            train_df = dtrain_df[dtrain_df.repetition != i]\n",
    "            test_df = dtest_df[dtest_df.repetition == i]\n",
    "\n",
    "            # Set up features\n",
    "            X_train = featurize(train_df)\n",
    "            X_test = featurize(test_df)\n",
    "            y_train = train_df.label.tolist()\n",
    "            y_test = test_df.label.tolist()\n",
    "\n",
    "            # Train Classifier\n",
    "            lda = LinearDiscriminantAnalysis()\n",
    "            start = time.time()\n",
    "            lda.fit(X_train, y_train)\n",
    "            ttime = (time.time() - start) * 1e6 # in microsecond\n",
    "            train_time.append(ttime)\n",
    "\n",
    "            # Get Accuracy\n",
    "            start = time.time()\n",
    "            y_pred = lda.predict(X_test)\n",
    "            itime = (time.time() - start) * 1e6 # in microsecond\n",
    "            inf_time.append(itime)\n",
    "            \n",
    "            accuracy = accuracy_score(y_test, y_pred)\n",
    "            accuracies.append(accuracy)\n",
    "\n",
    "        # Save Accuracy\n",
    "        bd_df.loc[len(bd_df)] = [sub, day_test, accuracies, train_time, inf_time]"
   ]
  },
  {
   "cell_type": "code",
   "execution_count": 181,
   "id": "28f7a236-24ff-45b3-bb5b-aa234192fef4",
   "metadata": {},
   "outputs": [],
   "source": [
    "bd_df['bd_mean'] = bd_df.performance_cv.apply(lambda x: np.mean(x))\n",
    "bd_df['train_time_mean'] = bd_df.train_time.apply(lambda x: np.mean(x))\n",
    "bd_df['inference_time_mean'] = bd_df.inference_time.apply(lambda x: np.mean(x))"
   ]
  },
  {
   "cell_type": "code",
   "execution_count": 182,
   "id": "ab99c641-9e52-4c38-bcf0-9eae49d06e1a",
   "metadata": {},
   "outputs": [
    {
     "data": {
      "text/plain": [
       "0.8766922683051714"
      ]
     },
     "execution_count": 182,
     "metadata": {},
     "output_type": "execute_result"
    }
   ],
   "source": [
    "bd_df.bd_mean.mean()"
   ]
  },
  {
   "cell_type": "code",
   "execution_count": 183,
   "id": "0b130dd2-ef17-4b51-a4ce-9be3f523a6ee",
   "metadata": {},
   "outputs": [
    {
     "name": "stdout",
     "output_type": "stream",
     "text": [
      "137604.23410506477 225.95519111269996\n"
     ]
    }
   ],
   "source": [
    "print(bd_df.train_time_mean.mean(), bd_df.inference_time_mean.mean())"
   ]
  },
  {
   "cell_type": "code",
   "execution_count": 184,
   "id": "745a3af0-9789-4577-8756-6afd3b93b6e0",
   "metadata": {},
   "outputs": [],
   "source": [
    "# Save dataframe\n",
    "file = open('./analysis/lda-2/between-days-lda.pkl', 'wb')\n",
    "pickle.dump(bd_df, file)\n",
    "file.close()"
   ]
  },
  {
   "cell_type": "code",
   "execution_count": 187,
   "id": "9129722d-3697-4ddc-b018-253b9a288411",
   "metadata": {},
   "outputs": [
    {
     "data": {
      "text/html": [
       "<div>\n",
       "<style scoped>\n",
       "    .dataframe tbody tr th:only-of-type {\n",
       "        vertical-align: middle;\n",
       "    }\n",
       "\n",
       "    .dataframe tbody tr th {\n",
       "        vertical-align: top;\n",
       "    }\n",
       "\n",
       "    .dataframe thead th {\n",
       "        text-align: right;\n",
       "    }\n",
       "</style>\n",
       "<table border=\"1\" class=\"dataframe\">\n",
       "  <thead>\n",
       "    <tr style=\"text-align: right;\">\n",
       "      <th></th>\n",
       "      <th>bd_mean</th>\n",
       "      <th>train_time_mean</th>\n",
       "      <th>inference_time_mean</th>\n",
       "    </tr>\n",
       "    <tr>\n",
       "      <th>day_test</th>\n",
       "      <th></th>\n",
       "      <th></th>\n",
       "      <th></th>\n",
       "    </tr>\n",
       "  </thead>\n",
       "  <tbody>\n",
       "    <tr>\n",
       "      <th>D1</th>\n",
       "      <td>0.824808</td>\n",
       "      <td>138234.220232</td>\n",
       "      <td>227.594376</td>\n",
       "    </tr>\n",
       "    <tr>\n",
       "      <th>D10</th>\n",
       "      <td>0.891526</td>\n",
       "      <td>137045.386859</td>\n",
       "      <td>222.853252</td>\n",
       "    </tr>\n",
       "    <tr>\n",
       "      <th>D11</th>\n",
       "      <td>0.895955</td>\n",
       "      <td>137130.907604</td>\n",
       "      <td>217.284475</td>\n",
       "    </tr>\n",
       "    <tr>\n",
       "      <th>D12</th>\n",
       "      <td>0.900461</td>\n",
       "      <td>136802.448545</td>\n",
       "      <td>238.462857</td>\n",
       "    </tr>\n",
       "    <tr>\n",
       "      <th>D13</th>\n",
       "      <td>0.872862</td>\n",
       "      <td>137764.082636</td>\n",
       "      <td>213.721820</td>\n",
       "    </tr>\n",
       "    <tr>\n",
       "      <th>D14</th>\n",
       "      <td>0.873016</td>\n",
       "      <td>136652.629716</td>\n",
       "      <td>227.825982</td>\n",
       "    </tr>\n",
       "    <tr>\n",
       "      <th>D15</th>\n",
       "      <td>0.859677</td>\n",
       "      <td>137228.969165</td>\n",
       "      <td>239.402907</td>\n",
       "    </tr>\n",
       "    <tr>\n",
       "      <th>D2</th>\n",
       "      <td>0.858653</td>\n",
       "      <td>139208.306585</td>\n",
       "      <td>209.389414</td>\n",
       "    </tr>\n",
       "    <tr>\n",
       "      <th>D3</th>\n",
       "      <td>0.871045</td>\n",
       "      <td>139364.273208</td>\n",
       "      <td>234.777587</td>\n",
       "    </tr>\n",
       "    <tr>\n",
       "      <th>D4</th>\n",
       "      <td>0.864747</td>\n",
       "      <td>136980.039733</td>\n",
       "      <td>211.140088</td>\n",
       "    </tr>\n",
       "    <tr>\n",
       "      <th>D5</th>\n",
       "      <td>0.888300</td>\n",
       "      <td>137808.867863</td>\n",
       "      <td>225.332805</td>\n",
       "    </tr>\n",
       "    <tr>\n",
       "      <th>D6</th>\n",
       "      <td>0.869432</td>\n",
       "      <td>136693.423135</td>\n",
       "      <td>228.060995</td>\n",
       "    </tr>\n",
       "    <tr>\n",
       "      <th>D7</th>\n",
       "      <td>0.884690</td>\n",
       "      <td>139494.265829</td>\n",
       "      <td>242.148127</td>\n",
       "    </tr>\n",
       "    <tr>\n",
       "      <th>D8</th>\n",
       "      <td>0.899027</td>\n",
       "      <td>136363.271305</td>\n",
       "      <td>239.985330</td>\n",
       "    </tr>\n",
       "    <tr>\n",
       "      <th>D9</th>\n",
       "      <td>0.896185</td>\n",
       "      <td>137292.419161</td>\n",
       "      <td>211.347852</td>\n",
       "    </tr>\n",
       "  </tbody>\n",
       "</table>\n",
       "</div>"
      ],
      "text/plain": [
       "           bd_mean  train_time_mean  inference_time_mean\n",
       "day_test                                                \n",
       "D1        0.824808    138234.220232           227.594376\n",
       "D10       0.891526    137045.386859           222.853252\n",
       "D11       0.895955    137130.907604           217.284475\n",
       "D12       0.900461    136802.448545           238.462857\n",
       "D13       0.872862    137764.082636           213.721820\n",
       "D14       0.873016    136652.629716           227.825982\n",
       "D15       0.859677    137228.969165           239.402907\n",
       "D2        0.858653    139208.306585           209.389414\n",
       "D3        0.871045    139364.273208           234.777587\n",
       "D4        0.864747    136980.039733           211.140088\n",
       "D5        0.888300    137808.867863           225.332805\n",
       "D6        0.869432    136693.423135           228.060995\n",
       "D7        0.884690    139494.265829           242.148127\n",
       "D8        0.899027    136363.271305           239.985330\n",
       "D9        0.896185    137292.419161           211.347852"
      ]
     },
     "execution_count": 187,
     "metadata": {},
     "output_type": "execute_result"
    }
   ],
   "source": [
    "bd_df.groupby('day_test').mean('bd_mean')"
   ]
  },
  {
   "cell_type": "code",
   "execution_count": null,
   "id": "76051f2f-af2d-4e7e-adb4-f4953e7827ea",
   "metadata": {},
   "outputs": [],
   "source": []
  }
 ],
 "metadata": {
  "kernelspec": {
   "display_name": "Python 3 (ipykernel)",
   "language": "python",
   "name": "python3"
  },
  "language_info": {
   "codemirror_mode": {
    "name": "ipython",
    "version": 3
   },
   "file_extension": ".py",
   "mimetype": "text/x-python",
   "name": "python",
   "nbconvert_exporter": "python",
   "pygments_lexer": "ipython3",
   "version": "3.10.14"
  }
 },
 "nbformat": 4,
 "nbformat_minor": 5
}
