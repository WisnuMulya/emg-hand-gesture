{
 "cells": [
  {
   "cell_type": "code",
   "execution_count": 358,
   "id": "b5cadbb7-69a9-424f-a558-249fdcdbf9c7",
   "metadata": {},
   "outputs": [],
   "source": [
    "import torch, pickle, librosa\n",
    "import torch.nn as nn\n",
    "import torch.optim as optim\n",
    "import torch.nn.functional as F\n",
    "import numpy as np\n",
    "import pandas as pd\n",
    "import matplotlib.pyplot as plt\n",
    "from torch.utils.data import Dataset\n",
    "from torch.utils.data import DataLoader, TensorDataset\n",
    "from sklearn.metrics import accuracy_score\n",
    "from sklearn.model_selection import train_test_split\n",
    "from tqdm import tqdm"
   ]
  },
  {
   "cell_type": "markdown",
   "id": "667f313c-d131-4780-91ec-ac2dff488c25",
   "metadata": {},
   "source": [
    "## Import Data"
   ]
  },
  {
   "cell_type": "code",
   "execution_count": 2,
   "id": "842d1eb4-7737-4286-a2ca-ace02be7d71e",
   "metadata": {},
   "outputs": [],
   "source": [
    "file = open('data-200-29.pkl', 'rb')\n",
    "df = pickle.load(file)\n",
    "file.close()"
   ]
  },
  {
   "cell_type": "code",
   "execution_count": 3,
   "id": "0bca0783-ba36-410f-b855-06a2bfa09ed4",
   "metadata": {},
   "outputs": [
    {
     "data": {
      "text/html": [
       "<div>\n",
       "<style scoped>\n",
       "    .dataframe tbody tr th:only-of-type {\n",
       "        vertical-align: middle;\n",
       "    }\n",
       "\n",
       "    .dataframe tbody tr th {\n",
       "        vertical-align: top;\n",
       "    }\n",
       "\n",
       "    .dataframe thead th {\n",
       "        text-align: right;\n",
       "    }\n",
       "</style>\n",
       "<table border=\"1\" class=\"dataframe\">\n",
       "  <thead>\n",
       "    <tr style=\"text-align: right;\">\n",
       "      <th></th>\n",
       "      <th>subject</th>\n",
       "      <th>day</th>\n",
       "      <th>session</th>\n",
       "      <th>motion</th>\n",
       "      <th>repetition</th>\n",
       "      <th>window_emg</th>\n",
       "    </tr>\n",
       "  </thead>\n",
       "  <tbody>\n",
       "    <tr>\n",
       "      <th>0</th>\n",
       "      <td>sub03</td>\n",
       "      <td>D3</td>\n",
       "      <td>S1</td>\n",
       "      <td>OH</td>\n",
       "      <td>1</td>\n",
       "      <td>[[0.4140625, 0.6015625, -0.203125, -0.2109375,...</td>\n",
       "    </tr>\n",
       "    <tr>\n",
       "      <th>1</th>\n",
       "      <td>sub03</td>\n",
       "      <td>D3</td>\n",
       "      <td>S1</td>\n",
       "      <td>OH</td>\n",
       "      <td>1</td>\n",
       "      <td>[[-0.453125, 0.109375, -0.234375, -0.078125, -...</td>\n",
       "    </tr>\n",
       "    <tr>\n",
       "      <th>2</th>\n",
       "      <td>sub03</td>\n",
       "      <td>D3</td>\n",
       "      <td>S1</td>\n",
       "      <td>OH</td>\n",
       "      <td>1</td>\n",
       "      <td>[[-0.046875, 0.0390625, -0.4296875, -0.0546875...</td>\n",
       "    </tr>\n",
       "    <tr>\n",
       "      <th>3</th>\n",
       "      <td>sub03</td>\n",
       "      <td>D3</td>\n",
       "      <td>S1</td>\n",
       "      <td>OH</td>\n",
       "      <td>1</td>\n",
       "      <td>[[0.15625, 0.015625, -0.2265625, -0.0234375, 0...</td>\n",
       "    </tr>\n",
       "    <tr>\n",
       "      <th>4</th>\n",
       "      <td>sub03</td>\n",
       "      <td>D3</td>\n",
       "      <td>S1</td>\n",
       "      <td>OH</td>\n",
       "      <td>1</td>\n",
       "      <td>[[-0.1484375, -0.140625, 0.015625, 0.03125, 0....</td>\n",
       "    </tr>\n",
       "  </tbody>\n",
       "</table>\n",
       "</div>"
      ],
      "text/plain": [
       "  subject day session motion  repetition  \\\n",
       "0   sub03  D3      S1     OH           1   \n",
       "1   sub03  D3      S1     OH           1   \n",
       "2   sub03  D3      S1     OH           1   \n",
       "3   sub03  D3      S1     OH           1   \n",
       "4   sub03  D3      S1     OH           1   \n",
       "\n",
       "                                          window_emg  \n",
       "0  [[0.4140625, 0.6015625, -0.203125, -0.2109375,...  \n",
       "1  [[-0.453125, 0.109375, -0.234375, -0.078125, -...  \n",
       "2  [[-0.046875, 0.0390625, -0.4296875, -0.0546875...  \n",
       "3  [[0.15625, 0.015625, -0.2265625, -0.0234375, 0...  \n",
       "4  [[-0.1484375, -0.140625, 0.015625, 0.03125, 0....  "
      ]
     },
     "execution_count": 3,
     "metadata": {},
     "output_type": "execute_result"
    }
   ],
   "source": [
    "df.head()"
   ]
  },
  {
   "cell_type": "code",
   "execution_count": 4,
   "id": "1c1fcdd1-aa87-4a18-83e2-9761583adce5",
   "metadata": {},
   "outputs": [
    {
     "data": {
      "text/plain": [
       "(2891700, 6)"
      ]
     },
     "execution_count": 4,
     "metadata": {},
     "output_type": "execute_result"
    }
   ],
   "source": [
    "df.shape"
   ]
  },
  {
   "cell_type": "markdown",
   "id": "026a31ab-27b1-4f71-b789-b37aa83abbaf",
   "metadata": {},
   "source": [
    "## Preprocessing Data"
   ]
  },
  {
   "cell_type": "markdown",
   "id": "b2aa7975-9037-4333-b209-0aa9bf73eb1c",
   "metadata": {},
   "source": [
    "### Change Labels into Numerics"
   ]
  },
  {
   "cell_type": "code",
   "execution_count": 300,
   "id": "9667bc14-0116-4eb6-8ae8-31411c1bea74",
   "metadata": {},
   "outputs": [
    {
     "name": "stderr",
     "output_type": "stream",
     "text": [
      "/var/folders/fg/wwsz02rn0qn31sz3qslnnjm80000gn/T/ipykernel_22139/4281264563.py:1: FutureWarning: Downcasting behavior in `replace` is deprecated and will be removed in a future version. To retain the old behavior, explicitly call `result.infer_objects(copy=False)`. To opt-in to the future behavior, set `pd.set_option('future.no_silent_downcasting', True)`\n",
      "  df['label'] = df.motion.replace(\n"
     ]
    }
   ],
   "source": [
    "df['label'] = df.motion.replace(\n",
    "    df.motion.drop_duplicates().tolist(),\n",
    "    [i for i in range(9)]\n",
    ")"
   ]
  },
  {
   "cell_type": "code",
   "execution_count": 301,
   "id": "a9f12d00-221a-4534-8f20-5d20d1dc0e0d",
   "metadata": {},
   "outputs": [
    {
     "data": {
      "text/html": [
       "<div>\n",
       "<style scoped>\n",
       "    .dataframe tbody tr th:only-of-type {\n",
       "        vertical-align: middle;\n",
       "    }\n",
       "\n",
       "    .dataframe tbody tr th {\n",
       "        vertical-align: top;\n",
       "    }\n",
       "\n",
       "    .dataframe thead th {\n",
       "        text-align: right;\n",
       "    }\n",
       "</style>\n",
       "<table border=\"1\" class=\"dataframe\">\n",
       "  <thead>\n",
       "    <tr style=\"text-align: right;\">\n",
       "      <th></th>\n",
       "      <th>subject</th>\n",
       "      <th>day</th>\n",
       "      <th>session</th>\n",
       "      <th>motion</th>\n",
       "      <th>repetition</th>\n",
       "      <th>window_emg</th>\n",
       "      <th>label</th>\n",
       "    </tr>\n",
       "  </thead>\n",
       "  <tbody>\n",
       "    <tr>\n",
       "      <th>0</th>\n",
       "      <td>sub03</td>\n",
       "      <td>D3</td>\n",
       "      <td>S1</td>\n",
       "      <td>OH</td>\n",
       "      <td>1</td>\n",
       "      <td>[[0.4140625, 0.6015625, -0.203125, -0.2109375,...</td>\n",
       "      <td>0</td>\n",
       "    </tr>\n",
       "    <tr>\n",
       "      <th>1</th>\n",
       "      <td>sub03</td>\n",
       "      <td>D3</td>\n",
       "      <td>S1</td>\n",
       "      <td>OH</td>\n",
       "      <td>1</td>\n",
       "      <td>[[-0.453125, 0.109375, -0.234375, -0.078125, -...</td>\n",
       "      <td>0</td>\n",
       "    </tr>\n",
       "    <tr>\n",
       "      <th>2</th>\n",
       "      <td>sub03</td>\n",
       "      <td>D3</td>\n",
       "      <td>S1</td>\n",
       "      <td>OH</td>\n",
       "      <td>1</td>\n",
       "      <td>[[-0.046875, 0.0390625, -0.4296875, -0.0546875...</td>\n",
       "      <td>0</td>\n",
       "    </tr>\n",
       "    <tr>\n",
       "      <th>3</th>\n",
       "      <td>sub03</td>\n",
       "      <td>D3</td>\n",
       "      <td>S1</td>\n",
       "      <td>OH</td>\n",
       "      <td>1</td>\n",
       "      <td>[[0.15625, 0.015625, -0.2265625, -0.0234375, 0...</td>\n",
       "      <td>0</td>\n",
       "    </tr>\n",
       "    <tr>\n",
       "      <th>4</th>\n",
       "      <td>sub03</td>\n",
       "      <td>D3</td>\n",
       "      <td>S1</td>\n",
       "      <td>OH</td>\n",
       "      <td>1</td>\n",
       "      <td>[[-0.1484375, -0.140625, 0.015625, 0.03125, 0....</td>\n",
       "      <td>0</td>\n",
       "    </tr>\n",
       "  </tbody>\n",
       "</table>\n",
       "</div>"
      ],
      "text/plain": [
       "  subject day session motion  repetition  \\\n",
       "0   sub03  D3      S1     OH           1   \n",
       "1   sub03  D3      S1     OH           1   \n",
       "2   sub03  D3      S1     OH           1   \n",
       "3   sub03  D3      S1     OH           1   \n",
       "4   sub03  D3      S1     OH           1   \n",
       "\n",
       "                                          window_emg  label  \n",
       "0  [[0.4140625, 0.6015625, -0.203125, -0.2109375,...      0  \n",
       "1  [[-0.453125, 0.109375, -0.234375, -0.078125, -...      0  \n",
       "2  [[-0.046875, 0.0390625, -0.4296875, -0.0546875...      0  \n",
       "3  [[0.15625, 0.015625, -0.2265625, -0.0234375, 0...      0  \n",
       "4  [[-0.1484375, -0.140625, 0.015625, 0.03125, 0....      0  "
      ]
     },
     "execution_count": 301,
     "metadata": {},
     "output_type": "execute_result"
    }
   ],
   "source": [
    "df.head()"
   ]
  },
  {
   "cell_type": "markdown",
   "id": "3bb071c0-ff72-410e-9fca-532c685e8b8c",
   "metadata": {},
   "source": [
    "### Explore Spectrograms"
   ]
  },
  {
   "cell_type": "code",
   "execution_count": 12,
   "id": "a00a7fb5-b0b5-4139-8cfd-72cc66972aa5",
   "metadata": {},
   "outputs": [],
   "source": [
    "fs = 200"
   ]
  },
  {
   "cell_type": "code",
   "execution_count": 11,
   "id": "fe5428c8-5bbd-4454-85e2-dc3147e28306",
   "metadata": {},
   "outputs": [
    {
     "data": {
      "image/png": "[encoded data removed]",
      "text/plain": [
       "<Figure size 640x480 with 1 Axes>"
      ]
     },
     "metadata": {},
     "output_type": "display_data"
    }
   ],
   "source": [
    "plt.plot(df.loc[0].window_emg[:,0]);"
   ]
  },
  {
   "cell_type": "code",
   "execution_count": 223,
   "id": "f6cda3dc-7808-4748-8159-c80aa071d2a7",
   "metadata": {},
   "outputs": [],
   "source": [
    "freqs = np.fft.rfftfreq(40, 1/fs)"
   ]
  },
  {
   "cell_type": "code",
   "execution_count": 224,
   "id": "035c0702-04e2-4f06-9ea0-af6f539df37f",
   "metadata": {},
   "outputs": [],
   "source": [
    "fft = np.fft.rfft(df.loc[0].window_emg[:,0])"
   ]
  },
  {
   "cell_type": "code",
   "execution_count": 226,
   "id": "81d1904d-6afe-472b-9343-698fe0cbd02c",
   "metadata": {},
   "outputs": [
    {
     "data": {
      "text/plain": [
       "[<matplotlib.lines.Line2D at 0x3d3cf2560>]"
      ]
     },
     "execution_count": 226,
     "metadata": {},
     "output_type": "execute_result"
    },
    {
     "data": {
      "image/png": "[encoded data removed]",
      "text/plain": [
       "<Figure size 640x480 with 1 Axes>"
      ]
     },
     "metadata": {},
     "output_type": "display_data"
    }
   ],
   "source": [
    "plt.plot(freqs, np.abs(fft))"
   ]
  },
  {
   "cell_type": "code",
   "execution_count": 26,
   "id": "56f72521-83f9-4e08-96b4-8ca460f19e27",
   "metadata": {},
   "outputs": [
    {
     "data": {
      "image/png": "[encoded data removed]",
      "text/plain": [
       "<Figure size 640x480 with 1 Axes>"
      ]
     },
     "metadata": {},
     "output_type": "display_data"
    }
   ],
   "source": [
    "spec, freq, _, _ = plt.specgram(df.loc[0].window_emg[:,0], Fs=fs, NFFT=16, noverlap=14)"
   ]
  },
  {
   "cell_type": "code",
   "execution_count": 57,
   "id": "e75032d6-4244-4ff8-b58e-d79246c70df7",
   "metadata": {},
   "outputs": [],
   "source": [
    "mel_scale = lambda f: 2959 * np.log10(1 + f / 700)"
   ]
  },
  {
   "cell_type": "code",
   "execution_count": 272,
   "id": "9102a4fa-9813-446c-865a-7eafb0f7c3e5",
   "metadata": {},
   "outputs": [],
   "source": [
    "def emg_to_lms(emg, fs=200, n_fft=128, hop_length=3):\n",
    "    lms_list = list()\n",
    "    \n",
    "    for i in range(8):\n",
    "        mel_spec = librosa.feature.melspectrogram(y=emg[:, i], sr=fs, n_fft=n_fft, hop_length=hop_length)\n",
    "        lms = librosa.power_to_db(mel_spec)\n",
    "        lms_list.append(lms)\n",
    "\n",
    "    com_lms = np.hstack(lms_list)\n",
    "    \n",
    "    return com_lms"
   ]
  },
  {
   "cell_type": "code",
   "execution_count": 273,
   "id": "a964f3b9-74d9-43e6-9ae8-2dc13864eb16",
   "metadata": {},
   "outputs": [
    {
     "data": {
      "text/plain": [
       "array([[-68.24979786, -68.24979786, -68.24979786, ..., -71.33538676,\n",
       "        -71.33538676, -71.33538676],\n",
       "       [-15.63632691, -15.48703615, -15.3922437 , ...,   0.92776395,\n",
       "          0.1050113 ,  -0.84843509],\n",
       "       [-33.62973236, -33.48044159, -33.38564915, ..., -17.06564149,\n",
       "        -17.88839415, -18.84184054],\n",
       "       ...,\n",
       "       [-14.93115607, -14.38235895, -13.8729068 , ..., -19.16062279,\n",
       "        -19.71190312, -20.37202423],\n",
       "       [  3.06224937,   3.61104649,   4.12049865, ...,  -1.16721735,\n",
       "         -1.71849768,  -2.37861879],\n",
       "       [-68.24979786, -68.24979786, -68.24979786, ..., -71.33538676,\n",
       "        -71.33538676, -71.33538676]])"
      ]
     },
     "execution_count": 273,
     "metadata": {},
     "output_type": "execute_result"
    }
   ],
   "source": [
    "emg_to_lms(df.loc[0].window_emg)"
   ]
  },
  {
   "cell_type": "code",
   "execution_count": 267,
   "id": "027cdedf-5d27-45d6-a6bd-53b45805915d",
   "metadata": {},
   "outputs": [
    {
     "name": "stdout",
     "output_type": "stream",
     "text": [
      "(128, 112)\n"
     ]
    },
    {
     "data": {
      "text/plain": [
       "<matplotlib.image.AxesImage at 0x411141390>"
      ]
     },
     "execution_count": 267,
     "metadata": {},
     "output_type": "execute_result"
    },
    {
     "data": {
      "image/png": "[encoded data removed]",
      "text/plain": [
       "<Figure size 640x480 with 1 Axes>"
      ]
     },
     "metadata": {},
     "output_type": "display_data"
    }
   ],
   "source": [
    "plt.imshow(emg_to_lms(df.loc[0].window_emg))"
   ]
  },
  {
   "cell_type": "code",
   "execution_count": 210,
   "id": "efad7d22-21f0-4b94-96c1-e69d8547263c",
   "metadata": {},
   "outputs": [],
   "source": [
    "com_lms = np.hstack(lms_list)"
   ]
  },
  {
   "cell_type": "code",
   "execution_count": 175,
   "id": "45ee3130-03f2-47b8-8540-066a8a832ac7",
   "metadata": {},
   "outputs": [],
   "source": [
    "resized_lms = librosa.util.fix_length(com_lms, size=128, axis=1)"
   ]
  },
  {
   "cell_type": "markdown",
   "id": "c5cbc9cb-43be-41fa-8d63-7ba117e034d7",
   "metadata": {},
   "source": [
    "## Building Model Architecture"
   ]
  },
  {
   "cell_type": "code",
   "execution_count": 385,
   "id": "f6a19d4b-0b50-4b87-b2f7-3961e43cbec2",
   "metadata": {},
   "outputs": [],
   "source": [
    "class e2cnn(nn.Module):\n",
    "    def __init__(self, input_width, input_height, num_classes):\n",
    "        super(e2cnn, self).__init__()\n",
    "        \n",
    "        # Rescaling Layer\n",
    "        self.rescale = lambda x: (x - x.min()) / (x.max() - x.min())\n",
    "\n",
    "        # Feature Block A\n",
    "        self.feature_block_a = nn.Sequential(\n",
    "            nn.Conv2d(1, 16, kernel_size=7, stride=1, padding=3),\n",
    "            nn.BatchNorm2d(16),\n",
    "            nn.ReLU(),\n",
    "            nn.MaxPool2d(kernel_size=2, stride=2),\n",
    "            \n",
    "            nn.Conv2d(16, 32, kernel_size=5, stride=1, padding=2),\n",
    "            nn.BatchNorm2d(32),\n",
    "            nn.ReLU(),\n",
    "            nn.MaxPool2d(kernel_size=2, stride=2),\n",
    "            \n",
    "            nn.Conv2d(32, 64, kernel_size=3, stride=1, padding=1),\n",
    "            nn.BatchNorm2d(64),\n",
    "            nn.ReLU(),\n",
    "            nn.MaxPool2d(kernel_size=2, stride=2)\n",
    "        )\n",
    "\n",
    "        # Feature Block B\n",
    "        self.conv1b = nn.Conv2d(1, 16, kernel_size=7, stride=1, padding=3)\n",
    "        self.bn1b = nn.BatchNorm2d(16)\n",
    "        self.pool1b = nn.MaxPool2d(kernel_size=2, stride=2)\n",
    "        \n",
    "        self.conv2b = nn.Conv2d(17, 32, kernel_size=5, stride=1, padding=2) # 16 from L1b & 1 from RL1\n",
    "        self.bn2b = nn.BatchNorm2d(32)\n",
    "        self.pool2b = nn.MaxPool2d(kernel_size=2, stride=2)\n",
    "        \n",
    "        self.conv3b = nn.Conv2d(50, 64, kernel_size=3, stride=1, padding=1) # 32 from L2b & 1 from RL1 & 17 from concat1\n",
    "        self.bn3b = nn.BatchNorm2d(64)\n",
    "        self.pool3b = nn.MaxPool2d(kernel_size=2, stride=2)\n",
    "        \n",
    "        # Classification Block\n",
    "        self.flat_n = int(196 * (input_width / 8) * (input_height / 8))\n",
    "        self.fc1 = nn.Linear(self.flat_n, 12)\n",
    "        self.fc2 = nn.Linear(12, 12)\n",
    "        self.fc3 = nn.Linear(12, num_classes)\n",
    "\n",
    "    def forward(self, x):\n",
    "        # Rescaling Layer\n",
    "        x = self.rescale(x)\n",
    "        rl_concat1 = F.max_pool2d(x, kernel_size=2, stride=2) # dim 1\n",
    "        rl_concat2 = F.max_pool2d(x, kernel_size=4, stride=4) # dim 1\n",
    "        rl_concat3 = F.max_pool2d(x, kernel_size=8, stride=8) # dim 1\n",
    "\n",
    "        # Feature block A\n",
    "        l3a = self.feature_block_a(x) # dim 64\n",
    "\n",
    "        # Feature block B\n",
    "        l1b = self.pool1b(F.relu(self.bn1b(self.conv1b(x)))) # dim 16\n",
    "        concat1 = torch.cat((l1b, rl_concat1), dim=1) # dim 17\n",
    "        concat1max = F.max_pool2d(concat1, kernel_size=2, stride=2) # dim 17\n",
    "        concat1max_2 = F.max_pool2d(concat1, kernel_size=4, stride=4) # dim 17\n",
    "\n",
    "        l2b = self.pool2b(F.relu(self.bn2b(self.conv2b(concat1)))) # dim 32\n",
    "        concat2 = torch.cat((l2b, rl_concat2, concat1max), dim=1) # dim 50\n",
    "        concat2max = F.max_pool2d(concat2, kernel_size=2, stride=2) # dim 50\n",
    "\n",
    "        l3b = self.pool3b(F.relu(self.bn3b(self.conv3b(concat2)))) # dim 64\n",
    "        concat3 = torch.cat((l3b, rl_concat3, concat2max, concat1max_2), dim=1) # dim 132\n",
    "\n",
    "        # Classification Block\n",
    "        concat4 = torch.cat((concat3, l3a), dim=1) # dim 196\n",
    "        concat4 = concat4.reshape(-1, self.flat_n)\n",
    "        out = self.fc3(F.relu(self.fc2(F.relu(self.fc1(concat4)))))\n",
    "        \n",
    "        return F.softmax(out, dim=1)\n",
    "        "
   ]
  },
  {
   "cell_type": "code",
   "execution_count": 386,
   "id": "f551ee8e-d8a8-45d0-bdec-3d33119b6661",
   "metadata": {},
   "outputs": [],
   "source": [
    "model = e2cnn(112, 128, 9)"
   ]
  },
  {
   "cell_type": "code",
   "execution_count": 338,
   "id": "82b9a9d1-a612-4004-8da0-511a0dbcd9c4",
   "metadata": {},
   "outputs": [
    {
     "data": {
      "text/plain": [
       "e2cnn(\n",
       "  (feature_block_a): Sequential(\n",
       "    (0): Conv2d(1, 16, kernel_size=(7, 7), stride=(1, 1), padding=(3, 3))\n",
       "    (1): BatchNorm2d(16, eps=1e-05, momentum=0.1, affine=True, track_running_stats=True)\n",
       "    (2): ReLU()\n",
       "    (3): MaxPool2d(kernel_size=2, stride=2, padding=0, dilation=1, ceil_mode=False)\n",
       "    (4): Conv2d(16, 32, kernel_size=(5, 5), stride=(1, 1), padding=(2, 2))\n",
       "    (5): BatchNorm2d(32, eps=1e-05, momentum=0.1, affine=True, track_running_stats=True)\n",
       "    (6): ReLU()\n",
       "    (7): MaxPool2d(kernel_size=2, stride=2, padding=0, dilation=1, ceil_mode=False)\n",
       "    (8): Conv2d(32, 64, kernel_size=(3, 3), stride=(1, 1), padding=(1, 1))\n",
       "    (9): BatchNorm2d(64, eps=1e-05, momentum=0.1, affine=True, track_running_stats=True)\n",
       "    (10): ReLU()\n",
       "    (11): MaxPool2d(kernel_size=2, stride=2, padding=0, dilation=1, ceil_mode=False)\n",
       "  )\n",
       "  (conv1b): Conv2d(1, 16, kernel_size=(7, 7), stride=(1, 1), padding=(3, 3))\n",
       "  (bn1b): BatchNorm2d(16, eps=1e-05, momentum=0.1, affine=True, track_running_stats=True)\n",
       "  (pool1b): MaxPool2d(kernel_size=2, stride=2, padding=0, dilation=1, ceil_mode=False)\n",
       "  (conv2b): Conv2d(17, 32, kernel_size=(5, 5), stride=(1, 1), padding=(2, 2))\n",
       "  (bn2b): BatchNorm2d(32, eps=1e-05, momentum=0.1, affine=True, track_running_stats=True)\n",
       "  (pool2b): MaxPool2d(kernel_size=2, stride=2, padding=0, dilation=1, ceil_mode=False)\n",
       "  (conv3b): Conv2d(50, 64, kernel_size=(3, 3), stride=(1, 1), padding=(1, 1))\n",
       "  (bn3b): BatchNorm2d(64, eps=1e-05, momentum=0.1, affine=True, track_running_stats=True)\n",
       "  (pool3b): MaxPool2d(kernel_size=2, stride=2, padding=0, dilation=1, ceil_mode=False)\n",
       "  (fc1): Linear(in_features=43904, out_features=12, bias=True)\n",
       "  (fc2): Linear(in_features=12, out_features=12, bias=True)\n",
       "  (fc3): Linear(in_features=12, out_features=9, bias=True)\n",
       ")"
      ]
     },
     "execution_count": 338,
     "metadata": {},
     "output_type": "execute_result"
    }
   ],
   "source": [
    "model"
   ]
  },
  {
   "cell_type": "markdown",
   "id": "f45146fe-6a4f-44b0-98f1-3630834c0f1d",
   "metadata": {},
   "source": [
    "## Training"
   ]
  },
  {
   "cell_type": "markdown",
   "id": "65ffe248-0d5b-4c74-8764-5d6db4c8e886",
   "metadata": {},
   "source": [
    "### Cold-Run Training on Subject 1"
   ]
  },
  {
   "cell_type": "markdown",
   "id": "a7ddd13b-438b-45c4-8b96-ac8bae18de71",
   "metadata": {},
   "source": [
    "#### Grab Subset of the Data"
   ]
  },
  {
   "cell_type": "code",
   "execution_count": 302,
   "id": "6fde38b7-686c-4396-9eb8-773336cc4df7",
   "metadata": {},
   "outputs": [],
   "source": [
    "sub1 = df[(df.subject == 'sub01') & \n",
    "          (df.day.apply(lambda x: x in ('D1', 'D2', 'D3', 'D4', 'D5', 'D6', 'D7'))) &\n",
    "          (df.repetition.apply(lambda x: x in range(6)))].reset_index(drop=True)"
   ]
  },
  {
   "cell_type": "code",
   "execution_count": 305,
   "id": "daa1eb4f-18e8-4136-9010-805af1b9457c",
   "metadata": {},
   "outputs": [
    {
     "data": {
      "text/plain": [
       "label\n",
       "0    10710\n",
       "1    10710\n",
       "2    10710\n",
       "3    10710\n",
       "4    10710\n",
       "5    10710\n",
       "6    10710\n",
       "7    10710\n",
       "8    10710\n",
       "Name: count, dtype: int64"
      ]
     },
     "execution_count": 305,
     "metadata": {},
     "output_type": "execute_result"
    }
   ],
   "source": [
    "sub1.label.value_counts()"
   ]
  },
  {
   "cell_type": "code",
   "execution_count": 277,
   "id": "680f73d0-9c58-4d1b-a9a5-9236cd4eea6f",
   "metadata": {},
   "outputs": [],
   "source": [
    "tqdm.pandas()"
   ]
  },
  {
   "cell_type": "code",
   "execution_count": 307,
   "id": "1547a7fd-42f1-43c4-b8d6-7d66ab32b31b",
   "metadata": {},
   "outputs": [
    {
     "name": "stderr",
     "output_type": "stream",
     "text": [
      "100%|████████████████████████████████████████████████████████████████████████████████████████████████████████████████████████████████████████████████████████████████████████████████████████████████████████████████████████████████████████████████████████| 96390/96390 [12:52<00:00, 124.73it/s]\n"
     ]
    }
   ],
   "source": [
    "sub1['lms'] = sub1.window_emg.progress_apply(emg_to_lms)"
   ]
  },
  {
   "cell_type": "code",
   "execution_count": 308,
   "id": "a5b13c3c-6cbe-4618-9232-e14bbe008d62",
   "metadata": {},
   "outputs": [],
   "source": [
    "file = open('sub1-spec.pkl', 'wb')\n",
    "pickle.dump(sub1, file)\n",
    "file.close()"
   ]
  },
  {
   "cell_type": "markdown",
   "id": "d8920837-ebdc-4bce-a4ce-aaf373c6152f",
   "metadata": {},
   "source": [
    "#### Cold-Run Forward Inference"
   ]
  },
  {
   "cell_type": "code",
   "execution_count": 387,
   "id": "716fa42f-d8ec-4670-881e-4ef8f9ca7bd6",
   "metadata": {},
   "outputs": [],
   "source": [
    "sub1_ex = torch.FloatTensor(sub1.loc[0].lms).to('mps').unsqueeze(0).unsqueeze(0)\n",
    "model.to('mps')\n",
    "a = model(sub1_ex)"
   ]
  },
  {
   "cell_type": "code",
   "execution_count": 388,
   "id": "a272c66f-2ebd-49d0-bb9a-9aca1b5bd649",
   "metadata": {},
   "outputs": [
    {
     "data": {
      "text/plain": [
       "tensor([[0.0892, 0.1512, 0.0848, 0.1350, 0.1302, 0.1095, 0.0944, 0.0845, 0.1212]],\n",
       "       device='mps:0', grad_fn=<SoftmaxBackward0>)"
      ]
     },
     "execution_count": 388,
     "metadata": {},
     "output_type": "execute_result"
    }
   ],
   "source": [
    "a"
   ]
  },
  {
   "cell_type": "code",
   "execution_count": 356,
   "id": "cbff8ab8-9ee1-4a93-bf7c-f73581322cb0",
   "metadata": {},
   "outputs": [],
   "source": [
    "_, y_pred = a.max(1)"
   ]
  },
  {
   "cell_type": "code",
   "execution_count": 357,
   "id": "f97f0f6d-51d5-423f-92ee-5c47845ab38b",
   "metadata": {},
   "outputs": [
    {
     "data": {
      "text/plain": [
       "tensor([4], device='mps:0')"
      ]
     },
     "execution_count": 357,
     "metadata": {},
     "output_type": "execute_result"
    }
   ],
   "source": [
    "y_pred"
   ]
  },
  {
   "cell_type": "code",
   "execution_count": 243,
   "id": "bd859a1d-8dae-4a87-a533-1239903eea02",
   "metadata": {},
   "outputs": [
    {
     "data": {
      "text/plain": [
       "torch.Size([6, 5, 5])"
      ]
     },
     "execution_count": 243,
     "metadata": {},
     "output_type": "execute_result"
    }
   ],
   "source": [
    "torch.cat((torch.rand(1, 5, 5), torch.rand(2, 5, 5), torch.rand(3, 5,5 )), dim=0).shape"
   ]
  },
  {
   "cell_type": "markdown",
   "id": "1ad929c2-9840-458e-abd6-457bae269727",
   "metadata": {},
   "source": [
    "#### Prepare Training Data"
   ]
  },
  {
   "cell_type": "code",
   "execution_count": 361,
   "id": "4f104693-3a09-414e-b2cd-29e65ae34ce7",
   "metadata": {},
   "outputs": [],
   "source": [
    "device = 'mps'"
   ]
  },
  {
   "cell_type": "code",
   "execution_count": 375,
   "id": "5d03759e-77b1-48fe-8702-17d020d4c0c4",
   "metadata": {},
   "outputs": [],
   "source": [
    "X_train, X_test, y_train, y_test = train_test_split(np.stack(sub1.lms.to_numpy()), sub1.label.to_numpy(), test_size=0.2, random_state=42)"
   ]
  },
  {
   "cell_type": "code",
   "execution_count": 378,
   "id": "61dec9e4-c609-4763-876e-c4cc41f0c2c5",
   "metadata": {},
   "outputs": [],
   "source": [
    "X_train = X_train.reshape(-1, 1, 128, 112)\n",
    "X_test = X_test.reshape(-1, 1, 128, 112)"
   ]
  },
  {
   "cell_type": "code",
   "execution_count": 381,
   "id": "68f2a574-3729-4283-9cf8-0007e6cdab60",
   "metadata": {},
   "outputs": [],
   "source": [
    "X_train_tensor = torch.FloatTensor(X_train).to(device)\n",
    "X_test_tensor = torch.FloatTensor(X_test).to(device)\n",
    "y_train = torch.FloatTensor(y_train).to(device)\n",
    "y_test = torch.FloatTensor(y_test).to(device)"
   ]
  },
  {
   "cell_type": "code",
   "execution_count": 400,
   "id": "21a95120-587f-4166-9269-48500cc7c204",
   "metadata": {
    "scrolled": true
   },
   "outputs": [
    {
     "name": "stdout",
     "output_type": "stream",
     "text": [
      "Epoch [1/100], Batch 0, Loss: 2.2071\n",
      "Epoch [1/100], Batch 100, Loss: 1.9708\n",
      "Epoch [1/100], Batch 200, Loss: 1.8359\n",
      "Epoch [1/100], Batch 300, Loss: 1.8226\n",
      "Epoch [1/100], Batch 400, Loss: 1.9112\n",
      "Epoch [1/100], Batch 500, Loss: 1.7350\n",
      "Epoch [1/100], Batch 600, Loss: 1.8982\n",
      "Epoch [1/100], Batch 700, Loss: 1.6689\n",
      "Epoch [1/100], Batch 800, Loss: 1.8916\n",
      "Epoch [1/100], Batch 900, Loss: 1.8485\n",
      "Epoch [1/100], Batch 1000, Loss: 1.7716\n",
      "Epoch [1/100], Batch 1100, Loss: 1.8270\n",
      "Epoch [1/100], Batch 1200, Loss: 1.6919\n",
      "Epoch [1/100], Batch 1300, Loss: 1.6172\n",
      "Epoch [1/100], Batch 1400, Loss: 1.8223\n",
      "Epoch [1/100], Batch 1500, Loss: 1.8650\n",
      "Epoch [1/100], Batch 1600, Loss: 1.7905\n",
      "Epoch [1/100], Batch 1700, Loss: 1.7454\n",
      "Epoch [1/100], Batch 1800, Loss: 1.7359\n",
      "Epoch [1/100], Batch 1900, Loss: 1.8536\n",
      "Epoch [1/100], Batch 2000, Loss: 1.6879\n",
      "Epoch [1/100], Batch 2100, Loss: 1.7738\n",
      "Epoch [1/100], Batch 2200, Loss: 1.6431\n",
      "Epoch [1/100], Batch 2300, Loss: 1.6936\n",
      "Epoch [1/100], Batch 2400, Loss: 1.8299\n",
      "Epoch [1/100], Avg Loss: 1.8080\n",
      "Epoch [2/100], Batch 0, Loss: 1.8438\n",
      "Epoch [2/100], Batch 100, Loss: 1.7358\n",
      "Epoch [2/100], Batch 200, Loss: 1.6917\n",
      "Epoch [2/100], Batch 300, Loss: 1.7339\n",
      "Epoch [2/100], Batch 400, Loss: 1.6101\n",
      "Epoch [2/100], Batch 500, Loss: 1.6776\n",
      "Epoch [2/100], Batch 600, Loss: 1.7339\n",
      "Epoch [2/100], Batch 700, Loss: 1.6295\n",
      "Epoch [2/100], Batch 800, Loss: 1.7858\n",
      "Epoch [2/100], Batch 900, Loss: 1.8267\n",
      "Epoch [2/100], Batch 1000, Loss: 1.7729\n",
      "Epoch [2/100], Batch 1100, Loss: 1.7432\n",
      "Epoch [2/100], Batch 1200, Loss: 1.7967\n",
      "Epoch [2/100], Batch 1300, Loss: 1.8563\n",
      "Epoch [2/100], Batch 1400, Loss: 1.7437\n",
      "Epoch [2/100], Batch 1500, Loss: 1.7368\n",
      "Epoch [2/100], Batch 1600, Loss: 1.8557\n",
      "Epoch [2/100], Batch 1700, Loss: 1.8019\n",
      "Epoch [2/100], Batch 1800, Loss: 1.6803\n",
      "Epoch [2/100], Batch 1900, Loss: 1.7681\n",
      "Epoch [2/100], Batch 2000, Loss: 1.6463\n",
      "Epoch [2/100], Batch 2100, Loss: 1.7099\n",
      "Epoch [2/100], Batch 2200, Loss: 1.8844\n",
      "Epoch [2/100], Batch 2300, Loss: 1.6360\n",
      "Epoch [2/100], Batch 2400, Loss: 1.6828\n",
      "Epoch [2/100], Avg Loss: 1.7116\n",
      "Epoch [3/100], Batch 0, Loss: 1.6233\n",
      "Epoch [3/100], Batch 100, Loss: 1.8214\n",
      "Epoch [3/100], Batch 200, Loss: 1.7435\n",
      "Epoch [3/100], Batch 300, Loss: 1.7352\n",
      "Epoch [3/100], Batch 400, Loss: 1.6830\n",
      "Epoch [3/100], Batch 500, Loss: 1.6850\n",
      "Epoch [3/100], Batch 600, Loss: 1.7342\n",
      "Epoch [3/100], Batch 700, Loss: 1.6852\n",
      "Epoch [3/100], Batch 800, Loss: 1.7379\n",
      "Epoch [3/100], Batch 900, Loss: 1.7211\n",
      "Epoch [3/100], Batch 1000, Loss: 1.6960\n",
      "Epoch [3/100], Batch 1100, Loss: 1.7041\n",
      "Epoch [3/100], Batch 1200, Loss: 1.5314\n",
      "Epoch [3/100], Batch 1300, Loss: 1.5993\n",
      "Epoch [3/100], Batch 1400, Loss: 1.6076\n",
      "Epoch [3/100], Batch 1500, Loss: 1.5852\n",
      "Epoch [3/100], Batch 1600, Loss: 1.5364\n",
      "Epoch [3/100], Batch 1700, Loss: 1.6237\n",
      "Epoch [3/100], Batch 1800, Loss: 1.5950\n",
      "Epoch [3/100], Batch 1900, Loss: 1.5983\n",
      "Epoch [3/100], Batch 2000, Loss: 1.5413\n",
      "Epoch [3/100], Batch 2100, Loss: 1.5907\n",
      "Epoch [3/100], Batch 2200, Loss: 1.6256\n",
      "Epoch [3/100], Batch 2300, Loss: 1.7543\n",
      "Epoch [3/100], Batch 2400, Loss: 1.5838\n",
      "Epoch [3/100], Avg Loss: 1.6536\n",
      "Epoch [4/100], Batch 0, Loss: 1.5637\n",
      "Epoch [4/100], Batch 100, Loss: 1.6185\n",
      "Epoch [4/100], Batch 200, Loss: 1.5807\n",
      "Epoch [4/100], Batch 300, Loss: 1.5820\n",
      "Epoch [4/100], Batch 400, Loss: 1.4817\n",
      "Epoch [4/100], Batch 500, Loss: 1.6420\n",
      "Epoch [4/100], Batch 600, Loss: 1.5511\n",
      "Epoch [4/100], Batch 700, Loss: 1.5664\n",
      "Epoch [4/100], Batch 800, Loss: 1.5311\n",
      "Epoch [4/100], Batch 900, Loss: 1.5191\n",
      "Epoch [4/100], Batch 1000, Loss: 1.5043\n",
      "Epoch [4/100], Batch 1100, Loss: 1.4464\n",
      "Epoch [4/100], Batch 1200, Loss: 1.5289\n",
      "Epoch [4/100], Batch 1300, Loss: 1.4745\n",
      "Epoch [4/100], Batch 1400, Loss: 1.5410\n",
      "Epoch [4/100], Batch 1500, Loss: 1.5986\n",
      "Epoch [4/100], Batch 1600, Loss: 1.4582\n",
      "Epoch [4/100], Batch 1700, Loss: 1.4381\n",
      "Epoch [4/100], Batch 1800, Loss: 1.4140\n",
      "Epoch [4/100], Batch 1900, Loss: 1.5340\n",
      "Epoch [4/100], Batch 2000, Loss: 1.4959\n",
      "Epoch [4/100], Batch 2100, Loss: 1.5457\n",
      "Epoch [4/100], Batch 2200, Loss: 1.5402\n",
      "Epoch [4/100], Batch 2300, Loss: 1.4725\n",
      "Epoch [4/100], Batch 2400, Loss: 1.4724\n",
      "Epoch [4/100], Avg Loss: 1.5269\n",
      "Epoch [5/100], Batch 0, Loss: 1.4894\n",
      "Epoch [5/100], Batch 100, Loss: 1.6182\n",
      "Epoch [5/100], Batch 200, Loss: 1.4761\n",
      "Epoch [5/100], Batch 300, Loss: 1.4714\n",
      "Epoch [5/100], Batch 400, Loss: 1.4382\n",
      "Epoch [5/100], Batch 500, Loss: 1.4766\n",
      "Epoch [5/100], Batch 600, Loss: 1.4598\n",
      "Epoch [5/100], Batch 700, Loss: 1.5051\n",
      "Epoch [5/100], Batch 800, Loss: 1.5213\n",
      "Epoch [5/100], Batch 900, Loss: 1.5100\n",
      "Epoch [5/100], Batch 1000, Loss: 1.5252\n",
      "Epoch [5/100], Batch 1100, Loss: 1.5257\n",
      "Epoch [5/100], Batch 1200, Loss: 1.5496\n",
      "Epoch [5/100], Batch 1300, Loss: 1.5017\n",
      "Epoch [5/100], Batch 1400, Loss: 1.4990\n",
      "Epoch [5/100], Batch 1500, Loss: 1.5474\n",
      "Epoch [5/100], Batch 1600, Loss: 1.4819\n",
      "Epoch [5/100], Batch 1700, Loss: 1.4689\n",
      "Epoch [5/100], Batch 1800, Loss: 1.4849\n",
      "Epoch [5/100], Batch 1900, Loss: 1.5444\n",
      "Epoch [5/100], Batch 2000, Loss: 1.5157\n",
      "Epoch [5/100], Batch 2100, Loss: 1.5225\n",
      "Epoch [5/100], Batch 2200, Loss: 1.5019\n",
      "Epoch [5/100], Batch 2300, Loss: 1.4821\n",
      "Epoch [5/100], Batch 2400, Loss: 1.5691\n",
      "Epoch [5/100], Avg Loss: 1.5146\n",
      "Epoch [6/100], Batch 0, Loss: 1.5266\n",
      "Epoch [6/100], Batch 100, Loss: 1.5035\n",
      "Epoch [6/100], Batch 200, Loss: 1.4208\n",
      "Epoch [6/100], Batch 300, Loss: 1.4819\n",
      "Epoch [6/100], Batch 400, Loss: 1.5958\n",
      "Epoch [6/100], Batch 500, Loss: 1.5017\n",
      "Epoch [6/100], Batch 600, Loss: 1.4420\n",
      "Epoch [6/100], Batch 700, Loss: 1.5427\n",
      "Epoch [6/100], Batch 800, Loss: 1.5052\n",
      "Epoch [6/100], Batch 900, Loss: 1.5902\n",
      "Epoch [6/100], Batch 1000, Loss: 1.4369\n",
      "Epoch [6/100], Batch 1100, Loss: 1.5748\n",
      "Epoch [6/100], Batch 1200, Loss: 1.4780\n",
      "Epoch [6/100], Batch 1300, Loss: 1.4850\n",
      "Epoch [6/100], Batch 1400, Loss: 1.5065\n",
      "Epoch [6/100], Batch 1500, Loss: 1.5281\n",
      "Epoch [6/100], Batch 1600, Loss: 1.4745\n",
      "Epoch [6/100], Batch 1700, Loss: 1.4959\n",
      "Epoch [6/100], Batch 1800, Loss: 1.4728\n",
      "Epoch [6/100], Batch 1900, Loss: 1.4768\n",
      "Epoch [6/100], Batch 2000, Loss: 1.4746\n",
      "Epoch [6/100], Batch 2100, Loss: 1.4996\n",
      "Epoch [6/100], Batch 2200, Loss: 1.5009\n",
      "Epoch [6/100], Batch 2300, Loss: 1.5354\n",
      "Epoch [6/100], Batch 2400, Loss: 1.5400\n",
      "Epoch [6/100], Avg Loss: 1.5102\n",
      "Epoch [7/100], Batch 0, Loss: 1.5385\n",
      "Epoch [7/100], Batch 100, Loss: 1.4563\n",
      "Epoch [7/100], Batch 200, Loss: 1.4295\n",
      "Epoch [7/100], Batch 300, Loss: 1.4402\n",
      "Epoch [7/100], Batch 400, Loss: 1.5035\n",
      "Epoch [7/100], Batch 500, Loss: 1.4740\n",
      "Epoch [7/100], Batch 600, Loss: 1.4154\n",
      "Epoch [7/100], Batch 700, Loss: 1.4705\n",
      "Epoch [7/100], Batch 800, Loss: 1.6359\n",
      "Epoch [7/100], Batch 900, Loss: 1.5038\n",
      "Epoch [7/100], Batch 1000, Loss: 1.6500\n",
      "Epoch [7/100], Batch 1100, Loss: 1.5640\n",
      "Epoch [7/100], Batch 1200, Loss: 1.4438\n",
      "Epoch [7/100], Batch 1300, Loss: 1.4647\n",
      "Epoch [7/100], Batch 1400, Loss: 1.5232\n",
      "Epoch [7/100], Batch 1500, Loss: 1.4683\n",
      "Epoch [7/100], Batch 1600, Loss: 1.6712\n",
      "Epoch [7/100], Batch 1700, Loss: 1.4341\n",
      "Epoch [7/100], Batch 1800, Loss: 1.5287\n",
      "Epoch [7/100], Batch 1900, Loss: 1.5267\n",
      "Epoch [7/100], Batch 2000, Loss: 1.4930\n",
      "Epoch [7/100], Batch 2100, Loss: 1.5595\n",
      "Epoch [7/100], Batch 2200, Loss: 1.4708\n",
      "Epoch [7/100], Batch 2300, Loss: 1.4702\n",
      "Epoch [7/100], Batch 2400, Loss: 1.4780\n",
      "Epoch [7/100], Avg Loss: 1.5078\n",
      "Epoch [8/100], Batch 0, Loss: 1.5098\n",
      "Epoch [8/100], Batch 100, Loss: 1.4403\n",
      "Epoch [8/100], Batch 200, Loss: 1.4027\n",
      "Epoch [8/100], Batch 300, Loss: 1.5298\n",
      "Epoch [8/100], Batch 400, Loss: 1.4258\n",
      "Epoch [8/100], Batch 500, Loss: 1.6137\n",
      "Epoch [8/100], Batch 600, Loss: 1.5580\n",
      "Epoch [8/100], Batch 700, Loss: 1.5256\n",
      "Epoch [8/100], Batch 800, Loss: 1.5645\n",
      "Epoch [8/100], Batch 900, Loss: 1.5444\n",
      "Epoch [8/100], Batch 1000, Loss: 1.5161\n",
      "Epoch [8/100], Batch 1100, Loss: 1.5587\n",
      "Epoch [8/100], Batch 1200, Loss: 1.5982\n",
      "Epoch [8/100], Batch 1300, Loss: 1.4351\n",
      "Epoch [8/100], Batch 1400, Loss: 1.5096\n",
      "Epoch [8/100], Batch 1500, Loss: 1.5514\n",
      "Epoch [8/100], Batch 1600, Loss: 1.4695\n",
      "Epoch [8/100], Batch 1700, Loss: 1.5627\n",
      "Epoch [8/100], Batch 1800, Loss: 1.4343\n",
      "Epoch [8/100], Batch 1900, Loss: 1.4906\n",
      "Epoch [8/100], Batch 2000, Loss: 1.5880\n",
      "Epoch [8/100], Batch 2100, Loss: 1.5079\n",
      "Epoch [8/100], Batch 2200, Loss: 1.5230\n",
      "Epoch [8/100], Batch 2300, Loss: 1.4676\n",
      "Epoch [8/100], Batch 2400, Loss: 1.4977\n",
      "Epoch [8/100], Avg Loss: 1.5059\n",
      "Epoch [9/100], Batch 0, Loss: 1.5327\n",
      "Epoch [9/100], Batch 100, Loss: 1.5086\n",
      "Epoch [9/100], Batch 200, Loss: 1.6086\n",
      "Epoch [9/100], Batch 300, Loss: 1.4358\n",
      "Epoch [9/100], Batch 400, Loss: 1.5361\n",
      "Epoch [9/100], Batch 500, Loss: 1.4941\n",
      "Epoch [9/100], Batch 600, Loss: 1.5361\n",
      "Epoch [9/100], Batch 700, Loss: 1.4485\n",
      "Epoch [9/100], Batch 800, Loss: 1.5486\n",
      "Epoch [9/100], Batch 900, Loss: 1.4950\n",
      "Epoch [9/100], Batch 1000, Loss: 1.5231\n",
      "Epoch [9/100], Batch 1100, Loss: 1.5161\n",
      "Epoch [9/100], Batch 1200, Loss: 1.4909\n",
      "Epoch [9/100], Batch 1300, Loss: 1.4337\n",
      "Epoch [9/100], Batch 1400, Loss: 1.4791\n",
      "Epoch [9/100], Batch 1500, Loss: 1.5599\n",
      "Epoch [9/100], Batch 1600, Loss: 1.5605\n",
      "Epoch [9/100], Batch 1700, Loss: 1.4031\n",
      "Epoch [9/100], Batch 1800, Loss: 1.5581\n",
      "Epoch [9/100], Batch 1900, Loss: 1.4985\n",
      "Epoch [9/100], Batch 2000, Loss: 1.5269\n",
      "Epoch [9/100], Batch 2100, Loss: 1.4971\n",
      "Epoch [9/100], Batch 2200, Loss: 1.5181\n",
      "Epoch [9/100], Batch 2300, Loss: 1.5548\n",
      "Epoch [9/100], Batch 2400, Loss: 1.5914\n",
      "Epoch [9/100], Avg Loss: 1.5049\n",
      "Epoch [10/100], Batch 0, Loss: 1.5607\n",
      "Epoch [10/100], Batch 100, Loss: 1.5279\n",
      "Epoch [10/100], Batch 200, Loss: 1.5011\n",
      "Epoch [10/100], Batch 300, Loss: 1.5634\n",
      "Epoch [10/100], Batch 400, Loss: 1.4382\n",
      "Epoch [10/100], Batch 500, Loss: 1.4980\n",
      "Epoch [10/100], Batch 600, Loss: 1.5122\n",
      "Epoch [10/100], Batch 700, Loss: 1.4993\n",
      "Epoch [10/100], Batch 800, Loss: 1.6269\n",
      "Epoch [10/100], Batch 900, Loss: 1.6461\n",
      "Epoch [10/100], Batch 1000, Loss: 1.4951\n",
      "Epoch [10/100], Batch 1100, Loss: 1.6100\n",
      "Epoch [10/100], Batch 1200, Loss: 1.4368\n",
      "Epoch [10/100], Batch 1300, Loss: 1.4792\n",
      "Epoch [10/100], Batch 1400, Loss: 1.4784\n",
      "Epoch [10/100], Batch 1500, Loss: 1.5268\n",
      "Epoch [10/100], Batch 1600, Loss: 1.4980\n",
      "Epoch [10/100], Batch 1700, Loss: 1.5634\n",
      "Epoch [10/100], Batch 1800, Loss: 1.4464\n",
      "Epoch [10/100], Batch 1900, Loss: 1.4686\n",
      "Epoch [10/100], Batch 2000, Loss: 1.4756\n",
      "Epoch [10/100], Batch 2100, Loss: 1.4719\n",
      "Epoch [10/100], Batch 2200, Loss: 1.4468\n",
      "Epoch [10/100], Batch 2300, Loss: 1.4851\n",
      "Epoch [10/100], Batch 2400, Loss: 1.4799\n",
      "Epoch [10/100], Avg Loss: 1.5036\n"
     ]
    }
   ],
   "source": [
    "# Training loop\n",
    "# Create dataloaders\n",
    "train_set = TensorDataset(X_train_tensor, y_train)\n",
    "train_loader = DataLoader(train_set, batch_size=32, shuffle=True)\n",
    "\n",
    "# Initialize model\n",
    "model = e2cnn(112, 128, 9).to(device)\n",
    "\n",
    "# Set up loss function and optimizer\n",
    "criterion = nn.CrossEntropyLoss()\n",
    "optimizer = optim.Adam(model.parameters(), lr=0.00001, weight_decay=0.001)\n",
    "\n",
    "for epoch in range(10):\n",
    "    model.train()\n",
    "    total_loss = 0\n",
    "    for idx, (batch_x, batch_y) in enumerate(train_loader):\n",
    "        batch_x, batch_y = batch_x.to(device), batch_y.to(device)\n",
    "        optimizer.zero_grad()\n",
    "        outputs = model(batch_x)\n",
    "        loss = criterion(outputs, batch_y)\n",
    "        loss.backward()\n",
    "        optimizer.step()\n",
    "        loss_val = loss.item()\n",
    "        total_loss += loss_val\n",
    "\n",
    "        if idx % 100 == 0:\n",
    "            print(f\"Epoch [{epoch+1}/100], Batch {idx}, Loss: {loss_val:.4f}\")\n",
    "\n",
    "    print(f\"Epoch [{epoch + 1}/100], Avg Loss: {(total_loss / len(train_loader)):.4f}\")"
   ]
  },
  {
   "cell_type": "code",
   "execution_count": null,
   "id": "70367008-5ea9-46fa-9e27-a545f63c82d7",
   "metadata": {},
   "outputs": [],
   "source": []
  }
 ],
 "metadata": {
  "kernelspec": {
   "display_name": "Python 3 (ipykernel)",
   "language": "python",
   "name": "python3"
  },
  "language_info": {
   "codemirror_mode": {
    "name": "ipython",
    "version": 3
   },
   "file_extension": ".py",
   "mimetype": "text/x-python",
   "name": "python",
   "nbconvert_exporter": "python",
   "pygments_lexer": "ipython3",
   "version": "3.10.14"
  }
 },
 "nbformat": 4,
 "nbformat_minor": 5
}
