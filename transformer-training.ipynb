{
 "cells": [
  {
   "cell_type": "code",
   "execution_count": 24,
   "id": "93c2e88f-214d-4160-8887-b3cc27db9215",
   "metadata": {},
   "outputs": [],
   "source": [
    "import torch, pickle, math\n",
    "import torch.nn as nn\n",
    "import torch.optim as optim\n",
    "import torch.nn.functional as F\n",
    "import numpy as np\n",
    "import pandas as pd\n",
    "import matplotlib.pyplot as plt\n",
    "from torch.utils.data import Dataset\n",
    "from torch.utils.data import DataLoader, TensorDataset\n",
    "from sklearn.metrics import accuracy_score\n",
    "from sklearn.model_selection import train_test_split\n",
    "from tqdm import tqdm"
   ]
  },
  {
   "cell_type": "markdown",
   "id": "4d415333-0ce3-420f-b04b-99252af4116c",
   "metadata": {},
   "source": [
    "## Import Data"
   ]
  },
  {
   "cell_type": "code",
   "execution_count": 2,
   "id": "6cf03468-e50b-4413-8b44-603123d53951",
   "metadata": {},
   "outputs": [],
   "source": [
    "file = open('data-250-125.pkl', 'rb')\n",
    "df = pickle.load(file)\n",
    "file.close()"
   ]
  },
  {
   "cell_type": "code",
   "execution_count": 3,
   "id": "1d8ea497-64f9-42b7-a2a8-582cba90d455",
   "metadata": {},
   "outputs": [
    {
     "data": {
      "text/html": [
       "<div>\n",
       "<style scoped>\n",
       "    .dataframe tbody tr th:only-of-type {\n",
       "        vertical-align: middle;\n",
       "    }\n",
       "\n",
       "    .dataframe tbody tr th {\n",
       "        vertical-align: top;\n",
       "    }\n",
       "\n",
       "    .dataframe thead th {\n",
       "        text-align: right;\n",
       "    }\n",
       "</style>\n",
       "<table border=\"1\" class=\"dataframe\">\n",
       "  <thead>\n",
       "    <tr style=\"text-align: right;\">\n",
       "      <th></th>\n",
       "      <th>subject</th>\n",
       "      <th>day</th>\n",
       "      <th>session</th>\n",
       "      <th>motion</th>\n",
       "      <th>repetition</th>\n",
       "      <th>window_emg</th>\n",
       "    </tr>\n",
       "  </thead>\n",
       "  <tbody>\n",
       "    <tr>\n",
       "      <th>0</th>\n",
       "      <td>sub03</td>\n",
       "      <td>D3</td>\n",
       "      <td>S1</td>\n",
       "      <td>OH</td>\n",
       "      <td>1</td>\n",
       "      <td>[[0.4140625, 0.6015625, -0.203125, -0.2109375,...</td>\n",
       "    </tr>\n",
       "    <tr>\n",
       "      <th>1</th>\n",
       "      <td>sub03</td>\n",
       "      <td>D3</td>\n",
       "      <td>S1</td>\n",
       "      <td>OH</td>\n",
       "      <td>1</td>\n",
       "      <td>[[0.2421875, -0.0546875, -0.0078125, 0.015625,...</td>\n",
       "    </tr>\n",
       "    <tr>\n",
       "      <th>2</th>\n",
       "      <td>sub03</td>\n",
       "      <td>D3</td>\n",
       "      <td>S1</td>\n",
       "      <td>OH</td>\n",
       "      <td>1</td>\n",
       "      <td>[[-0.5546875, -0.125, -0.0625, -0.0234375, -0....</td>\n",
       "    </tr>\n",
       "    <tr>\n",
       "      <th>3</th>\n",
       "      <td>sub03</td>\n",
       "      <td>D3</td>\n",
       "      <td>S1</td>\n",
       "      <td>OH</td>\n",
       "      <td>1</td>\n",
       "      <td>[[-0.1953125, -0.0625, -0.265625, -0.0234375, ...</td>\n",
       "    </tr>\n",
       "    <tr>\n",
       "      <th>4</th>\n",
       "      <td>sub03</td>\n",
       "      <td>D3</td>\n",
       "      <td>S1</td>\n",
       "      <td>OH</td>\n",
       "      <td>1</td>\n",
       "      <td>[[0.0703125, -0.1484375, 0.171875, -0.015625, ...</td>\n",
       "    </tr>\n",
       "  </tbody>\n",
       "</table>\n",
       "</div>"
      ],
      "text/plain": [
       "  subject day session motion  repetition  \\\n",
       "0   sub03  D3      S1     OH           1   \n",
       "1   sub03  D3      S1     OH           1   \n",
       "2   sub03  D3      S1     OH           1   \n",
       "3   sub03  D3      S1     OH           1   \n",
       "4   sub03  D3      S1     OH           1   \n",
       "\n",
       "                                          window_emg  \n",
       "0  [[0.4140625, 0.6015625, -0.203125, -0.2109375,...  \n",
       "1  [[0.2421875, -0.0546875, -0.0078125, 0.015625,...  \n",
       "2  [[-0.5546875, -0.125, -0.0625, -0.0234375, -0....  \n",
       "3  [[-0.1953125, -0.0625, -0.265625, -0.0234375, ...  \n",
       "4  [[0.0703125, -0.1484375, 0.171875, -0.015625, ...  "
      ]
     },
     "execution_count": 3,
     "metadata": {},
     "output_type": "execute_result"
    }
   ],
   "source": [
    "df.head()"
   ]
  },
  {
   "cell_type": "code",
   "execution_count": 4,
   "id": "c2cbeb60-eb76-4671-b697-ad6d152c3e3d",
   "metadata": {},
   "outputs": [
    {
     "data": {
      "text/plain": [
       "subject\n",
       "sub03    83700\n",
       "sub04    83700\n",
       "sub05    83700\n",
       "sub02    83700\n",
       "sub07    83700\n",
       "sub01    83700\n",
       "sub06    83700\n",
       "Name: count, dtype: int64"
      ]
     },
     "execution_count": 4,
     "metadata": {},
     "output_type": "execute_result"
    }
   ],
   "source": [
    "df.subject.value_counts()"
   ]
  },
  {
   "cell_type": "markdown",
   "id": "1ee8f8dc-8c35-425d-9f4c-a8f5c9b74f87",
   "metadata": {},
   "source": [
    "## Prepocessing"
   ]
  },
  {
   "cell_type": "markdown",
   "id": "4335c9e1-d1cd-4d69-a9f3-acf81ffdc685",
   "metadata": {
    "jp-MarkdownHeadingCollapsed": true
   },
   "source": [
    "### Change Labels into Numerics"
   ]
  },
  {
   "cell_type": "code",
   "execution_count": 5,
   "id": "e9c18a0a-2e35-4fc3-87e7-7f97b8119131",
   "metadata": {},
   "outputs": [
    {
     "name": "stderr",
     "output_type": "stream",
     "text": [
      "/var/folders/fg/wwsz02rn0qn31sz3qslnnjm80000gn/T/ipykernel_67968/4281264563.py:1: FutureWarning: Downcasting behavior in `replace` is deprecated and will be removed in a future version. To retain the old behavior, explicitly call `result.infer_objects(copy=False)`. To opt-in to the future behavior, set `pd.set_option('future.no_silent_downcasting', True)`\n",
      "  df['label'] = df.motion.replace(\n"
     ]
    }
   ],
   "source": [
    "df['label'] = df.motion.replace(\n",
    "    df.motion.drop_duplicates().tolist(),\n",
    "    [i for i in range(9)]\n",
    ")"
   ]
  },
  {
   "cell_type": "code",
   "execution_count": 6,
   "id": "bfa19d8a-0c21-47a1-b4c8-fe0bd2838498",
   "metadata": {},
   "outputs": [
    {
     "data": {
      "text/plain": [
       "subject\n",
       "sub03    83700\n",
       "sub04    83700\n",
       "sub05    83700\n",
       "sub02    83700\n",
       "sub07    83700\n",
       "sub01    83700\n",
       "sub06    83700\n",
       "Name: count, dtype: int64"
      ]
     },
     "execution_count": 6,
     "metadata": {},
     "output_type": "execute_result"
    }
   ],
   "source": [
    "df.subject.value_counts()"
   ]
  },
  {
   "cell_type": "markdown",
   "id": "12791495-35bc-4299-af61-5291f16fd7e4",
   "metadata": {},
   "source": [
    "### Create Subset DF for Initial Training"
   ]
  },
  {
   "cell_type": "code",
   "execution_count": 7,
   "id": "98b1d725-a7b6-4e6b-a73a-25dedda29d25",
   "metadata": {},
   "outputs": [],
   "source": [
    "sub1_min = df[(df.subject == 'sub01') & (df.session == 'S1')].reset_index(drop=True)"
   ]
  },
  {
   "cell_type": "code",
   "execution_count": 8,
   "id": "e4d5f586-23f3-412f-b34e-620ba139c731",
   "metadata": {},
   "outputs": [],
   "source": [
    "X1_train, X1_test, y1_train, y1_test = train_test_split(np.stack(sub1_min.window_emg.to_numpy()),\n",
    "                                                        sub1_min.label.to_numpy(), \n",
    "                                                        test_size=.2, \n",
    "                                                        random_state=42)"
   ]
  },
  {
   "cell_type": "code",
   "execution_count": 9,
   "id": "0b034bb6-098b-44bb-bafe-a395f9e58fd0",
   "metadata": {},
   "outputs": [],
   "source": [
    "device = 'mps'"
   ]
  },
  {
   "cell_type": "code",
   "execution_count": 10,
   "id": "27c9d03f-94b9-40ac-88cb-b3c7a7e7d8b9",
   "metadata": {},
   "outputs": [],
   "source": [
    "X1_train_tensor = torch.FloatTensor(X1_train).to(device)\n",
    "X1_test_tensor = torch.FloatTensor(X1_test).to(device)\n",
    "y1_train = torch.FloatTensor(y1_train).to(device)\n",
    "y1_test = torch.FloatTensor(y1_test).to(device)"
   ]
  },
  {
   "cell_type": "code",
   "execution_count": 11,
   "id": "fdea27ec-5347-454a-ab5e-1014f181edee",
   "metadata": {},
   "outputs": [],
   "source": [
    "train1_set = TensorDataset(X1_train_tensor, y1_train)\n",
    "val1_set = TensorDataset(X1_test_tensor, y1_test)"
   ]
  },
  {
   "cell_type": "markdown",
   "id": "523bc4b9-911a-43c9-90b2-c267035c4aa6",
   "metadata": {},
   "source": [
    "## Bulding Model Architecture"
   ]
  },
  {
   "cell_type": "code",
   "execution_count": 36,
   "id": "374aeac7-30ad-43fe-850a-6ac5ec618c5f",
   "metadata": {},
   "outputs": [],
   "source": [
    "z = torch.zeros(1, 40, 8)"
   ]
  },
  {
   "cell_type": "code",
   "execution_count": 28,
   "id": "715e6af0-c93d-46b2-81c0-a1f63cd276dd",
   "metadata": {},
   "outputs": [],
   "source": [
    "a = torch.arange(0, 40, dtype=torch.float).unsqueeze(1)"
   ]
  },
  {
   "cell_type": "code",
   "execution_count": 30,
   "id": "bbd2acb4-5c6f-4d21-968f-b974c7d69f52",
   "metadata": {},
   "outputs": [],
   "source": [
    "b = torch.exp(torch.arange(0, 8, 2).float() * (-math.log(10000.0) / 8))"
   ]
  },
  {
   "cell_type": "code",
   "execution_count": 38,
   "id": "f43fe4da-fea1-4e79-ae16-81609eb407b7",
   "metadata": {},
   "outputs": [],
   "source": [
    "z[0, :, 0::2] = torch.sin(a * b)\n",
    "z[0, :, 1::2] = torch.cos(a * b)"
   ]
  },
  {
   "cell_type": "code",
   "execution_count": 45,
   "id": "3bad652f-71dc-4005-a668-6886e6bdd7b9",
   "metadata": {},
   "outputs": [
    {
     "data": {
      "text/plain": [
       "<matplotlib.image.AxesImage at 0x35e3f60b0>"
      ]
     },
     "execution_count": 45,
     "metadata": {},
     "output_type": "execute_result"
    },
    {
     "data": {
      "image/png": "[encoded data removed]",
      "text/plain": [
       "<Figure size 640x480 with 1 Axes>"
      ]
     },
     "metadata": {},
     "output_type": "display_data"
    }
   ],
   "source": [
    "plt.imshow(z.squeeze(0))"
   ]
  },
  {
   "cell_type": "code",
   "execution_count": 46,
   "id": "a3abb2c8-acf3-47be-9ddd-b7ad908323d3",
   "metadata": {},
   "outputs": [
    {
     "data": {
      "text/plain": [
       "torch.Size([33480, 50, 8])"
      ]
     },
     "execution_count": 46,
     "metadata": {},
     "output_type": "execute_result"
    }
   ],
   "source": [
    "X1_train_tensor.shape"
   ]
  },
  {
   "cell_type": "code",
   "execution_count": 50,
   "id": "88c4cdfb-6053-4293-81a9-07df96ce01f6",
   "metadata": {},
   "outputs": [],
   "source": [
    "class PositionalEncoding(nn.Module):\n",
    "    def __init__(self, d_model, max_len=1000):\n",
    "        super(PositionalEncoding, self).__init__()\n",
    "\n",
    "        pos_encod = torch.zeros(1, max_len, d_model)\n",
    "        pos = torch.arange(0, max_len, dtype=torch.float).unsqueeze(1) # 0 to max_len\n",
    "        div_term = torch.exp(torch.arange(0, d_model, 2).float() * (-math.log(10000.) / d_model)) # 10000^-(2i / d_model)\n",
    "        pos_encod[0, :, 0::2] = torch.sin(pos * div_term)\n",
    "        pos_encod[0, :, 1::2] = torch.cos(pos * div_term)\n",
    "        self.register_buffer('pos_encod', pos_encod)\n",
    "\n",
    "    def forward(self, x):\n",
    "        return x + self.pos_encod[:, :x.size(1), :]"
   ]
  },
  {
   "cell_type": "code",
   "execution_count": 72,
   "id": "8418ceb4-3614-4486-8b18-19b4c3d71437",
   "metadata": {},
   "outputs": [
    {
     "data": {
      "text/plain": [
       "PositionalEncoding()"
      ]
     },
     "execution_count": 72,
     "metadata": {},
     "output_type": "execute_result"
    }
   ],
   "source": [
    "pos_encod = PositionalEncoding(8, max_len=50)\n",
    "pos_encod.to('mps')"
   ]
  },
  {
   "cell_type": "code",
   "execution_count": 55,
   "id": "67e94ec0-ea46-403d-8f08-47ab526cb322",
   "metadata": {},
   "outputs": [
    {
     "data": {
      "text/plain": [
       "torch.Size([50, 8])"
      ]
     },
     "execution_count": 55,
     "metadata": {},
     "output_type": "execute_result"
    }
   ],
   "source": [
    "X1_train_tensor[0].shape"
   ]
  },
  {
   "cell_type": "code",
   "execution_count": 66,
   "id": "aed0faef-61e7-4d92-94ac-1d1c7b350025",
   "metadata": {},
   "outputs": [
    {
     "data": {
      "text/plain": [
       "torch.Size([1, 50, 8])"
      ]
     },
     "execution_count": 66,
     "metadata": {},
     "output_type": "execute_result"
    }
   ],
   "source": [
    "X1_train_tensor[0].unsqueeze(0).shape"
   ]
  },
  {
   "cell_type": "code",
   "execution_count": 70,
   "id": "21730d9e-cc5b-4705-9f7b-6b0834a7379b",
   "metadata": {},
   "outputs": [
    {
     "data": {
      "text/plain": [
       "<matplotlib.image.AxesImage at 0x37abf7220>"
      ]
     },
     "execution_count": 70,
     "metadata": {},
     "output_type": "execute_result"
    },
    {
     "data": {
      "image/png": "[encoded data removed]",
      "text/plain": [
       "<Figure size 640x480 with 1 Axes>"
      ]
     },
     "metadata": {},
     "output_type": "display_data"
    }
   ],
   "source": [
    "plt.imshow(X1_train_tensor[0].cpu())"
   ]
  },
  {
   "cell_type": "code",
   "execution_count": 74,
   "id": "7165a557-68e0-40ce-8beb-79ad693e60e1",
   "metadata": {},
   "outputs": [],
   "source": [
    "a = pos_encod(X1_train_tensor[0].unsqueeze(0))"
   ]
  },
  {
   "cell_type": "code",
   "execution_count": 77,
   "id": "fa2494ee-4fd5-4301-a8ab-236d56664789",
   "metadata": {},
   "outputs": [
    {
     "data": {
      "text/plain": [
       "<matplotlib.image.AxesImage at 0x338477910>"
      ]
     },
     "execution_count": 77,
     "metadata": {},
     "output_type": "execute_result"
    },
    {
     "data": {
      "image/png": "[encoded data removed]",
      "text/plain": [
       "<Figure size 640x480 with 1 Axes>"
      ]
     },
     "metadata": {},
     "output_type": "display_data"
    }
   ],
   "source": [
    "plt.imshow(a.squeeze().cpu())"
   ]
  },
  {
   "cell_type": "code",
   "execution_count": 80,
   "id": "8a26b0a4-c78b-4421-87e1-f5c39dcefca0",
   "metadata": {},
   "outputs": [],
   "source": [
    "class Transformer(nn.Module):\n",
    "    def __init__(self, d_model, n_classes, n_heads=8, n_layers=1, dim_feedforward=256, max_len=1000):\n",
    "        super(Transformer, self).__init__()\n",
    "\n",
    "        self.pos_encod = PositionalEncoding(d_model, max_len)\n",
    "        encoder_layer = nn.TransformerEncoderLayer(d_model, n_heads, dim_feedforward, batch_first=True)\n",
    "        self.transformer_encoder = nn.TransformerEncoder(encoder_layer, n_layers)\n",
    "        self.fc = nn.Linear(d_model, n_classes)\n",
    "\n",
    "    def forward(self, x):\n",
    "        x = self.pos_encod(x)\n",
    "        x = self.transformer_encoder(x)\n",
    "        x = x.mean(dim=1)\n",
    "        x = self.fc(x)\n",
    "\n",
    "        return x"
   ]
  },
  {
   "cell_type": "code",
   "execution_count": 120,
   "id": "cb32c2da-51e3-4e27-83bc-5090cb78f5ee",
   "metadata": {},
   "outputs": [],
   "source": [
    "class ClassTokenTransformer(nn.Module):\n",
    "    def __init__(self, d_model, n_classes, n_heads=8, n_layers=1, dim_feedforward=256, max_len=1000):\n",
    "        super(ClassTokenTransformer, self).__init__()\n",
    "\n",
    "        self.pos_encod = PositionalEncoding(d_model, max_len)\n",
    "        self.class_token = nn.Parameter(torch.randn(1, 1, d_model))\n",
    "        encoder_layer = nn.TransformerEncoderLayer(d_model, n_heads, dim_feedforward, batch_first=True)\n",
    "        self.transformer_encoder = nn.TransformerEncoder(encoder_layer, n_layers)\n",
    "        self.fc = nn.Linear(d_model, n_classes)\n",
    "\n",
    "    def forward(self, x):\n",
    "        x = self.pos_encod(x)\n",
    "        class_tokens = self.class_token.expand(x.shape[0], -1, -1)\n",
    "        x = torch.cat((class_tokens, x), dim=1)\n",
    "        x = self.transformer_encoder(x)\n",
    "        x = x[:, 0]\n",
    "        x = self.fc(x)\n",
    "\n",
    "        return x"
   ]
  },
  {
   "cell_type": "code",
   "execution_count": 121,
   "id": "43b631ab-a15d-4b29-bec2-6d9b4ee12d39",
   "metadata": {},
   "outputs": [
    {
     "data": {
      "text/plain": [
       "ClassTokenTransformer(\n",
       "  (pos_encod): PositionalEncoding()\n",
       "  (transformer_encoder): TransformerEncoder(\n",
       "    (layers): ModuleList(\n",
       "      (0): TransformerEncoderLayer(\n",
       "        (self_attn): MultiheadAttention(\n",
       "          (out_proj): NonDynamicallyQuantizableLinear(in_features=8, out_features=8, bias=True)\n",
       "        )\n",
       "        (linear1): Linear(in_features=8, out_features=256, bias=True)\n",
       "        (dropout): Dropout(p=0.1, inplace=False)\n",
       "        (linear2): Linear(in_features=256, out_features=8, bias=True)\n",
       "        (norm1): LayerNorm((8,), eps=1e-05, elementwise_affine=True)\n",
       "        (norm2): LayerNorm((8,), eps=1e-05, elementwise_affine=True)\n",
       "        (dropout1): Dropout(p=0.1, inplace=False)\n",
       "        (dropout2): Dropout(p=0.1, inplace=False)\n",
       "      )\n",
       "    )\n",
       "  )\n",
       "  (fc): Linear(in_features=8, out_features=9, bias=True)\n",
       ")"
      ]
     },
     "execution_count": 121,
     "metadata": {},
     "output_type": "execute_result"
    }
   ],
   "source": [
    "t = ClassTokenTransformer(8, 9, max_len=50)\n",
    "t.to('mps')"
   ]
  },
  {
   "cell_type": "code",
   "execution_count": 122,
   "id": "25fa60b7-98b5-45e4-adf1-2e3a5b7ba673",
   "metadata": {},
   "outputs": [
    {
     "data": {
      "text/plain": [
       "tensor([[-0.5524,  0.1186, -0.7013, -0.7685, -0.5124, -1.2493, -0.1372,  1.3824,\n",
       "         -0.3404]], device='mps:0', grad_fn=<LinearBackward0>)"
      ]
     },
     "execution_count": 122,
     "metadata": {},
     "output_type": "execute_result"
    }
   ],
   "source": [
    "t(X1_train_tensor[0].unsqueeze(0))"
   ]
  },
  {
   "cell_type": "markdown",
   "id": "1178a32b-3a2b-45bc-adfd-c571dc49de64",
   "metadata": {},
   "source": [
    "## Pre-Evaluation Training"
   ]
  },
  {
   "cell_type": "code",
   "execution_count": 87,
   "id": "96e6c6f9-cae9-442c-8ae1-8c9f0cb5064f",
   "metadata": {},
   "outputs": [],
   "source": [
    "def train_model(model, train_set, val_set, criterion, optimizer, num_epochs, batch_size):\n",
    "    device = 'mps'\n",
    "    model.to(device)\n",
    "    train_loader = DataLoader(train_set, batch_size=batch_size)\n",
    "    val_loader = DataLoader(val_set, batch_size=batch_size)\n",
    "    train_loss = list()\n",
    "    val_loss = list()\n",
    "    val_acc = list()\n",
    "    train_acc = list()\n",
    "\n",
    "    for epoch in range(num_epochs):\n",
    "        model.train()\n",
    "        train_total_loss = 0\n",
    "        total = 0\n",
    "        correct = 0\n",
    "        for inputs, labels in train_loader:\n",
    "            inputs, labels = inputs.to(device), labels.to(device)\n",
    "            \n",
    "            optimizer.zero_grad()\n",
    "            outputs = model(inputs)\n",
    "            loss = criterion(outputs, labels)\n",
    "            train_total_loss += loss.item()\n",
    "            _, predicted = torch.max(outputs.data, 1)\n",
    "            total += labels.size(0)\n",
    "            correct += (predicted == labels).sum().item()\n",
    "            loss.backward()\n",
    "            optimizer.step()\n",
    "\n",
    "        # Keep tab on the train loss every epoch\n",
    "        train_loss.append(train_total_loss / len(train_loader))\n",
    "        accuracy = 100 * correct / total\n",
    "        train_acc.append(accuracy)\n",
    "\n",
    "        model.eval()\n",
    "        correct = 0\n",
    "        total = 0\n",
    "        val_total_loss = 0\n",
    "        with torch.no_grad():\n",
    "            for inputs, labels in val_loader:\n",
    "                inputs, labels = inputs.to(device), labels.to(device)\n",
    "                outputs = model(inputs)\n",
    "                loss = criterion(outputs, labels)\n",
    "                val_total_loss += loss.item()\n",
    "                _, predicted = torch.max(outputs.data, 1)\n",
    "                total += labels.size(0)\n",
    "                correct += (predicted == labels).sum().item()\n",
    "\n",
    "        val_loss.append(val_total_loss / len(val_loader))\n",
    "\n",
    "        accuracy = 100 * correct / total\n",
    "        val_acc.append(accuracy)\n",
    "        val_acc\n",
    "        print(f'Epoch [{epoch+1}/{num_epochs}], Validation Accuracy: {accuracy:.2f}%')\n",
    "\n",
    "    return model, train_loss, val_loss, val_acc"
   ]
  },
  {
   "cell_type": "code",
   "execution_count": 115,
   "id": "b6a195d4-efb9-455d-a530-fa606805f4cb",
   "metadata": {
    "scrolled": true
   },
   "outputs": [
    {
     "name": "stdout",
     "output_type": "stream",
     "text": [
      "Epoch [1/50], Validation Accuracy: 17.98%\n",
      "Epoch [2/50], Validation Accuracy: 36.49%\n",
      "Epoch [3/50], Validation Accuracy: 29.59%\n",
      "Epoch [4/50], Validation Accuracy: 59.80%\n",
      "Epoch [5/50], Validation Accuracy: 63.27%\n",
      "Epoch [6/50], Validation Accuracy: 65.84%\n",
      "Epoch [7/50], Validation Accuracy: 67.18%\n",
      "Epoch [8/50], Validation Accuracy: 67.60%\n",
      "Epoch [9/50], Validation Accuracy: 68.67%\n",
      "Epoch [10/50], Validation Accuracy: 69.21%\n",
      "Epoch [11/50], Validation Accuracy: 69.86%\n",
      "Epoch [12/50], Validation Accuracy: 70.37%\n",
      "Epoch [13/50], Validation Accuracy: 72.41%\n",
      "Epoch [14/50], Validation Accuracy: 72.54%\n",
      "Epoch [15/50], Validation Accuracy: 75.59%\n",
      "Epoch [16/50], Validation Accuracy: 75.48%\n",
      "Epoch [17/50], Validation Accuracy: 76.52%\n",
      "Epoch [18/50], Validation Accuracy: 75.87%\n",
      "Epoch [19/50], Validation Accuracy: 78.14%\n",
      "Epoch [20/50], Validation Accuracy: 77.38%\n",
      "Epoch [21/50], Validation Accuracy: 76.79%\n",
      "Epoch [22/50], Validation Accuracy: 78.89%\n",
      "Epoch [23/50], Validation Accuracy: 79.52%\n",
      "Epoch [24/50], Validation Accuracy: 79.92%\n",
      "Epoch [25/50], Validation Accuracy: 80.04%\n",
      "Epoch [26/50], Validation Accuracy: 80.76%\n",
      "Epoch [27/50], Validation Accuracy: 81.37%\n",
      "Epoch [28/50], Validation Accuracy: 80.59%\n",
      "Epoch [29/50], Validation Accuracy: 81.24%\n",
      "Epoch [30/50], Validation Accuracy: 81.27%\n",
      "Epoch [31/50], Validation Accuracy: 81.37%\n",
      "Epoch [32/50], Validation Accuracy: 81.49%\n",
      "Epoch [33/50], Validation Accuracy: 82.09%\n",
      "Epoch [34/50], Validation Accuracy: 80.17%\n",
      "Epoch [35/50], Validation Accuracy: 81.82%\n",
      "Epoch [36/50], Validation Accuracy: 80.80%\n",
      "Epoch [37/50], Validation Accuracy: 81.57%\n",
      "Epoch [38/50], Validation Accuracy: 81.40%\n",
      "Epoch [39/50], Validation Accuracy: 82.15%\n",
      "Epoch [40/50], Validation Accuracy: 80.99%\n",
      "Epoch [41/50], Validation Accuracy: 82.03%\n",
      "Epoch [42/50], Validation Accuracy: 81.97%\n",
      "Epoch [43/50], Validation Accuracy: 83.13%\n",
      "Epoch [44/50], Validation Accuracy: 82.51%\n",
      "Epoch [45/50], Validation Accuracy: 82.93%\n",
      "Epoch [46/50], Validation Accuracy: 83.09%\n",
      "Epoch [47/50], Validation Accuracy: 82.96%\n",
      "Epoch [48/50], Validation Accuracy: 81.77%\n",
      "Epoch [49/50], Validation Accuracy: 83.03%\n",
      "Epoch [50/50], Validation Accuracy: 82.95%\n"
     ]
    }
   ],
   "source": [
    "d_model = 8\n",
    "max_len=50\n",
    "n_classes = 9\n",
    "n_epochs = 50\n",
    "batch_size = 128\n",
    "\n",
    "model = Transformer(d_model, n_classes, max_len=max_len)\n",
    "criterion = nn.CrossEntropyLoss()\n",
    "optimizer = optim.Adam(model.parameters(), lr=0.001, weight_decay=0.001)\n",
    "\n",
    "model, train_loss, val_loss, val_acc = train_model(model, train1_set, val1_set, criterion, optimizer, n_epochs, batch_size)"
   ]
  },
  {
   "cell_type": "code",
   "execution_count": 116,
   "id": "993a59a2-24ca-4316-b158-8ebc525178cd",
   "metadata": {},
   "outputs": [
    {
     "data": {
      "image/png": "[encoded data removed]",
      "text/plain": [
       "<Figure size 640x480 with 1 Axes>"
      ]
     },
     "metadata": {},
     "output_type": "display_data"
    }
   ],
   "source": [
    "plt.plot(train_loss, label='train')\n",
    "plt.plot(val_loss, label='val')\n",
    "\n",
    "plt.legend()\n",
    "plt.show()"
   ]
  },
  {
   "cell_type": "code",
   "execution_count": 117,
   "id": "225bb968-f8bd-4ad0-bb28-a7a06bc192d2",
   "metadata": {},
   "outputs": [
    {
     "data": {
      "text/plain": [
       "[<matplotlib.lines.Line2D at 0x331531720>]"
      ]
     },
     "execution_count": 117,
     "metadata": {},
     "output_type": "execute_result"
    },
    {
     "data": {
      "image/png": "[encoded data removed]",
      "text/plain": [
       "<Figure size 640x480 with 1 Axes>"
      ]
     },
     "metadata": {},
     "output_type": "display_data"
    }
   ],
   "source": [
    "plt.plot(val_acc)"
   ]
  },
  {
   "cell_type": "code",
   "execution_count": 129,
   "id": "56f94938-30f9-4332-bf1f-d61a5e94991b",
   "metadata": {},
   "outputs": [
    {
     "name": "stdout",
     "output_type": "stream",
     "text": [
      "Epoch [1/50], Validation Accuracy: 10.68%\n",
      "Epoch [2/50], Validation Accuracy: 10.68%\n",
      "Epoch [3/50], Validation Accuracy: 10.68%\n",
      "Epoch [4/50], Validation Accuracy: 10.68%\n",
      "Epoch [5/50], Validation Accuracy: 10.68%\n",
      "Epoch [6/50], Validation Accuracy: 10.68%\n"
     ]
    },
    {
     "ename": "KeyboardInterrupt",
     "evalue": "",
     "output_type": "error",
     "traceback": [
      "\u001b[0;31m---------------------------------------------------------------------------\u001b[0m",
      "\u001b[0;31mKeyboardInterrupt\u001b[0m                         Traceback (most recent call last)",
      "Cell \u001b[0;32mIn[129], line 11\u001b[0m\n\u001b[1;32m      8\u001b[0m criterion \u001b[38;5;241m=\u001b[39m nn\u001b[38;5;241m.\u001b[39mCrossEntropyLoss()\n\u001b[1;32m      9\u001b[0m optimizer \u001b[38;5;241m=\u001b[39m optim\u001b[38;5;241m.\u001b[39mAdam(model1\u001b[38;5;241m.\u001b[39mparameters(), lr\u001b[38;5;241m=\u001b[39m\u001b[38;5;241m0.000001\u001b[39m)\n\u001b[0;32m---> 11\u001b[0m model, train_loss, val_loss, val_acc \u001b[38;5;241m=\u001b[39m \u001b[43mtrain_model\u001b[49m\u001b[43m(\u001b[49m\u001b[43mmodel1\u001b[49m\u001b[43m,\u001b[49m\u001b[43m \u001b[49m\u001b[43mtrain1_set\u001b[49m\u001b[43m,\u001b[49m\u001b[43m \u001b[49m\u001b[43mval1_set\u001b[49m\u001b[43m,\u001b[49m\u001b[43m \u001b[49m\u001b[43mcriterion\u001b[49m\u001b[43m,\u001b[49m\u001b[43m \u001b[49m\u001b[43moptimizer\u001b[49m\u001b[43m,\u001b[49m\u001b[43m \u001b[49m\u001b[43mn_epochs\u001b[49m\u001b[43m,\u001b[49m\u001b[43m \u001b[49m\u001b[43mbatch_size\u001b[49m\u001b[43m)\u001b[49m\n",
      "Cell \u001b[0;32mIn[87], line 22\u001b[0m, in \u001b[0;36mtrain_model\u001b[0;34m(model, train_set, val_set, criterion, optimizer, num_epochs, batch_size)\u001b[0m\n\u001b[1;32m     20\u001b[0m outputs \u001b[38;5;241m=\u001b[39m model(inputs)\n\u001b[1;32m     21\u001b[0m loss \u001b[38;5;241m=\u001b[39m criterion(outputs, labels)\n\u001b[0;32m---> 22\u001b[0m train_total_loss \u001b[38;5;241m+\u001b[39m\u001b[38;5;241m=\u001b[39m \u001b[43mloss\u001b[49m\u001b[38;5;241;43m.\u001b[39;49m\u001b[43mitem\u001b[49m\u001b[43m(\u001b[49m\u001b[43m)\u001b[49m\n\u001b[1;32m     23\u001b[0m _, predicted \u001b[38;5;241m=\u001b[39m torch\u001b[38;5;241m.\u001b[39mmax(outputs\u001b[38;5;241m.\u001b[39mdata, \u001b[38;5;241m1\u001b[39m)\n\u001b[1;32m     24\u001b[0m total \u001b[38;5;241m+\u001b[39m\u001b[38;5;241m=\u001b[39m labels\u001b[38;5;241m.\u001b[39msize(\u001b[38;5;241m0\u001b[39m)\n",
      "\u001b[0;31mKeyboardInterrupt\u001b[0m: "
     ]
    }
   ],
   "source": [
    "d_model = 8\n",
    "max_len=50\n",
    "n_classes = 9\n",
    "n_epochs = 50\n",
    "batch_size = 128\n",
    "\n",
    "model1 = ClassTokenTransformer(d_model, n_classes, max_len=max_len)\n",
    "criterion = nn.CrossEntropyLoss()\n",
    "optimizer = optim.Adam(model1.parameters(), lr=0.000001)\n",
    "\n",
    "model, train_loss, val_loss, val_acc = train_model(model1, train1_set, val1_set, criterion, optimizer, n_epochs, batch_size)"
   ]
  },
  {
   "cell_type": "code",
   "execution_count": 134,
   "id": "c298185a-b5b5-45ec-877b-f18721a0c233",
   "metadata": {
    "scrolled": true
   },
   "outputs": [
    {
     "name": "stdout",
     "output_type": "stream",
     "text": [
      "Epoch [1/50], Validation Accuracy: 19.09%\n",
      "Epoch [2/50], Validation Accuracy: 45.97%\n",
      "Epoch [3/50], Validation Accuracy: 49.58%\n",
      "Epoch [4/50], Validation Accuracy: 62.56%\n",
      "Epoch [5/50], Validation Accuracy: 68.53%\n",
      "Epoch [6/50], Validation Accuracy: 70.88%\n",
      "Epoch [7/50], Validation Accuracy: 71.24%\n",
      "Epoch [8/50], Validation Accuracy: 73.64%\n",
      "Epoch [9/50], Validation Accuracy: 78.38%\n",
      "Epoch [10/50], Validation Accuracy: 79.80%\n",
      "Epoch [11/50], Validation Accuracy: 80.29%\n",
      "Epoch [12/50], Validation Accuracy: 82.22%\n",
      "Epoch [13/50], Validation Accuracy: 82.51%\n",
      "Epoch [14/50], Validation Accuracy: 83.32%\n",
      "Epoch [15/50], Validation Accuracy: 83.87%\n",
      "Epoch [16/50], Validation Accuracy: 83.48%\n",
      "Epoch [17/50], Validation Accuracy: 84.11%\n",
      "Epoch [18/50], Validation Accuracy: 83.49%\n",
      "Epoch [19/50], Validation Accuracy: 84.17%\n",
      "Epoch [20/50], Validation Accuracy: 84.19%\n",
      "Epoch [21/50], Validation Accuracy: 83.73%\n",
      "Epoch [22/50], Validation Accuracy: 83.91%\n",
      "Epoch [23/50], Validation Accuracy: 84.19%\n",
      "Epoch [24/50], Validation Accuracy: 84.47%\n",
      "Epoch [25/50], Validation Accuracy: 83.60%\n",
      "Epoch [26/50], Validation Accuracy: 84.60%\n",
      "Epoch [27/50], Validation Accuracy: 84.24%\n",
      "Epoch [28/50], Validation Accuracy: 84.87%\n",
      "Epoch [29/50], Validation Accuracy: 84.01%\n",
      "Epoch [30/50], Validation Accuracy: 83.61%\n",
      "Epoch [31/50], Validation Accuracy: 84.73%\n",
      "Epoch [32/50], Validation Accuracy: 84.73%\n",
      "Epoch [33/50], Validation Accuracy: 84.56%\n",
      "Epoch [34/50], Validation Accuracy: 85.27%\n",
      "Epoch [35/50], Validation Accuracy: 85.11%\n",
      "Epoch [36/50], Validation Accuracy: 85.13%\n",
      "Epoch [37/50], Validation Accuracy: 85.21%\n",
      "Epoch [38/50], Validation Accuracy: 85.08%\n",
      "Epoch [39/50], Validation Accuracy: 85.08%\n",
      "Epoch [40/50], Validation Accuracy: 85.20%\n",
      "Epoch [41/50], Validation Accuracy: 85.03%\n",
      "Epoch [42/50], Validation Accuracy: 84.96%\n",
      "Epoch [43/50], Validation Accuracy: 84.76%\n",
      "Epoch [44/50], Validation Accuracy: 85.41%\n",
      "Epoch [45/50], Validation Accuracy: 85.40%\n",
      "Epoch [46/50], Validation Accuracy: 85.34%\n",
      "Epoch [47/50], Validation Accuracy: 85.21%\n",
      "Epoch [48/50], Validation Accuracy: 85.64%\n",
      "Epoch [49/50], Validation Accuracy: 85.30%\n",
      "Epoch [50/50], Validation Accuracy: 85.65%\n"
     ]
    }
   ],
   "source": [
    "d_model = 8\n",
    "max_len=50\n",
    "n_classes = 9\n",
    "n_epochs = 50\n",
    "batch_size = 128\n",
    "dim_feedforward=512\n",
    "\n",
    "model = Transformer(d_model, n_classes, dim_feedforward=dim_feedforward, max_len=max_len)\n",
    "criterion = nn.CrossEntropyLoss()\n",
    "optimizer = optim.Adam(model.parameters(), lr=0.001, weight_decay=0.0001)\n",
    "\n",
    "model, train_loss, val_loss, val_acc = train_model(model, train1_set, val1_set, criterion, optimizer, n_epochs, batch_size)"
   ]
  },
  {
   "cell_type": "code",
   "execution_count": 135,
   "id": "17c0c8c9-86d3-42f4-bee1-c574a1965a01",
   "metadata": {},
   "outputs": [
    {
     "data": {
      "image/png": "[encoded data removed]",
      "text/plain": [
       "<Figure size 640x480 with 1 Axes>"
      ]
     },
     "metadata": {},
     "output_type": "display_data"
    }
   ],
   "source": [
    "plt.plot(train_loss, label='train')\n",
    "plt.plot(val_loss, label='val')\n",
    "\n",
    "plt.legend()\n",
    "plt.show()"
   ]
  },
  {
   "cell_type": "code",
   "execution_count": 136,
   "id": "cbdca495-1c8f-4308-b5ab-85f430b6fbe7",
   "metadata": {},
   "outputs": [
    {
     "data": {
      "text/plain": [
       "[<matplotlib.lines.Line2D at 0x34da4f430>]"
      ]
     },
     "execution_count": 136,
     "metadata": {},
     "output_type": "execute_result"
    },
    {
     "data": {
      "image/png": "[encoded data removed]",
      "text/plain": [
       "<Figure size 640x480 with 1 Axes>"
      ]
     },
     "metadata": {},
     "output_type": "display_data"
    }
   ],
   "source": [
    "plt.plot(val_acc)"
   ]
  },
  {
   "cell_type": "code",
   "execution_count": 142,
   "id": "d3461b5a-331f-4000-8219-99405ce4234e",
   "metadata": {
    "scrolled": true
   },
   "outputs": [
    {
     "name": "stdout",
     "output_type": "stream",
     "text": [
      "Epoch [1/50], Validation Accuracy: 16.75%\n",
      "Epoch [2/50], Validation Accuracy: 44.87%\n",
      "Epoch [3/50], Validation Accuracy: 57.12%\n",
      "Epoch [4/50], Validation Accuracy: 63.57%\n",
      "Epoch [5/50], Validation Accuracy: 67.43%\n",
      "Epoch [6/50], Validation Accuracy: 72.87%\n",
      "Epoch [7/50], Validation Accuracy: 75.45%\n",
      "Epoch [8/50], Validation Accuracy: 77.13%\n",
      "Epoch [9/50], Validation Accuracy: 77.69%\n",
      "Epoch [10/50], Validation Accuracy: 79.32%\n",
      "Epoch [11/50], Validation Accuracy: 79.49%\n",
      "Epoch [12/50], Validation Accuracy: 80.85%\n",
      "Epoch [13/50], Validation Accuracy: 79.01%\n",
      "Epoch [14/50], Validation Accuracy: 80.78%\n",
      "Epoch [15/50], Validation Accuracy: 80.39%\n",
      "Epoch [16/50], Validation Accuracy: 80.59%\n",
      "Epoch [17/50], Validation Accuracy: 80.18%\n",
      "Epoch [18/50], Validation Accuracy: 80.57%\n",
      "Epoch [19/50], Validation Accuracy: 81.16%\n",
      "Epoch [20/50], Validation Accuracy: 83.12%\n",
      "Epoch [21/50], Validation Accuracy: 82.17%\n",
      "Epoch [22/50], Validation Accuracy: 83.21%\n",
      "Epoch [23/50], Validation Accuracy: 82.64%\n",
      "Epoch [24/50], Validation Accuracy: 83.38%\n",
      "Epoch [25/50], Validation Accuracy: 84.49%\n",
      "Epoch [26/50], Validation Accuracy: 84.61%\n",
      "Epoch [27/50], Validation Accuracy: 84.34%\n",
      "Epoch [28/50], Validation Accuracy: 84.83%\n",
      "Epoch [29/50], Validation Accuracy: 84.80%\n",
      "Epoch [30/50], Validation Accuracy: 84.76%\n",
      "Epoch [31/50], Validation Accuracy: 84.70%\n",
      "Epoch [32/50], Validation Accuracy: 84.38%\n",
      "Epoch [33/50], Validation Accuracy: 84.76%\n",
      "Epoch [34/50], Validation Accuracy: 85.15%\n",
      "Epoch [35/50], Validation Accuracy: 84.85%\n",
      "Epoch [36/50], Validation Accuracy: 84.71%\n",
      "Epoch [37/50], Validation Accuracy: 85.40%\n",
      "Epoch [38/50], Validation Accuracy: 84.56%\n",
      "Epoch [39/50], Validation Accuracy: 84.65%\n",
      "Epoch [40/50], Validation Accuracy: 84.80%\n",
      "Epoch [41/50], Validation Accuracy: 84.47%\n",
      "Epoch [42/50], Validation Accuracy: 84.78%\n",
      "Epoch [43/50], Validation Accuracy: 85.02%\n",
      "Epoch [44/50], Validation Accuracy: 85.26%\n",
      "Epoch [45/50], Validation Accuracy: 83.97%\n",
      "Epoch [46/50], Validation Accuracy: 85.54%\n",
      "Epoch [47/50], Validation Accuracy: 85.01%\n",
      "Epoch [48/50], Validation Accuracy: 85.09%\n",
      "Epoch [49/50], Validation Accuracy: 85.63%\n",
      "Epoch [50/50], Validation Accuracy: 84.44%\n"
     ]
    }
   ],
   "source": [
    "d_model = 8\n",
    "max_len=50\n",
    "n_classes = 9\n",
    "n_epochs = 50\n",
    "batch_size = 128\n",
    "n_heads=2\n",
    "\n",
    "model = Transformer(d_model, n_classes, n_heads=n_heads, max_len=max_len)\n",
    "criterion = nn.CrossEntropyLoss()\n",
    "optimizer = optim.Adam(model.parameters(), lr=0.001, weight_decay=0.0001)\n",
    "\n",
    "model, train_loss, val_loss, val_acc = train_model(model, train1_set, val1_set, criterion, optimizer, n_epochs, batch_size)"
   ]
  },
  {
   "cell_type": "code",
   "execution_count": 143,
   "id": "964c1050-105f-4c73-aa9f-3e79f403e746",
   "metadata": {},
   "outputs": [
    {
     "data": {
      "image/png": "[encoded data removed]",
      "text/plain": [
       "<Figure size 640x480 with 1 Axes>"
      ]
     },
     "metadata": {},
     "output_type": "display_data"
    }
   ],
   "source": [
    "plt.plot(train_loss, label='train')\n",
    "plt.plot(val_loss, label='val')\n",
    "\n",
    "plt.legend()\n",
    "plt.show()"
   ]
  },
  {
   "cell_type": "code",
   "execution_count": 144,
   "id": "c7764c33-7022-4e19-a1c6-d926772cc2af",
   "metadata": {},
   "outputs": [
    {
     "data": {
      "text/plain": [
       "[<matplotlib.lines.Line2D at 0x353840a30>]"
      ]
     },
     "execution_count": 144,
     "metadata": {},
     "output_type": "execute_result"
    },
    {
     "data": {
      "image/png": "[encoded data removed]",
      "text/plain": [
       "<Figure size 640x480 with 1 Axes>"
      ]
     },
     "metadata": {},
     "output_type": "display_data"
    }
   ],
   "source": [
    "plt.plot(val_acc)"
   ]
  },
  {
   "cell_type": "code",
   "execution_count": 145,
   "id": "dfae88df-2eb7-45aa-a69a-f628d5bd3ed8",
   "metadata": {},
   "outputs": [
    {
     "name": "stdout",
     "output_type": "stream",
     "text": [
      "Epoch [1/50], Validation Accuracy: 32.26%\n",
      "Epoch [2/50], Validation Accuracy: 25.53%\n",
      "Epoch [3/50], Validation Accuracy: 47.96%\n",
      "Epoch [4/50], Validation Accuracy: 38.35%\n",
      "Epoch [5/50], Validation Accuracy: 57.30%\n",
      "Epoch [6/50], Validation Accuracy: 39.02%\n",
      "Epoch [7/50], Validation Accuracy: 79.55%\n",
      "Epoch [8/50], Validation Accuracy: 53.97%\n",
      "Epoch [9/50], Validation Accuracy: 81.35%\n",
      "Epoch [10/50], Validation Accuracy: 80.60%\n",
      "Epoch [11/50], Validation Accuracy: 70.11%\n",
      "Epoch [12/50], Validation Accuracy: 83.63%\n",
      "Epoch [13/50], Validation Accuracy: 72.26%\n",
      "Epoch [14/50], Validation Accuracy: 73.64%\n",
      "Epoch [15/50], Validation Accuracy: 67.90%\n",
      "Epoch [16/50], Validation Accuracy: 85.39%\n",
      "Epoch [17/50], Validation Accuracy: 82.72%\n",
      "Epoch [18/50], Validation Accuracy: 86.16%\n",
      "Epoch [19/50], Validation Accuracy: 83.37%\n",
      "Epoch [20/50], Validation Accuracy: 68.10%\n",
      "Epoch [21/50], Validation Accuracy: 68.41%\n",
      "Epoch [22/50], Validation Accuracy: 81.49%\n",
      "Epoch [23/50], Validation Accuracy: 81.48%\n",
      "Epoch [24/50], Validation Accuracy: 85.57%\n",
      "Epoch [25/50], Validation Accuracy: 86.85%\n",
      "Epoch [26/50], Validation Accuracy: 86.65%\n",
      "Epoch [27/50], Validation Accuracy: 84.61%\n",
      "Epoch [28/50], Validation Accuracy: 71.35%\n",
      "Epoch [29/50], Validation Accuracy: 86.44%\n",
      "Epoch [30/50], Validation Accuracy: 64.60%\n",
      "Epoch [31/50], Validation Accuracy: 82.89%\n",
      "Epoch [32/50], Validation Accuracy: 86.98%\n",
      "Epoch [33/50], Validation Accuracy: 85.16%\n",
      "Epoch [34/50], Validation Accuracy: 86.75%\n",
      "Epoch [35/50], Validation Accuracy: 76.74%\n",
      "Epoch [36/50], Validation Accuracy: 64.83%\n",
      "Epoch [37/50], Validation Accuracy: 88.77%\n",
      "Epoch [38/50], Validation Accuracy: 86.44%\n",
      "Epoch [39/50], Validation Accuracy: 87.24%\n",
      "Epoch [40/50], Validation Accuracy: 87.28%\n",
      "Epoch [41/50], Validation Accuracy: 82.25%\n",
      "Epoch [42/50], Validation Accuracy: 88.28%\n",
      "Epoch [43/50], Validation Accuracy: 85.99%\n",
      "Epoch [44/50], Validation Accuracy: 84.00%\n",
      "Epoch [45/50], Validation Accuracy: 89.14%\n",
      "Epoch [46/50], Validation Accuracy: 88.14%\n",
      "Epoch [47/50], Validation Accuracy: 83.18%\n",
      "Epoch [48/50], Validation Accuracy: 85.10%\n",
      "Epoch [49/50], Validation Accuracy: 89.59%\n",
      "Epoch [50/50], Validation Accuracy: 78.75%\n"
     ]
    }
   ],
   "source": [
    "d_model = 8\n",
    "max_len=50\n",
    "n_classes = 9\n",
    "n_epochs = 50\n",
    "batch_size = 128\n",
    "n_layers = 2\n",
    "\n",
    "model = Transformer(d_model, n_classes, n_layers=n_layers, max_len=max_len)\n",
    "criterion = nn.CrossEntropyLoss()\n",
    "optimizer = optim.Adam(model.parameters(), lr=0.001, weight_decay=0.0001)\n",
    "\n",
    "model, train_loss, val_loss, val_acc = train_model(model, train1_set, val1_set, criterion, optimizer, n_epochs, batch_size)"
   ]
  }
 ],
 "metadata": {
  "kernelspec": {
   "display_name": "Python 3 (ipykernel)",
   "language": "python",
   "name": "python3"
  },
  "language_info": {
   "codemirror_mode": {
    "name": "ipython",
    "version": 3
   },
   "file_extension": ".py",
   "mimetype": "text/x-python",
   "name": "python",
   "nbconvert_exporter": "python",
   "pygments_lexer": "ipython3",
   "version": "3.10.14"
  }
 },
 "nbformat": 4,
 "nbformat_minor": 5
}
