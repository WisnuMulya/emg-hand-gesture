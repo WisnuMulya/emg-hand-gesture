{
 "cells": [
  {
   "cell_type": "code",
   "execution_count": 1,
   "id": "2719d8ce-92e8-4057-b485-608b82e51357",
   "metadata": {},
   "outputs": [],
   "source": [
    "# Import necessary libraries\n",
    "import os, pickle, sys\n",
    "import matplotlib.pyplot as plt\n",
    "import numpy as np\n",
    "import scipy as sp\n",
    "import pandas as pd\n",
    "import seaborn as sns\n",
    "from tqdm import tqdm"
   ]
  },
  {
   "cell_type": "markdown",
   "id": "dbe6794d-1d5f-46de-88b6-e00824ffbe79",
   "metadata": {},
   "source": [
    "## Load Dataset"
   ]
  },
  {
   "cell_type": "code",
   "execution_count": 2,
   "id": "55991ed1-0c27-4531-b147-258b4dd4ff79",
   "metadata": {},
   "outputs": [],
   "source": [
    "# Load dataset from pickle file\n",
    "file = open('./emg_data.pkl', 'rb')\n",
    "dataset = pickle.load(file)\n",
    "file.close()"
   ]
  },
  {
   "cell_type": "code",
   "execution_count": 3,
   "id": "6dfa380e-158f-4df8-b922-cc4922f86ef2",
   "metadata": {},
   "outputs": [
    {
     "data": {
      "text/plain": [
       "18900"
      ]
     },
     "execution_count": 3,
     "metadata": {},
     "output_type": "execute_result"
    }
   ],
   "source": [
    "len(dataset)"
   ]
  },
  {
   "cell_type": "code",
   "execution_count": 4,
   "id": "0eb15228-bbfc-4094-be8a-474c739599a4",
   "metadata": {},
   "outputs": [
    {
     "data": {
      "text/plain": [
       "('sub03',\n",
       " 'D3',\n",
       " 'S1',\n",
       " 'OH',\n",
       " 1,\n",
       "           ch1       ch2       ch3       ch4       ch5       ch6       ch7  \\\n",
       " 0    0.414062  0.601562 -0.203125 -0.210938 -0.101562 -0.046875  0.257812   \n",
       " 1    0.320312 -0.140625  0.070312  0.062500 -0.015625  0.062500 -0.296875   \n",
       " 2   -0.476562 -0.140625 -0.593750  0.132812  0.039062  0.109375  0.015625   \n",
       " 3   -0.039062 -0.492188 -0.679688 -0.031250  0.031250  0.062500 -0.101562   \n",
       " 4   -0.007812 -0.093750  0.562500 -0.023438 -0.070312 -0.437500 -0.382812   \n",
       " ..        ...       ...       ...       ...       ...       ...       ...   \n",
       " 795  0.054688 -0.101562  0.023438  0.000000  0.000000  0.000000 -0.015625   \n",
       " 796 -0.093750 -0.046875 -0.054688 -0.023438 -0.007812 -0.023438  0.187500   \n",
       " 797  0.046875 -0.054688  0.046875  0.039062  0.031250 -0.015625  0.250000   \n",
       " 798  0.078125 -0.039062  0.046875  0.000000  0.000000 -0.023438 -0.031250   \n",
       " 799  0.031250  0.117188  0.062500 -0.007812 -0.023438 -0.070312 -0.226562   \n",
       " \n",
       "           ch8  \n",
       " 0   -0.210938  \n",
       " 1   -0.421875  \n",
       " 2    0.140625  \n",
       " 3    0.304688  \n",
       " 4   -0.257812  \n",
       " ..        ...  \n",
       " 795  0.000000  \n",
       " 796 -0.085938  \n",
       " 797  0.187500  \n",
       " 798  0.101562  \n",
       " 799 -0.250000  \n",
       " \n",
       " [800 rows x 8 columns])"
      ]
     },
     "execution_count": 4,
     "metadata": {},
     "output_type": "execute_result"
    }
   ],
   "source": [
    "dataset[0]"
   ]
  },
  {
   "cell_type": "code",
   "execution_count": 7,
   "id": "e5d589c9-8a35-4ca6-b29c-c309c2a801b5",
   "metadata": {},
   "outputs": [
    {
     "data": {
      "text/plain": [
       "True"
      ]
     },
     "execution_count": 7,
     "metadata": {},
     "output_type": "execute_result"
    }
   ],
   "source": [
    "('OH' != 'IN') or ('OH' != 'GR')"
   ]
  },
  {
   "cell_type": "code",
   "execution_count": 11,
   "id": "fd0424ec-8598-4900-a407-1ec5325bb881",
   "metadata": {},
   "outputs": [
    {
     "data": {
      "text/plain": [
       "[0, 1, 2, 3, 5, 6, 7, 8, 9]"
      ]
     },
     "execution_count": 11,
     "metadata": {},
     "output_type": "execute_result"
    }
   ],
   "source": [
    "[x for x in range(10) if x != 4]"
   ]
  },
  {
   "cell_type": "code",
   "execution_count": 14,
   "id": "4bb9db0d-d145-42e3-b4da-6a84d73645c0",
   "metadata": {},
   "outputs": [
    {
     "data": {
      "text/plain": [
       "'OH'"
      ]
     },
     "execution_count": 14,
     "metadata": {},
     "output_type": "execute_result"
    }
   ],
   "source": [
    "dataset[0][3]"
   ]
  },
  {
   "cell_type": "code",
   "execution_count": 23,
   "id": "6e7f3187-418b-4cea-a259-9f63558bc263",
   "metadata": {},
   "outputs": [],
   "source": [
    "dataset = [x for x in dataset if (x[3] != 'IN') and (x[3] != 'GR')]"
   ]
  },
  {
   "cell_type": "code",
   "execution_count": 24,
   "id": "c48e541e-3795-421a-8385-b2be46d1702f",
   "metadata": {},
   "outputs": [
    {
     "data": {
      "text/plain": [
       "14700"
      ]
     },
     "execution_count": 24,
     "metadata": {},
     "output_type": "execute_result"
    }
   ],
   "source": [
    "len(dataset)"
   ]
  },
  {
   "cell_type": "markdown",
   "id": "9302e114-a601-4148-84ca-76761b960bcc",
   "metadata": {},
   "source": [
    "## Create Windows"
   ]
  },
  {
   "cell_type": "code",
   "execution_count": null,
   "id": "1ba3daef-14a0-4e2e-b68c-02c3e501c40e",
   "metadata": {},
   "outputs": [],
   "source": [
    "fs = 200\n",
    "data_n = 800\n",
    "ts = np.linspace(0, data_n * (1/fs), data_n)\n",
    "window_l = int(.20 * fs)\n",
    "step = int(.029 *fs)"
   ]
  },
  {
   "cell_type": "code",
   "execution_count": 15,
   "id": "ac1474a0-542c-4bd4-9ad9-c62430da38e0",
   "metadata": {},
   "outputs": [],
   "source": [
    "fs = 200\n",
    "data_n = 800\n",
    "ts = np.linspace(0, data_n * (1/fs), data_n)\n",
    "window_l = int(.25 * fs)\n",
    "step = int(.0625 *fs)"
   ]
  },
  {
   "cell_type": "code",
   "execution_count": 25,
   "id": "1251db19-397d-429d-8c03-b40f4b0e138c",
   "metadata": {},
   "outputs": [],
   "source": [
    "fs = 200\n",
    "data_n = 800\n",
    "ts = np.linspace(0, data_n * (1/fs), data_n)\n",
    "window_l = int(.150 * fs)\n",
    "step = int(.025 *fs)"
   ]
  },
  {
   "cell_type": "code",
   "execution_count": 26,
   "id": "0680f4e1-efa9-4f50-bd23-8532b3a17235",
   "metadata": {},
   "outputs": [],
   "source": [
    "window_n = (data_n - window_l) // step + 1"
   ]
  },
  {
   "cell_type": "code",
   "execution_count": 27,
   "id": "8fe22019-2646-4582-aded-79db24cdc0e7",
   "metadata": {},
   "outputs": [
    {
     "data": {
      "text/plain": [
       "155"
      ]
     },
     "execution_count": 27,
     "metadata": {},
     "output_type": "execute_result"
    }
   ],
   "source": [
    "window_n"
   ]
  },
  {
   "cell_type": "code",
   "execution_count": 28,
   "id": "db470993-7137-4b81-b9e3-ff30a26f36f0",
   "metadata": {},
   "outputs": [
    {
     "name": "stderr",
     "output_type": "stream",
     "text": [
      "100%|████████████████████████████████████████████████████████████████████████████████████████████████████████████████████████████████████████████████████████████████████████████████████████████████████████████████████████████████████████████████████████| 14700/14700 [00:17<00:00, 860.44it/s]\n"
     ]
    }
   ],
   "source": [
    "window_data = list()\n",
    "\n",
    "# Process each EMG data in the dataset\n",
    "for data in tqdm(dataset):\n",
    "    subject = data[0]\n",
    "    day = data[1]\n",
    "    session = data[2]\n",
    "    motion = data[3]\n",
    "    repetition = data[4]\n",
    "    emg = data[5]\n",
    "\n",
    "    # Break down each EMG data into window-sized data\n",
    "    for i in range(window_n):\n",
    "        window = emg[i*step:(i*step)+window_l].to_numpy()\n",
    "        window_data.append((subject, day, session, motion, repetition, window,))"
   ]
  },
  {
   "cell_type": "code",
   "execution_count": 29,
   "id": "89a2a307-f3dc-4176-ab5e-f188d29d2775",
   "metadata": {},
   "outputs": [],
   "source": [
    "df = pd.DataFrame(window_data, columns=['subject', 'day', 'session', 'motion', 'repetition', 'window_emg'])"
   ]
  },
  {
   "cell_type": "code",
   "execution_count": 30,
   "id": "cac4b00e-3a90-4435-9b01-9679327cbb32",
   "metadata": {},
   "outputs": [
    {
     "data": {
      "text/plain": [
       "2278500"
      ]
     },
     "execution_count": 30,
     "metadata": {},
     "output_type": "execute_result"
    }
   ],
   "source": [
    "len(df)"
   ]
  },
  {
   "cell_type": "code",
   "execution_count": 21,
   "id": "17eeadd2-9fd4-4416-97b0-7c8c7257c04b",
   "metadata": {},
   "outputs": [
    {
     "data": {
      "text/plain": [
       "1190700"
      ]
     },
     "execution_count": 21,
     "metadata": {},
     "output_type": "execute_result"
    }
   ],
   "source": [
    "len(df)"
   ]
  },
  {
   "cell_type": "code",
   "execution_count": 31,
   "id": "d6feb3f2-29a5-45a3-9afa-31d756b15e46",
   "metadata": {},
   "outputs": [
    {
     "data": {
      "text/html": [
       "<div>\n",
       "<style scoped>\n",
       "    .dataframe tbody tr th:only-of-type {\n",
       "        vertical-align: middle;\n",
       "    }\n",
       "\n",
       "    .dataframe tbody tr th {\n",
       "        vertical-align: top;\n",
       "    }\n",
       "\n",
       "    .dataframe thead th {\n",
       "        text-align: right;\n",
       "    }\n",
       "</style>\n",
       "<table border=\"1\" class=\"dataframe\">\n",
       "  <thead>\n",
       "    <tr style=\"text-align: right;\">\n",
       "      <th></th>\n",
       "      <th>subject</th>\n",
       "      <th>day</th>\n",
       "      <th>session</th>\n",
       "      <th>motion</th>\n",
       "      <th>repetition</th>\n",
       "      <th>window_emg</th>\n",
       "    </tr>\n",
       "  </thead>\n",
       "  <tbody>\n",
       "    <tr>\n",
       "      <th>0</th>\n",
       "      <td>sub03</td>\n",
       "      <td>D3</td>\n",
       "      <td>S1</td>\n",
       "      <td>OH</td>\n",
       "      <td>1</td>\n",
       "      <td>[[0.4140625, 0.6015625, -0.203125, -0.2109375,...</td>\n",
       "    </tr>\n",
       "    <tr>\n",
       "      <th>1</th>\n",
       "      <td>sub03</td>\n",
       "      <td>D3</td>\n",
       "      <td>S1</td>\n",
       "      <td>OH</td>\n",
       "      <td>1</td>\n",
       "      <td>[[-0.453125, 0.109375, -0.234375, -0.078125, -...</td>\n",
       "    </tr>\n",
       "    <tr>\n",
       "      <th>2</th>\n",
       "      <td>sub03</td>\n",
       "      <td>D3</td>\n",
       "      <td>S1</td>\n",
       "      <td>OH</td>\n",
       "      <td>1</td>\n",
       "      <td>[[-0.046875, 0.0390625, -0.4296875, -0.0546875...</td>\n",
       "    </tr>\n",
       "    <tr>\n",
       "      <th>3</th>\n",
       "      <td>sub03</td>\n",
       "      <td>D3</td>\n",
       "      <td>S1</td>\n",
       "      <td>OH</td>\n",
       "      <td>1</td>\n",
       "      <td>[[0.15625, 0.015625, -0.2265625, -0.0234375, 0...</td>\n",
       "    </tr>\n",
       "    <tr>\n",
       "      <th>4</th>\n",
       "      <td>sub03</td>\n",
       "      <td>D3</td>\n",
       "      <td>S1</td>\n",
       "      <td>OH</td>\n",
       "      <td>1</td>\n",
       "      <td>[[-0.1484375, -0.140625, 0.015625, 0.03125, 0....</td>\n",
       "    </tr>\n",
       "  </tbody>\n",
       "</table>\n",
       "</div>"
      ],
      "text/plain": [
       "  subject day session motion  repetition  \\\n",
       "0   sub03  D3      S1     OH           1   \n",
       "1   sub03  D3      S1     OH           1   \n",
       "2   sub03  D3      S1     OH           1   \n",
       "3   sub03  D3      S1     OH           1   \n",
       "4   sub03  D3      S1     OH           1   \n",
       "\n",
       "                                          window_emg  \n",
       "0  [[0.4140625, 0.6015625, -0.203125, -0.2109375,...  \n",
       "1  [[-0.453125, 0.109375, -0.234375, -0.078125, -...  \n",
       "2  [[-0.046875, 0.0390625, -0.4296875, -0.0546875...  \n",
       "3  [[0.15625, 0.015625, -0.2265625, -0.0234375, 0...  \n",
       "4  [[-0.1484375, -0.140625, 0.015625, 0.03125, 0....  "
      ]
     },
     "execution_count": 31,
     "metadata": {},
     "output_type": "execute_result"
    }
   ],
   "source": [
    "df.head()"
   ]
  },
  {
   "cell_type": "code",
   "execution_count": 32,
   "id": "261fd9ad-a0aa-4399-96ad-3278089461ca",
   "metadata": {},
   "outputs": [
    {
     "data": {
      "text/plain": [
       "repetition\n",
       "1     227850\n",
       "2     227850\n",
       "3     227850\n",
       "4     227850\n",
       "5     227850\n",
       "6     227850\n",
       "7     227850\n",
       "8     227850\n",
       "9     227850\n",
       "10    227850\n",
       "Name: count, dtype: int64"
      ]
     },
     "execution_count": 32,
     "metadata": {},
     "output_type": "execute_result"
    }
   ],
   "source": [
    "df.repetition.value_counts()"
   ]
  },
  {
   "cell_type": "code",
   "execution_count": 39,
   "id": "9a904955-a528-4533-b30d-4aba0dd47917",
   "metadata": {},
   "outputs": [
    {
     "data": {
      "text/plain": [
       "(30, 8)"
      ]
     },
     "execution_count": 39,
     "metadata": {},
     "output_type": "execute_result"
    }
   ],
   "source": [
    "df.loc[0].window_emg.shape"
   ]
  },
  {
   "cell_type": "code",
   "execution_count": 2,
   "id": "2001c3b0-84d3-4be3-b4f2-4f1579ba0215",
   "metadata": {},
   "outputs": [],
   "source": [
    "file = open('data-150-025.pkl', 'rb')\n",
    "df = pickle.load(file)\n",
    "file.close()"
   ]
  },
  {
   "cell_type": "code",
   "execution_count": 33,
   "id": "d7fa9cac-3982-4061-b9b1-ecdad5bf2afb",
   "metadata": {},
   "outputs": [],
   "source": [
    "file = open('data-150-025.pkl', 'wb')\n",
    "pickle.dump(df, file)\n",
    "file.close()"
   ]
  },
  {
   "cell_type": "code",
   "execution_count": 24,
   "id": "f3719186-34da-42ff-b57c-3a4f030cc3e6",
   "metadata": {},
   "outputs": [],
   "source": [
    "file = open('data-250-0625.pkl', 'wb')\n",
    "pickle.dump(df, file)\n",
    "file.close()"
   ]
  },
  {
   "cell_type": "code",
   "execution_count": 14,
   "id": "c1ddb6ff-bed5-4666-b702-03b81e51900a",
   "metadata": {},
   "outputs": [],
   "source": [
    "file = open('data-250-25.pkl', 'wb')\n",
    "pickle.dump(df, file)\n",
    "file.close()"
   ]
  },
  {
   "cell_type": "code",
   "execution_count": 12,
   "id": "ec068252-8da8-4fbb-8cc1-5749065e8c36",
   "metadata": {},
   "outputs": [],
   "source": [
    "file = open('data-250-125.pkl', 'wb')\n",
    "pickle.dump(df, file)\n",
    "file.close()"
   ]
  },
  {
   "cell_type": "code",
   "execution_count": 2,
   "id": "c07e6214-56b5-41e6-a43c-1aa34755e8b7",
   "metadata": {},
   "outputs": [],
   "source": [
    "file = open('data-250-125.pkl', 'rb')\n",
    "df = pickle.load(file)\n",
    "file.close()"
   ]
  },
  {
   "cell_type": "code",
   "execution_count": 11,
   "id": "54f7d4ff-9c39-45c2-8cb6-d2b68173ca78",
   "metadata": {},
   "outputs": [],
   "source": [
    "file = open('data-200-29-2.pkl', 'wb')\n",
    "pickle.dump(df, file)\n",
    "file.close()"
   ]
  },
  {
   "cell_type": "code",
   "execution_count": 2,
   "id": "87ca78c9-946c-43f9-a39b-d9640c0056ee",
   "metadata": {},
   "outputs": [],
   "source": [
    "file = open('data-200-29.pkl', 'rb')\n",
    "df = pickle.load(file)\n",
    "file.close()"
   ]
  },
  {
   "cell_type": "code",
   "execution_count": 5,
   "id": "23a639e8-b113-40ee-8a34-0ca236fb9236",
   "metadata": {},
   "outputs": [
    {
     "data": {
      "text/plain": [
       "(40, 8)"
      ]
     },
     "execution_count": 5,
     "metadata": {},
     "output_type": "execute_result"
    }
   ],
   "source": [
    "df.loc[0].window_emg.shape"
   ]
  },
  {
   "cell_type": "markdown",
   "id": "cf92761a-c1c4-4491-b006-3bb10ded5cd7",
   "metadata": {},
   "source": [
    "## Build Features"
   ]
  },
  {
   "cell_type": "code",
   "execution_count": 3,
   "id": "5237dce9-47d7-495d-9c19-692e6c6ce5c2",
   "metadata": {},
   "outputs": [],
   "source": [
    "tqdm.pandas(desc='Building feature')"
   ]
  },
  {
   "cell_type": "markdown",
   "id": "3bfd22e7-9f6f-46b0-a6f9-2b46aae6a47f",
   "metadata": {},
   "source": [
    "### Mean Absolute Value (MAV)"
   ]
  },
  {
   "cell_type": "code",
   "execution_count": 4,
   "id": "379733b1-42e9-4ee9-ac5d-4f9b77fffdf7",
   "metadata": {},
   "outputs": [],
   "source": [
    "def mav(data):\n",
    "    \"\"\"\n",
    "    Calculate the mean of the absolute values\n",
    "    of the whole signal data\n",
    "    \"\"\"\n",
    "    return np.mean(np.abs(data), axis=0)"
   ]
  },
  {
   "cell_type": "code",
   "execution_count": 5,
   "id": "a898bf30-9b7c-47f4-b042-378532672598",
   "metadata": {},
   "outputs": [
    {
     "data": {
      "text/plain": [
       "(8,)"
      ]
     },
     "execution_count": 5,
     "metadata": {},
     "output_type": "execute_result"
    }
   ],
   "source": [
    "mav(df.loc[0]['window_emg']).shape"
   ]
  },
  {
   "cell_type": "code",
   "execution_count": 6,
   "id": "a5b2e129-e6d6-4356-9407-1916e386a3c7",
   "metadata": {},
   "outputs": [
    {
     "name": "stderr",
     "output_type": "stream",
     "text": [
      "Building feature: 100%|███████████████████████████████████████████████████████████████████████████████████████████████████████████████████████████████████████████████████████████████████████████████████████████████████████████████████████████████| 2278500/2278500 [00:08<00:00, 253688.09it/s]\n"
     ]
    }
   ],
   "source": [
    "df['mav'] = df.window_emg.progress_apply(mav)"
   ]
  },
  {
   "cell_type": "markdown",
   "id": "30340238-ebbb-42dd-a73e-06da6d8d04a1",
   "metadata": {},
   "source": [
    "### Waveform Length (WL)"
   ]
  },
  {
   "cell_type": "code",
   "execution_count": 7,
   "id": "adaafcda-8f0a-4713-adb4-d0a1e614675f",
   "metadata": {},
   "outputs": [],
   "source": [
    "def wl(data):\n",
    "    \"\"\"\n",
    "    Calculate the sum absolutes differences\n",
    "    of each values in the whole signal data\n",
    "    \"\"\"\n",
    "    return np.sum(np.abs(np.diff(data, axis=0)), axis=0)"
   ]
  },
  {
   "cell_type": "code",
   "execution_count": 8,
   "id": "bb59e966-12bb-43ec-9d72-ec456ee58d34",
   "metadata": {},
   "outputs": [
    {
     "data": {
      "text/plain": [
       "(8,)"
      ]
     },
     "execution_count": 8,
     "metadata": {},
     "output_type": "execute_result"
    }
   ],
   "source": [
    "wl(df.loc[0]['window_emg']).shape"
   ]
  },
  {
   "cell_type": "code",
   "execution_count": 9,
   "id": "da5ca806-7fad-4e54-9d6b-732ab09b68f1",
   "metadata": {},
   "outputs": [
    {
     "name": "stderr",
     "output_type": "stream",
     "text": [
      "Building feature: 100%|███████████████████████████████████████████████████████████████████████████████████████████████████████████████████████████████████████████████████████████████████████████████████████████████████████████████████████████████| 2278500/2278500 [00:10<00:00, 217759.50it/s]\n"
     ]
    }
   ],
   "source": [
    "df['wl'] = df.window_emg.progress_apply(wl)"
   ]
  },
  {
   "cell_type": "markdown",
   "id": "07bdb47c-0f7f-4a11-9823-f7c85efd0c3a",
   "metadata": {},
   "source": [
    "### Slope Sign Change (SSC)"
   ]
  },
  {
   "cell_type": "code",
   "execution_count": 10,
   "id": "09ef7c5c-6760-4193-b84e-7396a1286ac2",
   "metadata": {},
   "outputs": [],
   "source": [
    "def ssc(data, thresh=1e-6):\n",
    "    \"\"\"\n",
    "    Calculate the number of times the slope\n",
    "    of the waveform changes sign in the \n",
    "    entire signal data, with threshold value\n",
    "    for the absolute difference between two \n",
    "    data points\n",
    "    \"\"\"\n",
    "    diff = np.diff(data, axis=0)\n",
    "    slope_mult = diff[:-1] * diff[1:] # negative if slope changes\n",
    "    thresh_diff = (np.abs(diff[:-1]) >= thresh) | (np.abs(diff[1:]) >= thresh)\n",
    "\n",
    "    return ((slope_mult < 0) & thresh_diff).sum(axis=0) # sum all slope changes above threshold"
   ]
  },
  {
   "cell_type": "code",
   "execution_count": 11,
   "id": "dad520d5-e988-40e5-bb79-2b70f6e77890",
   "metadata": {},
   "outputs": [
    {
     "data": {
      "text/plain": [
       "(8,)"
      ]
     },
     "execution_count": 11,
     "metadata": {},
     "output_type": "execute_result"
    }
   ],
   "source": [
    "ssc(df.loc[0]['window_emg']).shape"
   ]
  },
  {
   "cell_type": "code",
   "execution_count": 12,
   "id": "72aa5c09-017a-40c4-a6b0-8d6e86d4dbd3",
   "metadata": {},
   "outputs": [
    {
     "name": "stderr",
     "output_type": "stream",
     "text": [
      "Building feature: 100%|███████████████████████████████████████████████████████████████████████████████████████████████████████████████████████████████████████████████████████████████████████████████████████████████████████████████████████████████| 2278500/2278500 [00:17<00:00, 132647.68it/s]\n"
     ]
    }
   ],
   "source": [
    "df['ssc'] = df.window_emg.progress_apply(ssc)"
   ]
  },
  {
   "cell_type": "markdown",
   "id": "3545311f-f602-4a65-935a-857d55b25e4c",
   "metadata": {},
   "source": [
    "### Zero Crossing (ZC)"
   ]
  },
  {
   "cell_type": "code",
   "execution_count": 13,
   "id": "b917f06d-b2fc-48bd-8b2d-e6bbcb900017",
   "metadata": {},
   "outputs": [],
   "source": [
    "def zc(data, thresh=1e-6):\n",
    "    \"\"\"\n",
    "    Calculate the number of times the waveform\n",
    "    crosses zero, with threshold value for the\n",
    "    absolute difference between two data points\n",
    "    \"\"\"\n",
    "    val_mult = data[:-1] * data[1:] # negative if crossing zero\n",
    "    is_above_thresh = np.abs(np.diff(data, axis=0)) >= thresh\n",
    "\n",
    "    return ((val_mult < 0) & is_above_thresh).sum(axis=0)"
   ]
  },
  {
   "cell_type": "code",
   "execution_count": 14,
   "id": "c5713abe-de84-49e8-9153-32099a9e0042",
   "metadata": {},
   "outputs": [
    {
     "data": {
      "text/plain": [
       "(8,)"
      ]
     },
     "execution_count": 14,
     "metadata": {},
     "output_type": "execute_result"
    }
   ],
   "source": [
    "zc(df.loc[0]['window_emg']).shape"
   ]
  },
  {
   "cell_type": "code",
   "execution_count": 15,
   "id": "55b43299-4be9-4ca8-9d09-9286e90e4cd5",
   "metadata": {},
   "outputs": [
    {
     "name": "stderr",
     "output_type": "stream",
     "text": [
      "Building feature: 100%|███████████████████████████████████████████████████████████████████████████████████████████████████████████████████████████████████████████████████████████████████████████████████████████████████████████████████████████████| 2278500/2278500 [00:14<00:00, 158231.46it/s]\n"
     ]
    }
   ],
   "source": [
    "df['zc'] = df.window_emg.progress_apply(zc)"
   ]
  },
  {
   "cell_type": "code",
   "execution_count": 16,
   "id": "cfdc9161-8ee1-4372-8128-c2c030994154",
   "metadata": {},
   "outputs": [
    {
     "data": {
      "text/html": [
       "<div>\n",
       "<style scoped>\n",
       "    .dataframe tbody tr th:only-of-type {\n",
       "        vertical-align: middle;\n",
       "    }\n",
       "\n",
       "    .dataframe tbody tr th {\n",
       "        vertical-align: top;\n",
       "    }\n",
       "\n",
       "    .dataframe thead th {\n",
       "        text-align: right;\n",
       "    }\n",
       "</style>\n",
       "<table border=\"1\" class=\"dataframe\">\n",
       "  <thead>\n",
       "    <tr style=\"text-align: right;\">\n",
       "      <th></th>\n",
       "      <th>subject</th>\n",
       "      <th>day</th>\n",
       "      <th>session</th>\n",
       "      <th>motion</th>\n",
       "      <th>repetition</th>\n",
       "      <th>window_emg</th>\n",
       "      <th>mav</th>\n",
       "      <th>wl</th>\n",
       "      <th>ssc</th>\n",
       "      <th>zc</th>\n",
       "    </tr>\n",
       "  </thead>\n",
       "  <tbody>\n",
       "    <tr>\n",
       "      <th>0</th>\n",
       "      <td>sub03</td>\n",
       "      <td>D3</td>\n",
       "      <td>S1</td>\n",
       "      <td>OH</td>\n",
       "      <td>1</td>\n",
       "      <td>[[0.4140625, 0.6015625, -0.203125, -0.2109375,...</td>\n",
       "      <td>[0.24947916666666667, 0.17916666666666667, 0.1...</td>\n",
       "      <td>[10.1953125, 7.6640625, 9.4296875, 1.625, 1.35...</td>\n",
       "      <td>[16, 14, 24, 15, 15, 19, 19, 25]</td>\n",
       "      <td>[12, 15, 17, 16, 10, 15, 20, 18]</td>\n",
       "    </tr>\n",
       "    <tr>\n",
       "      <th>1</th>\n",
       "      <td>sub03</td>\n",
       "      <td>D3</td>\n",
       "      <td>S1</td>\n",
       "      <td>OH</td>\n",
       "      <td>1</td>\n",
       "      <td>[[-0.453125, 0.109375, -0.234375, -0.078125, -...</td>\n",
       "      <td>[0.24453125, 0.15338541666666666, 0.15390625, ...</td>\n",
       "      <td>[9.5859375, 6.8828125, 7.5234375, 1.25, 1.4296...</td>\n",
       "      <td>[16, 16, 23, 15, 17, 20, 20, 25]</td>\n",
       "      <td>[13, 14, 16, 17, 11, 15, 20, 18]</td>\n",
       "    </tr>\n",
       "    <tr>\n",
       "      <th>2</th>\n",
       "      <td>sub03</td>\n",
       "      <td>D3</td>\n",
       "      <td>S1</td>\n",
       "      <td>OH</td>\n",
       "      <td>1</td>\n",
       "      <td>[[-0.046875, 0.0390625, -0.4296875, -0.0546875...</td>\n",
       "      <td>[0.24869791666666666, 0.12395833333333334, 0.1...</td>\n",
       "      <td>[10.34375, 6.0859375, 6.7734375, 1.1875, 1.437...</td>\n",
       "      <td>[17, 18, 23, 16, 16, 17, 18, 25]</td>\n",
       "      <td>[13, 12, 16, 17, 12, 15, 19, 14]</td>\n",
       "    </tr>\n",
       "    <tr>\n",
       "      <th>3</th>\n",
       "      <td>sub03</td>\n",
       "      <td>D3</td>\n",
       "      <td>S1</td>\n",
       "      <td>OH</td>\n",
       "      <td>1</td>\n",
       "      <td>[[0.15625, 0.015625, -0.2265625, -0.0234375, 0...</td>\n",
       "      <td>[0.25052083333333336, 0.11614583333333334, 0.1...</td>\n",
       "      <td>[10.359375, 5.5859375, 7.0546875, 1.1484375, 1...</td>\n",
       "      <td>[18, 18, 24, 18, 14, 16, 18, 25]</td>\n",
       "      <td>[15, 11, 19, 17, 13, 13, 19, 15]</td>\n",
       "    </tr>\n",
       "    <tr>\n",
       "      <th>4</th>\n",
       "      <td>sub03</td>\n",
       "      <td>D3</td>\n",
       "      <td>S1</td>\n",
       "      <td>OH</td>\n",
       "      <td>1</td>\n",
       "      <td>[[-0.1484375, -0.140625, 0.015625, 0.03125, 0....</td>\n",
       "      <td>[0.2716145833333333, 0.10260416666666666, 0.11...</td>\n",
       "      <td>[11.390625, 4.390625, 6.171875, 1.0078125, 1.2...</td>\n",
       "      <td>[18, 16, 24, 17, 15, 14, 20, 25]</td>\n",
       "      <td>[15, 9, 17, 16, 12, 14, 21, 17]</td>\n",
       "    </tr>\n",
       "  </tbody>\n",
       "</table>\n",
       "</div>"
      ],
      "text/plain": [
       "  subject day session motion  repetition  \\\n",
       "0   sub03  D3      S1     OH           1   \n",
       "1   sub03  D3      S1     OH           1   \n",
       "2   sub03  D3      S1     OH           1   \n",
       "3   sub03  D3      S1     OH           1   \n",
       "4   sub03  D3      S1     OH           1   \n",
       "\n",
       "                                          window_emg  \\\n",
       "0  [[0.4140625, 0.6015625, -0.203125, -0.2109375,...   \n",
       "1  [[-0.453125, 0.109375, -0.234375, -0.078125, -...   \n",
       "2  [[-0.046875, 0.0390625, -0.4296875, -0.0546875...   \n",
       "3  [[0.15625, 0.015625, -0.2265625, -0.0234375, 0...   \n",
       "4  [[-0.1484375, -0.140625, 0.015625, 0.03125, 0....   \n",
       "\n",
       "                                                 mav  \\\n",
       "0  [0.24947916666666667, 0.17916666666666667, 0.1...   \n",
       "1  [0.24453125, 0.15338541666666666, 0.15390625, ...   \n",
       "2  [0.24869791666666666, 0.12395833333333334, 0.1...   \n",
       "3  [0.25052083333333336, 0.11614583333333334, 0.1...   \n",
       "4  [0.2716145833333333, 0.10260416666666666, 0.11...   \n",
       "\n",
       "                                                  wl  \\\n",
       "0  [10.1953125, 7.6640625, 9.4296875, 1.625, 1.35...   \n",
       "1  [9.5859375, 6.8828125, 7.5234375, 1.25, 1.4296...   \n",
       "2  [10.34375, 6.0859375, 6.7734375, 1.1875, 1.437...   \n",
       "3  [10.359375, 5.5859375, 7.0546875, 1.1484375, 1...   \n",
       "4  [11.390625, 4.390625, 6.171875, 1.0078125, 1.2...   \n",
       "\n",
       "                                ssc                                zc  \n",
       "0  [16, 14, 24, 15, 15, 19, 19, 25]  [12, 15, 17, 16, 10, 15, 20, 18]  \n",
       "1  [16, 16, 23, 15, 17, 20, 20, 25]  [13, 14, 16, 17, 11, 15, 20, 18]  \n",
       "2  [17, 18, 23, 16, 16, 17, 18, 25]  [13, 12, 16, 17, 12, 15, 19, 14]  \n",
       "3  [18, 18, 24, 18, 14, 16, 18, 25]  [15, 11, 19, 17, 13, 13, 19, 15]  \n",
       "4  [18, 16, 24, 17, 15, 14, 20, 25]   [15, 9, 17, 16, 12, 14, 21, 17]  "
      ]
     },
     "execution_count": 16,
     "metadata": {},
     "output_type": "execute_result"
    }
   ],
   "source": [
    "df.head()"
   ]
  },
  {
   "cell_type": "code",
   "execution_count": 17,
   "id": "cb2c5184-cfc0-4f2d-9e99-331ab8da02bf",
   "metadata": {},
   "outputs": [],
   "source": [
    "file = open('df_hudgin_150_025.pkl', 'wb')\n",
    "pickle.dump(df, file)\n",
    "file.close()"
   ]
  },
  {
   "cell_type": "code",
   "execution_count": 17,
   "id": "ab4d2545-666f-4c40-9fa2-cc1e91b2dd85",
   "metadata": {},
   "outputs": [],
   "source": [
    "file = open('df_hudgin_250_125.pkl', 'wb')\n",
    "pickle.dump(df, file)\n",
    "file.close()"
   ]
  },
  {
   "cell_type": "markdown",
   "id": "fecab7f3-194f-4fa8-a69c-e1ca57ee229c",
   "metadata": {},
   "source": [
    "### Sample Entropy (SampEn)"
   ]
  },
  {
   "cell_type": "code",
   "execution_count": 280,
   "id": "14cceeef-ef04-4a99-b5a0-ebde229b0cd3",
   "metadata": {},
   "outputs": [],
   "source": [
    "def sampen(data, m, r): # TODO: confirm this function\n",
    "    \"\"\"\n",
    "    SampEn = -log(A/B)\n",
    "    More info on the calculation: \n",
    "    https://ieeexplore.ieee.org/document/4058892\n",
    "    \"\"\"\n",
    "    N, channel_n = data.shape\n",
    "    res = []\n",
    "\n",
    "    for i in range(channel_n):\n",
    "        data_ch = data.T[i]\n",
    "        # Split time series and save all templates of length m and m+1\n",
    "        xm = np.array([data_ch[i:i+m] for i in range(N-m)])\n",
    "        xmp = np.array([data_ch[i:i+m+1] for i in range(N-(m+1))])\n",
    "    \n",
    "        # Calculate probability of vector matches\n",
    "        B = np.sum([(np.sum(np.abs(xm - xmi).max(axis=1) <= (r * np.std(xmi))) - 1) / (N - m - 1) for xmi in xm]) / (N - m)\n",
    "        A = np.sum([(np.sum(np.abs(xmp - xmi).max(axis=1) <= (r * np.std(xmi))) - 1) / (N - m - 2) for xmi in xmp]) / (N - m - 1)\n",
    "\n",
    "        # Calculate sample entropy\n",
    "        log = (-np.log(A/B)).tolist() if (A != 0.) and (B != 0) else 0.\n",
    "        res.append(log)\n",
    "\n",
    "    return np.array(res)"
   ]
  },
  {
   "cell_type": "code",
   "execution_count": 279,
   "id": "530fd9d7-6961-4e9d-85a5-5388636cf3a8",
   "metadata": {},
   "outputs": [
    {
     "name": "stderr",
     "output_type": "stream",
     "text": [
      "100%|████████████████████████████████████████████████████████████████████████████████████████████████████████████████████████████████████████████████████████████████████████████████████████████████████████████████████████████████████████████████████████████████| 8/8 [00:00<00:00, 290.02it/s]\n"
     ]
    },
    {
     "data": {
      "text/plain": [
       "array([0.        , 0.        , 1.5668783 , 0.        , 0.        ,\n",
       "       0.9870598 , 0.65058757, 1.05605267])"
      ]
     },
     "execution_count": 279,
     "metadata": {},
     "output_type": "execute_result"
    }
   ],
   "source": [
    "sampen(df.loc[0]['window_emg'], 2, .2)"
   ]
  },
  {
   "cell_type": "code",
   "execution_count": 283,
   "id": "f27abe23-1ffb-4b17-909e-2b68b16772cd",
   "metadata": {},
   "outputs": [],
   "source": [
    "tqdm.pandas(desc='Sample Entropy Bar')"
   ]
  },
  {
   "cell_type": "code",
   "execution_count": 285,
   "id": "531e81ac-909e-40e4-95ae-4f746ceaf7e8",
   "metadata": {},
   "outputs": [
    {
     "name": "stderr",
     "output_type": "stream",
     "text": [
      "Sample Entropy Bar: 100%|█████████████████████████████████████████████████████████████████████████████████████████████████████████████████████████████████████████████████████████████████████████████████████████████████████████████████████████████████| 602910/602910 [1:42:41<00:00, 97.85it/s]\n"
     ]
    }
   ],
   "source": [
    "df['sampen'] = df.window_emg.progress_apply(sampen, m=2, r=.2)"
   ]
  },
  {
   "cell_type": "code",
   "execution_count": 286,
   "id": "1c8b3bf1-3bad-4327-be9d-1d5a340f4d82",
   "metadata": {},
   "outputs": [],
   "source": [
    "file = open('df_features.pkl', 'wb')\n",
    "pickle.dump(df, file)\n",
    "file.close()"
   ]
  },
  {
   "cell_type": "code",
   "execution_count": 288,
   "id": "b54ec36a-763a-42e4-a993-e87da4f209db",
   "metadata": {},
   "outputs": [
    {
     "data": {
      "text/html": [
       "<div>\n",
       "<style scoped>\n",
       "    .dataframe tbody tr th:only-of-type {\n",
       "        vertical-align: middle;\n",
       "    }\n",
       "\n",
       "    .dataframe tbody tr th {\n",
       "        vertical-align: top;\n",
       "    }\n",
       "\n",
       "    .dataframe thead th {\n",
       "        text-align: right;\n",
       "    }\n",
       "</style>\n",
       "<table border=\"1\" class=\"dataframe\">\n",
       "  <thead>\n",
       "    <tr style=\"text-align: right;\">\n",
       "      <th></th>\n",
       "      <th>subject</th>\n",
       "      <th>day</th>\n",
       "      <th>session</th>\n",
       "      <th>motion</th>\n",
       "      <th>window_emg</th>\n",
       "      <th>mav</th>\n",
       "      <th>wl</th>\n",
       "      <th>ssc</th>\n",
       "      <th>zc</th>\n",
       "      <th>mfl</th>\n",
       "      <th>rms</th>\n",
       "      <th>sampen</th>\n",
       "    </tr>\n",
       "  </thead>\n",
       "  <tbody>\n",
       "    <tr>\n",
       "      <th>0</th>\n",
       "      <td>sub03</td>\n",
       "      <td>D3</td>\n",
       "      <td>S1</td>\n",
       "      <td>OH</td>\n",
       "      <td>[[0.4140625, 0.6015625, -0.203125, -0.2109375,...</td>\n",
       "      <td>[0.26875, 0.1434375, 0.17390625, 0.03375, 0.03...</td>\n",
       "      <td>[18.875, 10.3515625, 14.3125, 2.296875, 2.1562...</td>\n",
       "      <td>[29, 27, 40, 29, 26, 29, 34, 42]</td>\n",
       "      <td>[24, 20, 30, 27, 18, 25, 35, 30]</td>\n",
       "      <td>[0.5745847396290436, 0.3028283336099577, 0.418...</td>\n",
       "      <td>[0.33822621521143215, 0.19764235376052372, 0.2...</td>\n",
       "      <td>[0.0, 0.0, 1.5668782980153044, 0.0, 0.0, 0.987...</td>\n",
       "    </tr>\n",
       "    <tr>\n",
       "      <th>1</th>\n",
       "      <td>sub03</td>\n",
       "      <td>D3</td>\n",
       "      <td>S1</td>\n",
       "      <td>OH</td>\n",
       "      <td>[[0.2421875, -0.0546875, -0.0078125, 0.015625,...</td>\n",
       "      <td>[0.2403125, 0.09796875, 0.135, 0.0196875, 0.02...</td>\n",
       "      <td>[18.3125, 6.9453125, 12.1015625, 1.4375, 2.218...</td>\n",
       "      <td>[33, 31, 41, 29, 33, 28, 37, 34]</td>\n",
       "      <td>[28, 19, 35, 21, 26, 25, 36, 28]</td>\n",
       "      <td>[0.5382523100435087, 0.1411510968454964, 0.304...</td>\n",
       "      <td>[0.29961726888231927, 0.12974866780385455, 0.1...</td>\n",
       "      <td>[0.0, 0.0, 1.4043593685175295, 1.5668782980153...</td>\n",
       "    </tr>\n",
       "    <tr>\n",
       "      <th>2</th>\n",
       "      <td>sub03</td>\n",
       "      <td>D3</td>\n",
       "      <td>S1</td>\n",
       "      <td>OH</td>\n",
       "      <td>[[-0.5546875, -0.125, -0.0625, -0.0234375, -0....</td>\n",
       "      <td>[0.153125, 0.1021875, 0.130625, 0.01890625, 0....</td>\n",
       "      <td>[11.6640625, 7.6328125, 12.078125, 1.3125, 1.9...</td>\n",
       "      <td>[31, 31, 40, 29, 29, 25, 37, 25]</td>\n",
       "      <td>[29, 26, 37, 18, 25, 22, 29, 24]</td>\n",
       "      <td>[0.32113333361471874, 0.13323166812608592, 0.3...</td>\n",
       "      <td>[0.1945422311157657, 0.12800108336943872, 0.17...</td>\n",
       "      <td>[2.5223897430427407, 0.0, 0.0, 0.0, 2.26002547...</td>\n",
       "    </tr>\n",
       "    <tr>\n",
       "      <th>3</th>\n",
       "      <td>sub03</td>\n",
       "      <td>D3</td>\n",
       "      <td>S1</td>\n",
       "      <td>OH</td>\n",
       "      <td>[[-0.1953125, -0.0625, -0.265625, -0.0234375, ...</td>\n",
       "      <td>[0.12859375, 0.10546875, 0.10609375, 0.0170312...</td>\n",
       "      <td>[9.609375, 8.34375, 8.875, 1.140625, 1.375, 5....</td>\n",
       "      <td>[30, 32, 37, 34, 22, 28, 34, 30]</td>\n",
       "      <td>[30, 27, 32, 17, 16, 24, 26, 28]</td>\n",
       "      <td>[0.237026638143589, 0.1690389659258844, 0.2200...</td>\n",
       "      <td>[0.16408853960019573, 0.1365601758955553, 0.14...</td>\n",
       "      <td>[1.9033505346365174, 0.0, 2.1546649629174235, ...</td>\n",
       "    </tr>\n",
       "    <tr>\n",
       "      <th>4</th>\n",
       "      <td>sub03</td>\n",
       "      <td>D3</td>\n",
       "      <td>S1</td>\n",
       "      <td>OH</td>\n",
       "      <td>[[0.0703125, -0.1484375, 0.171875, -0.015625, ...</td>\n",
       "      <td>[0.13140625, 0.1171875, 0.08609375, 0.01421875...</td>\n",
       "      <td>[9.59375, 9.6875, 6.8046875, 0.9296875, 1.1796...</td>\n",
       "      <td>[33, 32, 35, 33, 25, 32, 33, 35]</td>\n",
       "      <td>[26, 32, 28, 15, 16, 26, 30, 29]</td>\n",
       "      <td>[0.25211559711606946, 0.2316208764883889, 0.08...</td>\n",
       "      <td>[0.16966260752041093, 0.14889731413376806, 0.1...</td>\n",
       "      <td>[0.6505875661411494, 0.0, 0.9129518306086403, ...</td>\n",
       "    </tr>\n",
       "  </tbody>\n",
       "</table>\n",
       "</div>"
      ],
      "text/plain": [
       "  subject day session motion  \\\n",
       "0   sub03  D3      S1     OH   \n",
       "1   sub03  D3      S1     OH   \n",
       "2   sub03  D3      S1     OH   \n",
       "3   sub03  D3      S1     OH   \n",
       "4   sub03  D3      S1     OH   \n",
       "\n",
       "                                          window_emg  \\\n",
       "0  [[0.4140625, 0.6015625, -0.203125, -0.2109375,...   \n",
       "1  [[0.2421875, -0.0546875, -0.0078125, 0.015625,...   \n",
       "2  [[-0.5546875, -0.125, -0.0625, -0.0234375, -0....   \n",
       "3  [[-0.1953125, -0.0625, -0.265625, -0.0234375, ...   \n",
       "4  [[0.0703125, -0.1484375, 0.171875, -0.015625, ...   \n",
       "\n",
       "                                                 mav  \\\n",
       "0  [0.26875, 0.1434375, 0.17390625, 0.03375, 0.03...   \n",
       "1  [0.2403125, 0.09796875, 0.135, 0.0196875, 0.02...   \n",
       "2  [0.153125, 0.1021875, 0.130625, 0.01890625, 0....   \n",
       "3  [0.12859375, 0.10546875, 0.10609375, 0.0170312...   \n",
       "4  [0.13140625, 0.1171875, 0.08609375, 0.01421875...   \n",
       "\n",
       "                                                  wl  \\\n",
       "0  [18.875, 10.3515625, 14.3125, 2.296875, 2.1562...   \n",
       "1  [18.3125, 6.9453125, 12.1015625, 1.4375, 2.218...   \n",
       "2  [11.6640625, 7.6328125, 12.078125, 1.3125, 1.9...   \n",
       "3  [9.609375, 8.34375, 8.875, 1.140625, 1.375, 5....   \n",
       "4  [9.59375, 9.6875, 6.8046875, 0.9296875, 1.1796...   \n",
       "\n",
       "                                ssc                                zc  \\\n",
       "0  [29, 27, 40, 29, 26, 29, 34, 42]  [24, 20, 30, 27, 18, 25, 35, 30]   \n",
       "1  [33, 31, 41, 29, 33, 28, 37, 34]  [28, 19, 35, 21, 26, 25, 36, 28]   \n",
       "2  [31, 31, 40, 29, 29, 25, 37, 25]  [29, 26, 37, 18, 25, 22, 29, 24]   \n",
       "3  [30, 32, 37, 34, 22, 28, 34, 30]  [30, 27, 32, 17, 16, 24, 26, 28]   \n",
       "4  [33, 32, 35, 33, 25, 32, 33, 35]  [26, 32, 28, 15, 16, 26, 30, 29]   \n",
       "\n",
       "                                                 mfl  \\\n",
       "0  [0.5745847396290436, 0.3028283336099577, 0.418...   \n",
       "1  [0.5382523100435087, 0.1411510968454964, 0.304...   \n",
       "2  [0.32113333361471874, 0.13323166812608592, 0.3...   \n",
       "3  [0.237026638143589, 0.1690389659258844, 0.2200...   \n",
       "4  [0.25211559711606946, 0.2316208764883889, 0.08...   \n",
       "\n",
       "                                                 rms  \\\n",
       "0  [0.33822621521143215, 0.19764235376052372, 0.2...   \n",
       "1  [0.29961726888231927, 0.12974866780385455, 0.1...   \n",
       "2  [0.1945422311157657, 0.12800108336943872, 0.17...   \n",
       "3  [0.16408853960019573, 0.1365601758955553, 0.14...   \n",
       "4  [0.16966260752041093, 0.14889731413376806, 0.1...   \n",
       "\n",
       "                                              sampen  \n",
       "0  [0.0, 0.0, 1.5668782980153044, 0.0, 0.0, 0.987...  \n",
       "1  [0.0, 0.0, 1.4043593685175295, 1.5668782980153...  \n",
       "2  [2.5223897430427407, 0.0, 0.0, 0.0, 2.26002547...  \n",
       "3  [1.9033505346365174, 0.0, 2.1546649629174235, ...  \n",
       "4  [0.6505875661411494, 0.0, 0.9129518306086403, ...  "
      ]
     },
     "execution_count": 288,
     "metadata": {},
     "output_type": "execute_result"
    }
   ],
   "source": [
    "df.head()"
   ]
  },
  {
   "cell_type": "markdown",
   "id": "f350b1a1-c3cf-4df1-b7d3-dbeb796f2df1",
   "metadata": {},
   "source": [
    "### Approximate Entropy (ApEn)"
   ]
  },
  {
   "cell_type": "code",
   "execution_count": null,
   "id": "6176669b-9942-4c85-af5b-da5108c14116",
   "metadata": {},
   "outputs": [],
   "source": []
  },
  {
   "cell_type": "markdown",
   "id": "e246597f-8ecf-4684-8613-433f12f7efa9",
   "metadata": {},
   "source": [
    "### Maximum Fractal Length (MFL)"
   ]
  },
  {
   "cell_type": "code",
   "execution_count": 217,
   "id": "6c880999-9cf4-4495-bbb9-60f0d21c1ccf",
   "metadata": {},
   "outputs": [
    {
     "data": {
      "text/plain": [
       "array([False, False, False,  True])"
      ]
     },
     "execution_count": 217,
     "metadata": {},
     "output_type": "execute_result"
    }
   ],
   "source": [
    "np.isneginf([1, 2, np.inf, -np.inf])"
   ]
  },
  {
   "cell_type": "code",
   "execution_count": 220,
   "id": "2adfc5cc-8957-4829-91ac-aeabe06eca3e",
   "metadata": {},
   "outputs": [],
   "source": [
    "def mfl(data):\n",
    "    \"\"\"\n",
    "    Calculate the log10 of the square-root\n",
    "    of the sum of the squared difference\n",
    "    of the entire signal data values\n",
    "    \"\"\"\n",
    "    res = np.log10(np.sqrt(np.sum(np.diff(data, axis=0)**2, axis=0)))\n",
    "    res[np.isneginf(res)] = 0. # TODO: confirm this imputation\n",
    "    return res"
   ]
  },
  {
   "cell_type": "code",
   "execution_count": 125,
   "id": "beabb43d-398b-4cd1-9933-85696c2514a0",
   "metadata": {},
   "outputs": [
    {
     "data": {
      "text/plain": [
       "(8,)"
      ]
     },
     "execution_count": 125,
     "metadata": {},
     "output_type": "execute_result"
    }
   ],
   "source": [
    "mfl(df.loc[0]['window_emg']).shape"
   ]
  },
  {
   "cell_type": "code",
   "execution_count": 221,
   "id": "77886a92-bcb7-4e1f-a121-0a4344393215",
   "metadata": {},
   "outputs": [
    {
     "name": "stderr",
     "output_type": "stream",
     "text": [
      "/var/folders/fg/wwsz02rn0qn31sz3qslnnjm80000gn/T/ipykernel_5496/2237827611.py:7: RuntimeWarning: divide by zero encountered in log10\n",
      "  res = np.log10(np.sqrt(np.sum(np.diff(data, axis=0)**2, axis=0)))\n"
     ]
    }
   ],
   "source": [
    "df['mfl'] = df.window_emg.apply(mfl)"
   ]
  },
  {
   "cell_type": "code",
   "execution_count": 223,
   "id": "9e7f3347-c0df-4e35-b49a-8bffac8d2921",
   "metadata": {},
   "outputs": [
    {
     "data": {
      "text/plain": [
       "(8,)"
      ]
     },
     "execution_count": 223,
     "metadata": {},
     "output_type": "execute_result"
    }
   ],
   "source": [
    "df.mfl[0].shape"
   ]
  },
  {
   "cell_type": "markdown",
   "id": "449f8f30-0345-4897-96b6-503c6a61c68e",
   "metadata": {},
   "source": [
    "### Root Mean Square (RMS)"
   ]
  },
  {
   "cell_type": "code",
   "execution_count": 122,
   "id": "ae86ae36-d8ce-4655-a539-3a13c26d8b6b",
   "metadata": {},
   "outputs": [],
   "source": [
    "def rms(data):\n",
    "    \"\"\"\n",
    "    Calculate the root mean square of the\n",
    "    entire signal data\n",
    "    \"\"\"\n",
    "    return np.sqrt(np.mean(data**2, axis=0))"
   ]
  },
  {
   "cell_type": "code",
   "execution_count": 123,
   "id": "21115243-503d-4ea6-b651-68b91497919b",
   "metadata": {},
   "outputs": [
    {
     "data": {
      "text/plain": [
       "(8,)"
      ]
     },
     "execution_count": 123,
     "metadata": {},
     "output_type": "execute_result"
    }
   ],
   "source": [
    "rms(df.loc[0]['window_emg']).shape"
   ]
  },
  {
   "cell_type": "code",
   "execution_count": 222,
   "id": "afc56235-7162-4a49-9edf-cdce293df0cc",
   "metadata": {},
   "outputs": [],
   "source": [
    "df['rms'] = df.window_emg.apply(rms)"
   ]
  },
  {
   "cell_type": "code",
   "execution_count": 224,
   "id": "bfb93feb-e010-4c76-b7c5-1d034b69f42a",
   "metadata": {},
   "outputs": [
    {
     "data": {
      "text/plain": [
       "(8,)"
      ]
     },
     "execution_count": 224,
     "metadata": {},
     "output_type": "execute_result"
    }
   ],
   "source": [
    "df.rms[0].shape"
   ]
  },
  {
   "cell_type": "markdown",
   "id": "8cfaffc3-bd82-4cb0-913e-fa863621e740",
   "metadata": {},
   "source": [
    "### Cepstral Coefficient (CC)"
   ]
  },
  {
   "cell_type": "code",
   "execution_count": 293,
   "id": "95cfd9ad-b857-4c53-b36f-abdf06a93313",
   "metadata": {},
   "outputs": [],
   "source": [
    "def cc(data, order=4):\n",
    "    \"\"\"\n",
    "    \n",
    "    \"\"\"\n",
    "    def _cc_window(window):\n",
    "        spectrum = np.fft.fft(window)\n",
    "        cepstrum = np.fft.ifft(np.log(np.abs(spectrum)))\n",
    "        return np.real(cepstrum[:order])\n",
    "    \n",
    "    return np.apply_along_axis(_cc_window, axis=0, arr=data)"
   ]
  },
  {
   "cell_type": "code",
   "execution_count": 295,
   "id": "f9a310ed-8207-476b-ba98-31949f21b5f4",
   "metadata": {},
   "outputs": [
    {
     "data": {
      "text/plain": [
       "array([-0.29256724,  0.10458447, -0.27049019,  0.08483695])"
      ]
     },
     "execution_count": 295,
     "metadata": {},
     "output_type": "execute_result"
    }
   ],
   "source": [
    "a = np.fft.fft(df.loc[0]['window_emg'][0])\n",
    "b = np.fft.ifft(np.log(np.abs(a)))\n",
    "np.real(b[:4])"
   ]
  },
  {
   "cell_type": "code",
   "execution_count": 296,
   "id": "b4da08b5-575e-4e20-93d6-187d56c42cc2",
   "metadata": {},
   "outputs": [
    {
     "data": {
      "text/plain": [
       "(4, 8)"
      ]
     },
     "execution_count": 296,
     "metadata": {},
     "output_type": "execute_result"
    }
   ],
   "source": [
    "cc(df.loc[0]['window_emg']).shape"
   ]
  },
  {
   "cell_type": "code",
   "execution_count": 304,
   "id": "8dccad28-ecca-4248-97a0-3c26a5cfe279",
   "metadata": {},
   "outputs": [
    {
     "name": "stderr",
     "output_type": "stream",
     "text": [
      "Sample Entropy Bar:   0%|                                                                                                                                                                                                                                                | 0/602910 [00:00<?, ?it/s]/var/folders/fg/wwsz02rn0qn31sz3qslnnjm80000gn/T/ipykernel_5496/2346512558.py:7: RuntimeWarning: divide by zero encountered in log\n",
      "  cepstrum = np.fft.ifft(np.log(np.abs(spectrum)))\n",
      "Sample Entropy Bar:   1%|██▋                                                                                                                                                                                                                                | 7269/602910 [00:00<01:02, 9537.71it/s]/opt/homebrew/Caskroom/miniforge/base/envs/emg-kcl/lib/python3.12/site-packages/numpy/fft/_pocketfft.py:94: RuntimeWarning: invalid value encountered in ifft\n",
      "  return ufunc(a, fct, axes=[(axis,), (), (axis,)], out=out)\n",
      "Sample Entropy Bar: 100%|████████████████████████████████████████████████████████████████████████████████████████████████████████████████████████████████████████████████████████████████████████████████████████████████████████████████████████████████| 602910/602910 [00:54<00:00, 11003.20it/s]\n"
     ]
    }
   ],
   "source": [
    "df['cc'] = df.window_emg.progress_apply(cc)"
   ]
  },
  {
   "cell_type": "code",
   "execution_count": 303,
   "id": "27d2a75a-d702-40d1-9c7d-24148a475cf6",
   "metadata": {},
   "outputs": [
    {
     "data": {
      "text/plain": [
       "array([[ 1.20682915e-01, -4.31064026e-01, -2.68057755e-01,\n",
       "        -2.02758318e+00, -1.75510934e+00, -7.75864354e-01,\n",
       "         4.15363006e-01, -2.82363852e-01],\n",
       "       [-1.43668177e-01, -2.75476765e-02, -3.27451515e-01,\n",
       "        -4.09764261e-02, -8.37505065e-02, -3.23295534e-02,\n",
       "        -3.15795716e-01, -3.10050201e-01],\n",
       "       [-7.43320022e-02,  1.34198712e-01, -2.94529651e-02,\n",
       "        -1.43173170e-01,  1.83097795e-03, -1.46372735e-01,\n",
       "         2.33716447e-01, -8.07544299e-02],\n",
       "       [ 2.35666463e-02,  3.71957430e-02, -1.05487050e-01,\n",
       "        -3.37275580e-02, -2.05216499e-01, -1.48701669e-01,\n",
       "         1.62382073e-01, -1.07381113e-01]])"
      ]
     },
     "execution_count": 303,
     "metadata": {},
     "output_type": "execute_result"
    }
   ],
   "source": [
    "cc(df.loc[2]['window_emg'])"
   ]
  },
  {
   "cell_type": "code",
   "execution_count": 309,
   "id": "b82825d4-1187-4910-8cdb-81a165aca70e",
   "metadata": {},
   "outputs": [],
   "source": [
    "file = open('df_features.pkl', 'wb')\n",
    "pickle.dump(df, file)\n",
    "file.close()"
   ]
  }
 ],
 "metadata": {
  "kernelspec": {
   "display_name": "Python 3 (ipykernel)",
   "language": "python",
   "name": "python3"
  },
  "language_info": {
   "codemirror_mode": {
    "name": "ipython",
    "version": 3
   },
   "file_extension": ".py",
   "mimetype": "text/x-python",
   "name": "python",
   "nbconvert_exporter": "python",
   "pygments_lexer": "ipython3",
   "version": "3.10.14"
  }
 },
 "nbformat": 4,
 "nbformat_minor": 5
}
